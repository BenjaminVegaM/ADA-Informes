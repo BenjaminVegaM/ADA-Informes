{
  "nbformat": 4,
  "nbformat_minor": 0,
  "metadata": {
    "colab": {
      "name": "InsertSort.ipynb",
      "provenance": [],
      "collapsed_sections": [],
      "authorship_tag": "ABX9TyM/tC4l+bxGoLFT091f6h0D",
      "include_colab_link": true
    },
    "kernelspec": {
      "name": "python3",
      "display_name": "Python 3"
    },
    "language_info": {
      "name": "python"
    }
  },
  "cells": [
    {
      "cell_type": "markdown",
      "metadata": {
        "id": "view-in-github",
        "colab_type": "text"
      },
      "source": [
        "<a href=\"https://colab.research.google.com/github/BenjaminVegaM/ADA-Informes/blob/main/InsertSort.ipynb\" target=\"_parent\"><img src=\"https://colab.research.google.com/assets/colab-badge.svg\" alt=\"Open In Colab\"/></a>"
      ]
    },
    {
      "cell_type": "markdown",
      "source": [
        "# 1. Problema de ordenamiento\n",
        "\n",
        "**Entrada**: Secuencia de n números $[a_1,a_2,...,a_n]$\n",
        "\n",
        "**Salida**: Permutación ordenada de la secuencia de entrada: $[a_1',a_2',...,a_n']$, de tal manera que $a_1'\\leq a_2' \\leq... \\leq a_n'$.\n",
        "\n",
        "Los algoritmos de ordenamiento son utilizados para ordenar, comunmente de menor a mayor, un conjunto de valores numéricos desordenados."
      ],
      "metadata": {
        "id": "ThAKXMIMWAt6"
      }
    },
    {
      "cell_type": "markdown",
      "source": [
        "# 2. InsertSort\n",
        "El siguiente código muestra una implementación del algoritmo **InsertSort**.\n"
      ],
      "metadata": {
        "id": "3Fbd_eBjWmZN"
      }
    },
    {
      "cell_type": "markdown",
      "source": [
        "## 2.1. Código"
      ],
      "metadata": {
        "id": "YEpqja9CXis4"
      }
    },
    {
      "cell_type": "code",
      "source": [
        "def insert_sort(a, verbose=False):\n",
        "    counter = 0\n",
        "    lenght = len(a)\n",
        "\n",
        "    if verbose == True: print(\"input array:\", a)\n",
        "\n",
        "    for i in range(1,lenght):\n",
        "        c = i\n",
        "        if verbose == True: print(\"\\nIteración\",i)\n",
        "        while a[c] < a[c-1] and c > 0:\n",
        "            counter+=1\n",
        "            a[c], a[c-1] = a[c-1], a[c]\n",
        "            c-=1\n",
        "            if verbose == True: print(\"\\n\",a)\n",
        "        if verbose == True: print(\"\\nFin de la iteración\",i)\n",
        "    return a, counter\n",
        "\n",
        "# Ejemplo\n",
        "a = [5,8,7,1,3]\n",
        "print(\"Entrada: \",a)\n",
        "a, counter = insert_sort(a)\n",
        "print(\"Salida: \",a)\n",
        "print(\"Número de Movimientos:\", counter)"
      ],
      "metadata": {
        "colab": {
          "base_uri": "https://localhost:8080/"
        },
        "id": "xWckFoy6ZfcS",
        "outputId": "e02a82e6-6860-4dbb-ac75-9ac55c9f9399"
      },
      "execution_count": 99,
      "outputs": [
        {
          "output_type": "stream",
          "name": "stdout",
          "text": [
            "Entrada:  [5, 8, 7, 1, 3]\n",
            "Salida:  [1, 3, 5, 7, 8]\n",
            "Número de Movimientos: 7\n"
          ]
        }
      ]
    },
    {
      "cell_type": "markdown",
      "source": [
        "## 2.2. Descripción del Algoritmo\n",
        "El algoritmo recibe como entrada un arreglo de $n$ números que se quieren ordenar, luego los números son comparados y ordenados uno a uno hasta que todos estén ordenados:\n",
        "\n",
        "1. Por cada posición del arreglo, el algoritmo realiza una iteración en la cual compara el elemento actual con el que está directamente antes. Ya que el primer elemento no tiene con qué compararse, se empieza desde el segundo.\n",
        "\n",
        "2. Si el elemento actual es menor que el anterior, ambos elementos intercambian valores y se vuelve a iterar este paso hasta que la condición no se cumpla.\n",
        "\n",
        "3. Luego se continúa con el elemento de la siguiente posición y se realiza el paso 2 nuevamente hasta pasar por cada elemento.\n",
        "\n",
        "4. Al final, se retorna el arreglo ordenado y un contador de los movimientos realizados.\n",
        "\n",
        "Cuando la variable `verbose` es `True` se muestra información para ver lo que pasa paso a paso dentro de la función."
      ],
      "metadata": {
        "id": "m3Zw-m_hXqxz"
      }
    },
    {
      "cell_type": "markdown",
      "source": [
        "## 2.3. Ejemplo\n",
        "\n",
        "Consideremos, por ejemplo, el arreglo:\n",
        "\n",
        "$a=[2,1,7,5,3]$\n",
        "\n",
        "Primero revisa el segundo elemento (1) y lo compara con el primer elemento (2), ya que este es menor ambos se intercambian posiciones:\n",
        "\n",
        "$a=[1,2,7,5,3]$\n",
        "\n",
        "Luego se revisa el siguiente elemento (7) y se compara con el anterior, como este es mayor no se realiza cambio:\n",
        "\n",
        "$a=[1,2,7,5,3]$\n",
        "\n",
        "Se continúa a revisar el elemento (5) y ya que este es menor se intercambia con el anterior:\n",
        "\n",
        "$a=[1,2,5,7,3]$\n",
        "\n",
        "Se compara nuevamente (5), esta vez con (3), pero este no es menor asi que no se realiza cambio.\n",
        "\n",
        "$a=[1,2,5,7,3]$\n",
        "\n",
        "Finalmente se revisa el quinto elemento (3) y se compara con el cuarto elemento (7), ya que este es menor se intercambian:\n",
        "\n",
        "$a=[1,2,5,3,7]$\n",
        "\n",
        "Se vuelve a comparar, esta vez el elemento actual (3) con el anterior (5), y ya que es menor se intercambian posiciones:\n",
        "\n",
        "$a=[1,2,3,5,7]$\n",
        "\n",
        "Como el elemento actual no es menor que su anterior se continúa, y como este era el último elemento el algoritmo finaliza y muestra el arreglo ordenado."
      ],
      "metadata": {
        "id": "hMQhgqeoX8AK"
      }
    },
    {
      "cell_type": "markdown",
      "source": [
        "## 2.4. Ejecución del Algoritmo Paso a Paso (verbose = True)\n",
        "\n",
        "Al utilizar la opción `verbose=True` se puede ver paso a paso lo que le ocurre al arreglo en cada iteración del algoritmo."
      ],
      "metadata": {
        "id": "2vcJc3vGX-uq"
      }
    },
    {
      "cell_type": "code",
      "source": [
        "a = [9,3,4,1,7]\n",
        "print(\"Entrada: \",a)\n",
        "a, counter = insert_sort(a,True)\n",
        "print(\"\\nSalida: \",a)\n",
        "print(\"Número de movimientos:\", counter)"
      ],
      "metadata": {
        "colab": {
          "base_uri": "https://localhost:8080/"
        },
        "id": "7kP8RJSGeO-S",
        "outputId": "b8475349-26ab-4018-f507-2defdd4f50ad"
      },
      "execution_count": 101,
      "outputs": [
        {
          "output_type": "stream",
          "name": "stdout",
          "text": [
            "Entrada:  [9, 3, 4, 1, 7]\n",
            "input array: [9, 3, 4, 1, 7]\n",
            "\n",
            "Iteración 1\n",
            "\n",
            " [3, 9, 4, 1, 7]\n",
            "\n",
            "Fin de la iteración 1\n",
            "\n",
            "Iteración 2\n",
            "\n",
            " [3, 4, 9, 1, 7]\n",
            "\n",
            "Fin de la iteración 2\n",
            "\n",
            "Iteración 3\n",
            "\n",
            " [3, 4, 1, 9, 7]\n",
            "\n",
            " [3, 1, 4, 9, 7]\n",
            "\n",
            " [1, 3, 4, 9, 7]\n",
            "\n",
            "Fin de la iteración 3\n",
            "\n",
            "Iteración 4\n",
            "\n",
            " [1, 3, 4, 7, 9]\n",
            "\n",
            "Fin de la iteración 4\n",
            "\n",
            "Salida:  [1, 3, 4, 7, 9]\n",
            "Número de movimientos: 6\n"
          ]
        }
      ]
    },
    {
      "cell_type": "markdown",
      "source": [
        "# 3. Tiempo de ejecución\n",
        "\n",
        "### **Teorema (Tiempo de ejecución).**\n",
        "\n",
        "*El algoritmo **InsertSort** tiene un **tiempo de ejecución de** $O(n^2)$ en el peor caso.*\n",
        "\n",
        "## Prueba del teorema\n",
        "\n",
        "Al observar el algoritmo, se observa que el **peor caso**, es decir el que toma más tiempo, ocurre cuando el arreglo de entrada está ordenado de mayor a menor. En este caso se debería mover cada elemento $i-1$ veces, siendo $i$ la posición del elemento actual al momento de ser agregado, de esta manera los elementos quedarían ordenados.\n",
        "\n",
        "## Ejemplo"
      ],
      "metadata": {
        "id": "ug_5xirMYMrj"
      }
    },
    {
      "cell_type": "code",
      "source": [
        "a = [6,5,4,3,2]\n",
        "print(\"Entrada: \",a)\n",
        "a, counter = insert_sort(a,True)\n",
        "print(\"\\nSalida: \",a)\n",
        "print(\"Número de movimientos:\", counter)"
      ],
      "metadata": {
        "colab": {
          "base_uri": "https://localhost:8080/"
        },
        "id": "Dz6JkgfgjQtD",
        "outputId": "997708a0-fc20-4cca-fe69-4c3afae449fd"
      },
      "execution_count": 102,
      "outputs": [
        {
          "output_type": "stream",
          "name": "stdout",
          "text": [
            "Entrada:  [6, 5, 4, 3, 2]\n",
            "input array: [6, 5, 4, 3, 2]\n",
            "\n",
            "Iteración 1\n",
            "\n",
            " [5, 6, 4, 3, 2]\n",
            "\n",
            "Fin de la iteración 1\n",
            "\n",
            "Iteración 2\n",
            "\n",
            " [5, 4, 6, 3, 2]\n",
            "\n",
            " [4, 5, 6, 3, 2]\n",
            "\n",
            "Fin de la iteración 2\n",
            "\n",
            "Iteración 3\n",
            "\n",
            " [4, 5, 3, 6, 2]\n",
            "\n",
            " [4, 3, 5, 6, 2]\n",
            "\n",
            " [3, 4, 5, 6, 2]\n",
            "\n",
            "Fin de la iteración 3\n",
            "\n",
            "Iteración 4\n",
            "\n",
            " [3, 4, 5, 2, 6]\n",
            "\n",
            " [3, 4, 2, 5, 6]\n",
            "\n",
            " [3, 2, 4, 5, 6]\n",
            "\n",
            " [2, 3, 4, 5, 6]\n",
            "\n",
            "Fin de la iteración 4\n",
            "\n",
            "Salida:  [2, 3, 4, 5, 6]\n",
            "Número de movimientos: 10\n"
          ]
        }
      ]
    },
    {
      "cell_type": "markdown",
      "source": [
        "En este caso cada elemento fue comparado $i-1$ veces, es decir fue comparado e intercambiado el máximo número de veces posible para su posición, con un total de 10 movimientos para un arreglo de 5 elementos, siendo este el peor caso posible.\n",
        "\n",
        "En el caso general se deberán realizar $\\sum\\limits_{i=1}^{n} i-1$ movimientos, cuya formula es $\\frac{n(n-1)}{2}$."
      ],
      "metadata": {
        "id": "8TGWqdyEkCpm"
      }
    },
    {
      "cell_type": "markdown",
      "source": [
        "# 4. Correctitud\n",
        "\n",
        "## 4.1. Teorema (Correctitud)\n",
        "\n",
        "El algoritmo **InsertSort** genera un arreglo $[a_1', a_2', a_3', ... , a_n']$ con los mismos elementos de entrada $[a_1, a_2, a_3, ..., a_n]$, ordenados de menor a mayor, es decir $a_1'\\leq a_2' \\leq  a_3' \\leq... \\leq a_n'$.\n",
        "\n",
        "## 4.2. Prueba del Teorema\n",
        "\n",
        "Previamente observamos que en cada iteración de InsertionSort, si estamos en una posición i, revisamos si el elemento está en el lugar correcto.\n",
        "\n",
        "> Al comienzo de cada iteración del bucle mayor, el sub arreglo formado por los elementos  $[a[0],...,a[i−1]]$  contiene los mismos elementos que el arreglo original  $[a_1,a_2,a_3,...,a[i−1]]$  pero ordenados de menor a mayor y el resto del arreglo $a[i, i+1, ..., n-1]$ corresponde al resto de elementos que no se han ordenado aún.\n",
        "\n",
        "### Inicialización\n",
        "\n",
        "Empezamos con $i = 1$, por lo tanto, $a[0..i-1]$ corresponde al primer elemento del arreglo $a[0]$, que está encuentra trivialmente ordenado.\n",
        "\n",
        "\n",
        "### Mantención\n",
        "\n",
        "Para esto revismos la i-ésima iteración. Con esto asumimos que antes de comenzar la iteración, el arreglo $a[0..i-1]$ se encuentra ordenado y contiene los elementos del arreglo original.\n",
        "\n",
        "Durante la iteración, en el caso de que el elemento de la posición $i$ no esté en el lugar correcto, lo “movemos” desde la posición $i$ hasta su posición correcta. Por lo que, después de hacer eso, el arreglo $a[0..i]$ también contendrá los elementos del arreglo original (ya que agregamos el i-ésimo elemento) y estará ordenado.\n",
        "\n",
        "### Correctitud\n",
        "\n",
        "Finalmente, como la propiedad de bucle invariante es verdadera al incio del bucle y se mantiene en cada iteración, podemos decir que al finalizar la n-ésima iteración del algoritmo, se que genera un arreglo $[a_1',a_2',...,a_n']$, con los mismos elementos del arreglo de entrada ordenados de menor a mayor.\n"
      ],
      "metadata": {
        "id": "8ktEExN6YXF9"
      }
    },
    {
      "cell_type": "markdown",
      "source": [
        "# 5. Experimentos\n",
        "\n",
        "## 5.1. Número de movimientos\n",
        "\n",
        "La gráfica de acontinuación muestra una comparación entre:\n",
        "\n",
        "* la cantidad de movimientos realizados en el peor caso calculadas matemáticamente,\n",
        "* la cantidad de movimientos realizados en el mejor caso calculadas matemáticamente\n",
        "* y la cantidad de movimientos realizados en casos de prueba realizados con entradas aleatorias\n",
        "\n",
        "para problemas con arreglos de entrada de largo $n \\in [5,20]$ en los cuales el valor de los elementos es elejido aleatoriamente desde un conjunto de números entre 1 y 100."
      ],
      "metadata": {
        "id": "owej6N7EYuD1"
      }
    },
    {
      "cell_type": "code",
      "source": [
        "import matplotlib.pyplot as plt\n",
        "import random\n",
        "\n",
        "x=[n for n in range(5,21)]\n",
        "# Peor Caso\n",
        "y1=[n*(n-1)/2 for n in range(5,21)]\n",
        "# Mejor caso\n",
        "y2=[0 for n in range(5,21)]\n",
        "# Muestras\n",
        "y=[]; \n",
        "\n",
        "for n in range(5,21):\n",
        "  a = random.sample(range(1, 100), n)\n",
        "  a,counter = insert_sort(a)\n",
        "  y.append(counter)\n",
        "\n",
        "plt.plot(x,y)\n",
        "plt.plot(x,y1)\n",
        "plt.plot(x,y2)\n",
        "plt.legend([\"Muestras\", \"Peor caso teórico\", \"Mejor caso teórico\"])\n",
        "\n",
        "plt.xlabel('Largo del arreglo')\n",
        "plt.ylabel('Número de operaciones')\n",
        "plt.show()"
      ],
      "metadata": {
        "colab": {
          "base_uri": "https://localhost:8080/",
          "height": 279
        },
        "id": "_cGWed1ilULE",
        "outputId": "36180078-6307-4ea4-fd32-dc58b3746430"
      },
      "execution_count": 106,
      "outputs": [
        {
          "output_type": "display_data",
          "data": {
            "text/plain": [
              "<Figure size 432x288 with 1 Axes>"
            ],
            "image/png": "[encoded data removed]"
          },
          "metadata": {
            "needs_background": "light"
          }
        }
      ]
    },
    {
      "cell_type": "markdown",
      "source": [
        "### Analisis del gráfico\n",
        "\n",
        "Los resultados que muestra el grafico indican que la cantidad de movimientos (operaciones) en promedio se mantienen en un rango igualado entre el mejor y el peor caso posible. Esto significa que para casos de pocos elementos es un algoritmo bueno y útil, pero mientras más grande es el arreglo más se alejará del mejor caso."
      ],
      "metadata": {
        "id": "WCNYMMMwMS2Z"
      }
    },
    {
      "cell_type": "markdown",
      "source": [
        "## 5.2. Tiempo de ejecución experimental"
      ],
      "metadata": {
        "id": "7qrJSW1oNRPx"
      }
    },
    {
      "cell_type": "code",
      "source": [
        "import datetime\n",
        "from timeit import repeat\n",
        "\n",
        "x=[];\n",
        "y=[];\n",
        "\n",
        "for n in range(5,500):\n",
        "  a = random.sample(range(1, 1000), n)\n",
        "\n",
        "  #la función repeat está ejecutando 20 veces incert_sort con el arreglo a y retorna el mejor tiempo obtenido.\n",
        "  t = repeat(setup=\"from __main__ import insert_sort\", stmt=f\"insert_sort({a})\", repeat=1, number=10)\n",
        "\n",
        "  x.append(n)\n",
        "  y.append(t)\n",
        "\n",
        "\n",
        "plt.plot(x,y)\n",
        "plt.legend([\"IncertSort\"])\n",
        "\n",
        "plt.xlabel('n')\n",
        "plt.ylabel('Tiempo en milisegundos')\n",
        "plt.show()"
      ],
      "metadata": {
        "colab": {
          "base_uri": "https://localhost:8080/",
          "height": 279
        },
        "id": "dMGQGbLtNZ9n",
        "outputId": "46fbf821-b481-4dc3-e0d9-6cd23728e42b"
      },
      "execution_count": 110,
      "outputs": [
        {
          "output_type": "display_data",
          "data": {
            "text/plain": [
              "<Figure size 432x288 with 1 Axes>"
            ],
            "image/png": "[encoded data removed]"
          },
          "metadata": {
            "needs_background": "light"
          }
        }
      ]
    },
    {
      "cell_type": "markdown",
      "source": [
        "### Análisis del gráfico\n",
        "\n",
        "Del gráfico se puede ver que al igual que en el análisis teórico, el tiempo de ejecución experimental se comporta de manera cuadrádica en relación al tamaño del arreglo de entrada.\n",
        "\n",
        "Cabe notar que existen un par de puntos muy altos en la gráfica los cuales son probablemente debidos al comportamiento impredecible de los procesadores y quizás a otros procesos que también lo están ocupando."
      ],
      "metadata": {
        "id": "V5Uwl5kZOe7h"
      }
    }
  ]
}