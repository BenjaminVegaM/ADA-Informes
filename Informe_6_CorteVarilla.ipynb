{
  "nbformat": 4,
  "nbformat_minor": 0,
  "metadata": {
    "colab": {
      "provenance": [],
      "collapsed_sections": [
        "ThAKXMIMWAt6",
        "rCtEEcr6aV4G",
        "hMQhgqeoX8AK",
        "wqsr8TPVXqNE",
        "H7SJBmv5aO_u",
        "zp478AVMdFd1"
      ],
      "authorship_tag": "ABX9TyOQa9S6aUIIGt7pXzaegeqo",
      "include_colab_link": true
    },
    "kernelspec": {
      "name": "python3",
      "display_name": "Python 3"
    },
    "language_info": {
      "name": "python"
    }
  },
  "cells": [
    {
      "cell_type": "markdown",
      "metadata": {
        "id": "view-in-github",
        "colab_type": "text"
      },
      "source": [
        "<a href=\"https://colab.research.google.com/github/BenjaminVegaM/ADA-Informes/blob/main/Informe_6_CorteVarilla.ipynb\" target=\"_parent\"><img src=\"https://colab.research.google.com/assets/colab-badge.svg\" alt=\"Open In Colab\"/></a>"
      ]
    },
    {
      "cell_type": "markdown",
      "source": [
        "# 1. Problema de optimización\n",
        "\n",
        "**Entrada**: Largo de varilla $n$, vector de precios por cada medida $i=1..n$.\n",
        "\n",
        "**Salida**:  Retorno máximo $r_n$ que se puede obtener cortando la varilla y vendiendo las partes."
      ],
      "metadata": {
        "id": "ThAKXMIMWAt6"
      }
    },
    {
      "cell_type": "markdown",
      "source": [
        "# 2. Corte de Varilla (recursivo)\n",
        "\n",
        "El siguiente código muestra una implementación del algoritmo **CorteVarillas** de manera recursiva."
      ],
      "metadata": {
        "id": "1i-cNFqvo6Hm"
      }
    },
    {
      "cell_type": "markdown",
      "source": [
        "## 2.1 Código de Corte de Varilla Recursivo"
      ],
      "metadata": {
        "id": "mdIFGMl5aOBs"
      }
    },
    {
      "cell_type": "code",
      "source": [
        "import random\n",
        "# CutRod recursivo\n",
        "def corteVarillaRecursivo(n, precios, cortes = 0, recursiones = 0, verbose = False):\n",
        "    if verbose == True: print(\"\\n N =\",n)\n",
        "    if n <= 1: return precios[n], cortes, recursiones\n",
        "    if verbose == True: print(\"Valor varilla completa =\", valor)\n",
        "    precioMayor = 0\n",
        "    nuevosCortes = 0\n",
        "    for i in range(1, n):\n",
        "        if verbose == True: print(\"Calculando derecha\")\n",
        "        recursiones+=1\n",
        "        precioDer, cortesDer, recursiones = corteVarillaRecursivo((n-i), precios, cortes, recursiones, verbose)\n",
        "        if verbose == True: print(\"PrecioDer\", precioDer)\n",
        "\n",
        "        if verbose == True: print(\"Comparando PrecioMayor anterior con nueva suma\\n\", precioMayor, precioDer + precios[i])\n",
        "\n",
        "        if (precios[i]+precioDer) > precioMayor:\n",
        "            if verbose == True: print(\"Nuevo precio es mayor\")\n",
        "            precioMayor = precios[i] + precioDer\n",
        "            nuevosCortes = cortesDer + 1\n",
        "        if verbose == True: print(\"precioMayor\", precioMayor)\n",
        "    \n",
        "    if verbose == True: print(\"Retornando Valor o PrecioMayor\\n\",valor, precioMayor)\n",
        "    if precioMayor > precios[n]:\n",
        "        if verbose == True: print(\"precioMayor es Mayor\")\n",
        "        return precioMayor, cortes+nuevosCortes, recursiones\n",
        "\n",
        "    return precios[n], cortes, recursiones"
      ],
      "metadata": {
        "id": "GgJDMHUHpTJ9"
      },
      "execution_count": 2,
      "outputs": []
    },
    {
      "cell_type": "code",
      "source": [
        "# Ejemplo\n",
        "precios = [0, 3, 5, 8, 9, 10, 17, 17, 20]\n",
        "n = 8\n",
        "recursiones = 0\n",
        "print(\"Entrada:\")\n",
        "print(\"n =\", n)\n",
        "print(\"Precios =\", precios)\n",
        "valor, cortes, recursiones = corteVarillaRecursivo(n, precios, 0, recursiones, False)\n",
        "print(\"\\nSalida:\")\n",
        "print(\"Valor máximo\",valor)\n",
        "print(\"Cortes: \",cortes)\n",
        "print(\"Número de Recursiones:\", recursiones)"
      ],
      "metadata": {
        "colab": {
          "base_uri": "https://localhost:8080/"
        },
        "id": "KQSItvmoy5V9",
        "outputId": "d40b2b17-5213-4bbd-81be-449dc3622eb0"
      },
      "execution_count": 3,
      "outputs": [
        {
          "output_type": "stream",
          "name": "stdout",
          "text": [
            "Entrada:\n",
            "n = 8\n",
            "Precios = [0, 3, 5, 8, 9, 10, 17, 17, 20]\n",
            "\n",
            "Salida:\n",
            "Valor máximo 24\n",
            "Cortes:  7\n",
            "Número de Recursiones: 127\n"
          ]
        }
      ]
    },
    {
      "cell_type": "markdown",
      "source": [
        "## 2.2. Descripción del algoritmo\n",
        "\n",
        "El algoritmo **Corte de Varilla (recursivo)** recibe como entrada un entero $n$ que representa el largo de la varilla y un arreglo de precios $P$, donde $P[i]$ con $i \\in R$ es el precio de una varilla de largo $i$, luego:\n",
        "\n",
        "1. Verifica si el largo de la varilla es igual o menor a $1$, si es así retorna el precio $P[n]$.\n",
        "\n",
        "2. De lo contrario comienza a probar cortando la varilla en todas las posibles convinaciones, empezando en 1 corte y realizando hasta $n-1$ cortes y llamandose recursivamente para cada corte.\n",
        "\n",
        "3. En cada combinación y corte se evalúa el Valor Total que costaría la varilla de venderse en ese estado, y el Valor Total máximo es devuelto en cada caso.\n",
        "\n",
        "4. Finalmente se retorna el Valor Total máximo y el número de cortes que se deben realizar para obtenerlo.\n",
        "\n",
        "> Cuando la variable `verbose` es `True` se muestra información para ver lo que pasa a medida que se ejecuta el código dentro de la función."
      ],
      "metadata": {
        "id": "rCtEEcr6aV4G"
      }
    },
    {
      "cell_type": "markdown",
      "source": [
        "# 3. Corte de Varilla (dinámico)\n",
        "\n",
        "El siguiente código muestra una implementación del algoritmo **CorteVarillas** de manera dinámica."
      ],
      "metadata": {
        "id": "IPfxz2eqi6_e"
      }
    },
    {
      "cell_type": "markdown",
      "source": [
        "## 3.1. Código de Corte de Varilla dinámico"
      ],
      "metadata": {
        "id": "te8E6zwujcsk"
      }
    },
    {
      "cell_type": "code",
      "source": [
        "# CutRod dinámico\n",
        "def corteVarillaDinamico(n, precios, cortes = 0, verbose = False):\n",
        "    arregloValores = [0 for x in range(n+1)]\n",
        "    arregloCortes = [0 for x in range(n+1)]\n",
        "\n",
        "    if verbose == True: print(\"arregloValores =\", arregloValores)\n",
        "\n",
        "    if verbose == True: print(\"\\nEntrando primer for\")\n",
        "    for i in range(1, n+1):\n",
        "        if verbose == True: print(\"\\ni =\", i)\n",
        "        valorMaximo = 0\n",
        "        cortes = 0\n",
        "\n",
        "        if verbose == True: print(\"\\nEntrando segundo for\")\n",
        "        for j in range(1, i+1):\n",
        "            if verbose == True: print(\"\\nj =\", j)\n",
        "            if verbose == True: print(\"Valor Máximo Actual =\", valorMaximo)\n",
        "            if verbose == True: print(\"Precios[j] =\", precios[j])\n",
        "            if verbose == True: print(\"arregloValores[i\",i,\"- j\",j,\"] =\", arregloValores[i-j])\n",
        "            if verbose == True: print(precios[j],\"+\", arregloValores[i-j],\"=\", precios[j] + arregloValores[i-j])\n",
        "            if (precios[j] + arregloValores[i-j]) > valorMaximo:\n",
        "                if verbose == True: print(\"Valor máximo es menor\")\n",
        "                valorMaximo = (precios[j] + arregloValores[i-j])\n",
        "            if verbose == True: print(\"Nuevo Valor Máximo =\", valorMaximo)\n",
        "\n",
        "        arregloValores[i] = valorMaximo\n",
        "        if verbose == True: print(\"Vm / p[i]\")\n",
        "        if verbose == True: print(valorMaximo, precios[i])\n",
        "        if valorMaximo != precios[i]:\n",
        "            if verbose == True: print(\"No se utiliza la varilla completa\")\n",
        "            arregloCortes[i] = (arregloCortes[i-1] + 1)\n",
        "        if verbose == True: print(\"arregloValores actual =\", arregloValores)\n",
        "        if verbose == True: print(\"arregloCortes actual =\", arregloCortes)\n",
        "    return arregloValores[n], arregloCortes[n]"
      ],
      "metadata": {
        "id": "oGJLvK--jAxG"
      },
      "execution_count": 4,
      "outputs": []
    },
    {
      "cell_type": "code",
      "source": [
        "# Ejemplo\n",
        "precios = [0, 1, 5, 8, 9, 10, 17, 17, 20]\n",
        "n = 8\n",
        "print(\"Entrada:\")\n",
        "print(\"n =\", n)\n",
        "print(\"Precios =\", precios)\n",
        "print(\"\")\n",
        "valor, cortes = corteVarillaDinamico(n, precios, 0, False)\n",
        "print(\"\\nSalida:\")\n",
        "print(\"Valor máximo\",valor)\n",
        "print(\"Cortes: \",cortes)"
      ],
      "metadata": {
        "colab": {
          "base_uri": "https://localhost:8080/"
        },
        "id": "JdAkFYjoVdq_",
        "outputId": "a6f5c0d0-7ee9-4bce-8bf2-c8b6fca50b7c"
      },
      "execution_count": 5,
      "outputs": [
        {
          "output_type": "stream",
          "name": "stdout",
          "text": [
            "Entrada:\n",
            "n = 8\n",
            "Precios = [0, 1, 5, 8, 9, 10, 17, 17, 20]\n",
            "\n",
            "\n",
            "Salida:\n",
            "Valor máximo 22\n",
            "Cortes:  2\n"
          ]
        }
      ]
    },
    {
      "cell_type": "markdown",
      "source": [
        "Descripción del algoritmo\n",
        "\n",
        "El algoritmo **Corte de Varilla (dinámico)** recibe como entrada un entero $n$ que representa el largo de la varilla y un arreglo de precios $P$, donde $P[i]$ con $i \\in R$ es el precio de una varilla de largo $i$, luego:\n",
        "\n",
        "1. Crea e inicializa un arreglo de largo $n$ inicializado en ceros en el que se almacenarán los valores ya obtenidos a lo largo del algoritmo.\n",
        "\n",
        "2. Luego comienza un ciclo desde 1 hasta n (inclusivos) \n",
        "\n",
        "3. En cada combinación y corte se evalúa el Valor Total que costaría la varilla de venderse en ese estado, y el Valor Total máximo es devuelto en cada caso.\n",
        "\n",
        "4. Finalmente se retorna el Valor Total máximo y el número de cortes que se deben realizar para obtenerlo.\n",
        "\n",
        "> Cuando la variable `verbose` es `True` se muestra información para ver lo que pasa a medida que se ejecuta el código dentro de la función."
      ],
      "metadata": {
        "id": "y7FYdww7jhhG"
      }
    },
    {
      "cell_type": "markdown",
      "source": [
        "## 3.3. Ejemplo\n",
        "\n",
        "Consideremos, por ejemplo, el arreglo de precios $P$ y el largo de varilla $n$:\n",
        "\n",
        "$P = [0, 1, 5, 8, 9]$\n",
        "\n",
        "$n = 4$\n",
        "\n",
        "Primero verifica si el largo de la varilla es igual o menor a 1, en cuyo caso retornaría $P[n]$, sin embargo este no es el caso por lo cual continúa:\n",
        "\n",
        "Crea un arreglo $ArregloValores$ de largo $n+1$, es decir 5, e inicializa el primer valor en $0$.\n",
        "\n",
        "Luego entra en un ciclo donde una variable $i$ va desde $1$ hasta $n = 4$ (ambos inclusivos):\n",
        "\n",
        "En la primera iteración del primer ciclo, $i = 1$, se inicializa una variable llamada $ValorMaximo$ en $0$.\n",
        "\n",
        "Después se entra en un nuevo ciclo donde una variable $j$ va desde $1$ hasta $i$ (ambos inclusivos):\n",
        "\n",
        "En la primera iteración del segundo ciclo se obtiene la suma entre $P[j] = P[1] = 1$ y $ArregloValores[i-j] = ArregloValores[1-1] = 0$, lo cual da $1$; como esto es mayor al valor actual de $ValorMaximo$ este pasa a ser el nuevo valor de $ValorMaximo$.\n",
        "\n",
        "Se termina el ciclo y se asigna el valor actual de $ValorMaximo$ a $ArregloValores[i]$:\n",
        "\n",
        "$ArregloValores = [0, 1, 0, 0, 0]$\n",
        "\n",
        "Se entra en la segunda iteración del primer ciclo, donde $i = 2$:\n",
        "\n",
        "$ValorMaximo$ vuelve a valer $0$ y se entra en el segundo ciclo:\n",
        "\n",
        "$j = 1$, se obtiene la suma entre $P[j] = P[1] = 1$ y $ArregloValores[i-j] = ArregloValores[2-1] = 1$, lo cual da $2$; como esto es mayor al valor actual de $ValorMaximo$ este pasa a ser el nuevo valor de $ValorMaximo$.\n",
        "\n",
        "Ahora $j = 2$, se obtiene la suma entre $P[j] = P[2] = 5$ y $ArregloValores[i-j] = ArregloValores[2-2] = 0$, lo cual da $5$; como esto es mayor al valor actual de $ValorMaximo$ este pasa a ser el nuevo valor de $ValorMaximo$.\n",
        "\n",
        "Se termina el ciclo y se asigna el valor actual de $ValorMaximo$ a $ArregloValores[i]$:\n",
        "\n",
        "$ArregloValores = [0, 1, 5, 0, 0]$\n",
        "\n",
        "A partir de aquí se repite el mismo proceso para $i = 3$ e $i = 4$. Realizando esto nos deja lo siguiente:\n",
        "\n",
        "$ArregloValores = [0, 1, 5, 8, 10]$\n",
        "\n",
        "Ambos ciclos terminan por lo cual el programa retorna $ArregloValores[n] = 10$."
      ],
      "metadata": {
        "id": "hMQhgqeoX8AK"
      }
    },
    {
      "cell_type": "markdown",
      "source": [
        "## 3.4. Ejecución del Algoritmo Paso a Paso (verbose = True)\n",
        "\n",
        "Al utilizar la opción `verbose=True` se puede ver paso a paso lo que le ocurre al arreglo en cada iteración del algoritmo."
      ],
      "metadata": {
        "id": "wqsr8TPVXqNE"
      }
    },
    {
      "cell_type": "code",
      "source": [
        "# Ejemplo\n",
        "precios = [0, 1, 5, 8, 9]\n",
        "n = 4\n",
        "print(\"Entrada:\")\n",
        "print(\"n =\", n)\n",
        "print(\"Precios =\", precios)\n",
        "print(\"\")\n",
        "valor, cortes = corteVarillaDinamico(n, precios, 0, True)\n",
        "print(\"\\nSalida:\")\n",
        "print(\"Valor máximo\",valor)\n",
        "print(\"Cortes: \",cortes)"
      ],
      "metadata": {
        "colab": {
          "base_uri": "https://localhost:8080/"
        },
        "id": "8mb_Y42zaAyo",
        "outputId": "11b2a949-942d-4b77-f48c-7f5f23954a1a"
      },
      "execution_count": 8,
      "outputs": [
        {
          "output_type": "stream",
          "name": "stdout",
          "text": [
            "Entrada:\n",
            "n = 4\n",
            "Precios = [0, 1, 5, 8, 9]\n",
            "\n",
            "arregloValores = [0, 0, 0, 0, 0]\n",
            "\n",
            "Entrando primer for\n",
            "\n",
            "i = 1\n",
            "\n",
            "Entrando segundo for\n",
            "\n",
            "j = 1\n",
            "Valor Máximo Actual = 0\n",
            "Precios[j] = 1\n",
            "arregloValores[i 1 - j 1 ] = 0\n",
            "1 + 0 = 1\n",
            "Valor máximo es menor\n",
            "Nuevo Valor Máximo = 1\n",
            "Vm / p[i]\n",
            "1 1\n",
            "arregloValores actual = [0, 1, 0, 0, 0]\n",
            "arregloCortes actual = [0, 0, 0, 0, 0]\n",
            "\n",
            "i = 2\n",
            "\n",
            "Entrando segundo for\n",
            "\n",
            "j = 1\n",
            "Valor Máximo Actual = 0\n",
            "Precios[j] = 1\n",
            "arregloValores[i 2 - j 1 ] = 1\n",
            "1 + 1 = 2\n",
            "Valor máximo es menor\n",
            "Nuevo Valor Máximo = 2\n",
            "\n",
            "j = 2\n",
            "Valor Máximo Actual = 2\n",
            "Precios[j] = 5\n",
            "arregloValores[i 2 - j 2 ] = 0\n",
            "5 + 0 = 5\n",
            "Valor máximo es menor\n",
            "Nuevo Valor Máximo = 5\n",
            "Vm / p[i]\n",
            "5 5\n",
            "arregloValores actual = [0, 1, 5, 0, 0]\n",
            "arregloCortes actual = [0, 0, 0, 0, 0]\n",
            "\n",
            "i = 3\n",
            "\n",
            "Entrando segundo for\n",
            "\n",
            "j = 1\n",
            "Valor Máximo Actual = 0\n",
            "Precios[j] = 1\n",
            "arregloValores[i 3 - j 1 ] = 5\n",
            "1 + 5 = 6\n",
            "Valor máximo es menor\n",
            "Nuevo Valor Máximo = 6\n",
            "\n",
            "j = 2\n",
            "Valor Máximo Actual = 6\n",
            "Precios[j] = 5\n",
            "arregloValores[i 3 - j 2 ] = 1\n",
            "5 + 1 = 6\n",
            "Nuevo Valor Máximo = 6\n",
            "\n",
            "j = 3\n",
            "Valor Máximo Actual = 6\n",
            "Precios[j] = 8\n",
            "arregloValores[i 3 - j 3 ] = 0\n",
            "8 + 0 = 8\n",
            "Valor máximo es menor\n",
            "Nuevo Valor Máximo = 8\n",
            "Vm / p[i]\n",
            "8 8\n",
            "arregloValores actual = [0, 1, 5, 8, 0]\n",
            "arregloCortes actual = [0, 0, 0, 0, 0]\n",
            "\n",
            "i = 4\n",
            "\n",
            "Entrando segundo for\n",
            "\n",
            "j = 1\n",
            "Valor Máximo Actual = 0\n",
            "Precios[j] = 1\n",
            "arregloValores[i 4 - j 1 ] = 8\n",
            "1 + 8 = 9\n",
            "Valor máximo es menor\n",
            "Nuevo Valor Máximo = 9\n",
            "\n",
            "j = 2\n",
            "Valor Máximo Actual = 9\n",
            "Precios[j] = 5\n",
            "arregloValores[i 4 - j 2 ] = 5\n",
            "5 + 5 = 10\n",
            "Valor máximo es menor\n",
            "Nuevo Valor Máximo = 10\n",
            "\n",
            "j = 3\n",
            "Valor Máximo Actual = 10\n",
            "Precios[j] = 8\n",
            "arregloValores[i 4 - j 3 ] = 1\n",
            "8 + 1 = 9\n",
            "Nuevo Valor Máximo = 10\n",
            "\n",
            "j = 4\n",
            "Valor Máximo Actual = 10\n",
            "Precios[j] = 9\n",
            "arregloValores[i 4 - j 4 ] = 0\n",
            "9 + 0 = 9\n",
            "Nuevo Valor Máximo = 10\n",
            "Vm / p[i]\n",
            "10 9\n",
            "No se utiliza la varilla completa\n",
            "arregloValores actual = [0, 1, 5, 8, 10]\n",
            "arregloCortes actual = [0, 0, 0, 0, 1]\n",
            "\n",
            "Salida:\n",
            "Valor máximo 10\n",
            "Cortes:  1\n"
          ]
        }
      ]
    },
    {
      "cell_type": "markdown",
      "source": [
        "# 4. Tiempo de ejecución\n",
        "\n",
        "## 4.1. Analizis rápido general\n",
        "\n",
        "Analizando el algoritmo se puede ver que para todos los casos el algoritmo **CortarVarilla** tiene un tiempo de ejecución $O(n^2)$ ya que tiene un ciclo for en el que $i$ va desde $1$ hasta $n$ y dentro tiene un ciclo for que va desde $1$ hasta $i$.\n",
        "\n",
        "## 4.2.  Fórmula de recurrencia\n",
        "\n",
        "La fórmula de recurrencia **T(n)** del algoritmo se obtiene analizando sus partes.\n",
        "\n",
        "Para el caso base $n \\leq 1$ el algoritmo solo pregunta si el largo de la varilla es menor o igual a $1$ y luego retorna los valores sin realizar ninguna recursión, por esto se obtiene que $T(n)=O(1)$ si $n \\leq 1$.\n",
        "\n",
        "Para el resto de casos se tiene:\n",
        "\n",
        "- Un ciclo for que va desde $1$ hasta $n$, por ello tiene un tiempo de ejecución de $O(n)$.\n",
        "\n",
        "- Otro ciclo for que va desde $1$ hasta $i$, donde $i$ es la variable del ciclo anterior.\n",
        "\n",
        "Juntando ambas partes se tiene que\n",
        "\n",
        "$T(n) = \\sum\\limits_{j=1}^{n} j$\n",
        "\n",
        "$\\sum\\limits_{j=1}^{n} j = \\frac{n(n+1)}{2}$\n",
        "\n",
        "Eliminando las constantes se tiene que:\n",
        "\n",
        "$T(n) = n^2$"
      ],
      "metadata": {
        "id": "2vcJc3vGX-uq"
      }
    },
    {
      "cell_type": "markdown",
      "source": [
        "# 5. Complejidad espacial\n",
        "\n",
        "El algoritmo crea un arreglo de largo $n+1$ que almacena los resultados de los cálculos para cada largo de varilla, por ello la complejidad espacial del algoritmo es de $O(n)$. "
      ],
      "metadata": {
        "id": "UWcUdWFj-eeJ"
      }
    },
    {
      "cell_type": "markdown",
      "source": [
        "# 6. Correctitud \n",
        "\n",
        "## 6.1. Teorema (Correctitud de CortarVarilla)\n",
        "\n",
        "El algoritmo **CortarVarilla** devuelve el valor máximo que se puede obtener cortando la varilla de largo $n$ y vendiendo las partes.\n",
        "\n",
        "## 6.2. Prueba del Teorema por medio de Inducción\n",
        "\n",
        "La hipótesis $T(n)$ se basa en que **CortarVarilla** retorna un elemento que es mayor o igual a cualquier otra combinación de cortes para el largo $n$.\n",
        "\n",
        "### Caso base $n = 1$\n",
        "\n",
        "Si $T(1)$ la función **CortarVarilla** retorna el valor de una varilla de largo $1$ ya que esta no puede ser cortada más.\n",
        "\n",
        "### Hipotesis Inductiva\n",
        "\n",
        "Para una varilla de largo $i$ y un arreglo $ArregloValores$ de largo $i+1$, el arreglo $ArregloValores[0..i-1]$ tiene los resultados de la mejor combinación de cortes para una varilla de largo $[0..i-1]$. \n",
        "\n",
        "Luego $CortarVarilla$ comparará los mejores resultados anteriores con el valor de venderse completa y almacenará el valor mayor en $ArregloValores[i]$.\n",
        "\n",
        "Finalmente el elemento $ArregloValores[i]$ tendrá el resultado de la mejor combinación posible para un largo de varilla $i$, por lo tanto la función **CortarVarilla** es correcta."
      ],
      "metadata": {
        "id": "TGRHLXv3ptc1"
      }
    },
    {
      "cell_type": "markdown",
      "source": [
        "### Analisis del gráfico\n",
        "\n",
        "Los resultados que muestra el grafico indican que la cantidad de comparaciones se mantienen siempre muy cercanas del mejor caso incluso para largos de arreglo muy grandes, de esto se puede concluir que el algoritmo **Select** es muy bueno para ordenar independiente del largo del arreglo con un caso promedio muy cercano al mejor."
      ],
      "metadata": {
        "id": "H7SJBmv5aO_u"
      }
    },
    {
      "cell_type": "markdown",
      "source": [
        "# 7. Experimentos\n",
        "\n",
        "## 7.1. Tiempo de ejecución experimental\n",
        "\n",
        "El siguiente gráfico muestra una comparación entre el comportamiento del tiempo de ejecución del algoritmo **CortarVarilla** en su forma *recursiva* y *dinámica* en relación al tamaño de varilla, esto utilizando varillas de largo $n \\in [2,20]$ y un arreglo de precios $[3, 5, 8, 11, 12, 15, 16, 17, 18, 20, 21, 26, 28, 40, 41, 43, 45, 47, 49, 50]$."
      ],
      "metadata": {
        "id": "egXBgNChckAP"
      }
    },
    {
      "cell_type": "code",
      "source": [
        "import matplotlib.pyplot as plt\n",
        "import datetime\n",
        "import random\n",
        "from timeit import repeat\n",
        "\n",
        "preciosExp = [0, 3, 5, 8, 11, 12, 15, 16, 17, 18, 20, 21, 26, 28, 40, 41, 43, 45, 47, 49, 50]\n",
        "\n",
        "x=[];\n",
        "yR=[];\n",
        "yD=[];\n",
        "\n",
        "for n in range(2,21):\n",
        "  x.append(n)\n",
        "  t = repeat(setup=\"from __main__ import corteVarillaRecursivo\", stmt=f\"corteVarillaRecursivo({n}, {preciosExp})\", repeat=1, number=10)\n",
        "  yR.append(t)\n",
        "  t = repeat(setup=\"from __main__ import corteVarillaDinamico\", stmt=f\"corteVarillaDinamico({n}, {preciosExp})\", repeat=1, number=10)\n",
        "  yD.append(t)\n",
        "\n",
        "\n",
        "plt.plot(x,yR)\n",
        "plt.plot(x,yD)\n",
        "plt.legend([\"Recursivo\", \"Dinamico\"])\n",
        "\n",
        "plt.xlabel('n')\n",
        "plt.ylabel('Tiempo en milisegundos')\n",
        "plt.show()"
      ],
      "metadata": {
        "colab": {
          "base_uri": "https://localhost:8080/",
          "height": 279
        },
        "id": "uJtWGG7TcmMx",
        "outputId": "11533faa-b7ae-423d-d28e-3c6f430fd90a"
      },
      "execution_count": 13,
      "outputs": [
        {
          "output_type": "display_data",
          "data": {
            "text/plain": [
              "<Figure size 432x288 with 1 Axes>"
            ],
            "image/png": "[encoded data removed]"
          },
          "metadata": {
            "needs_background": "light"
          }
        }
      ]
    },
    {
      "cell_type": "markdown",
      "source": [
        "### Análisis del gráfico\n",
        "\n",
        "Del gráfico se puede ver que la implementación dinámica del algoritmo **CortarVarilla** es mucho más rápida en comparacion a la implementación recursiva\n",
        "\n",
        "Cabe notar que a diferencia de experimentos anteriores con otros algoritmos, aquí no existen los puntos altos en la gráfica o \"ruido\" que es causado normalmente debido al comportamiento impredecible de los procesadores, esto es posiblemente por lo corto que es el problema y el rango en el que se encuentra $n$, muy probablemente para rangos de $n$ mayores se empiezen a ver esos eventos."
      ],
      "metadata": {
        "id": "zp478AVMdFd1"
      }
    },
    {
      "cell_type": "markdown",
      "source": [
        "# 7.2. Analisis Cantidad de Problemas Recursivo vs Dinamico\n",
        "\n",
        "El siguiente gráfico muestra una comparación entre los tiempos de ejecución de los algoritmos **Select** (implementación propia) y **Randomized Select**.\n"
      ],
      "metadata": {
        "id": "kZyYQSvRdXVh"
      }
    },
    {
      "cell_type": "code",
      "source": [
        "import matplotlib.pyplot as plt\n",
        "import datetime\n",
        "import random\n",
        "from timeit import repeat\n",
        "\n",
        "# CutRod recursivo ContadorProblemas SoloLadoDerecho\n",
        "def corteVarillaRecursivoContProb(n, precios, contProb = 1):\n",
        "    precioMayor = 0\n",
        "    for i in range(1, n):\n",
        "        contProb+=1\n",
        "        precioDer, contProb = corteVarillaRecursivoContProb((n-i), precios, contProb)\n",
        "        precioMayor = max(precioMayor, precios[i]+precioDer)\n",
        "    if precioMayor > precios[n]:\n",
        "        return precioMayor, contProb\n",
        "    return precios[n], contProb\n",
        "# CutRod recursivo ContProblemas Ambos Lados\n",
        "def corteVarillaRecursivoContProbAmbosLados(n, precios, contProb = 1):\n",
        "    precioMayor = 0\n",
        "    for i in range(1, n):\n",
        "        contProb+=1\n",
        "        precioIzq, contProb = corteVarillaRecursivoContProbAmbosLados(i, precios, contProb)\n",
        "        precioDer, contProb = corteVarillaRecursivoContProbAmbosLados((n-i), precios, contProb)\n",
        "        precioMayor = max(precioMayor, precioIzq + precioDer)\n",
        "    if precioMayor > precios[n]:\n",
        "        return precioMayor, contProb\n",
        "    return precios[n], contProb\n",
        "# CutRod dinámico ContadorProblemas\n",
        "def corteVarillaDinamicoContProb(n, precios):\n",
        "    arregloValores = [0 for x in range(n+1)]\n",
        "    contProb = 0\n",
        "    for i in range(1, n+1):\n",
        "        contProb+=1\n",
        "        valorMaximo = 0\n",
        "        for j in range(1, i+1):\n",
        "            valorMaximo = max(valorMaximo, (precios[j] + arregloValores[i-j]))\n",
        "        arregloValores[i] = valorMaximo\n",
        "    return arregloValores[n], contProb+1\n",
        "# Fin código\n",
        "\n",
        "preciosExp = [0, 3, 5, 8, 11, 12, 15, 16, 17, 18, 20, 21, 26, 28, 40, 41, 43, 45, 47, 49, 50]\n",
        "\n",
        "x=[];\n",
        "yR=[];\n",
        "yD=[];\n",
        "\n",
        "for n in range(2,21):\n",
        "  x.append(n)\n",
        "\n",
        "  m, contR = corteVarillaRecursivoContProb(n, preciosExp)\n",
        "  yR.append(contR)\n",
        "  m, contD = corteVarillaDinamicoContProb(n, preciosExp)\n",
        "  yD.append(contD)\n",
        "\n",
        "plt.plot(x,yR)\n",
        "plt.plot(x,yD)\n",
        "plt.legend([\"Recursivo\", \"Dinamico\"])\n",
        "\n",
        "plt.xlabel('n')\n",
        "plt.ylabel('Cantidad de Problemas Resueltos')\n",
        "plt.show()"
      ],
      "metadata": {
        "colab": {
          "base_uri": "https://localhost:8080/",
          "height": 279
        },
        "id": "nXJgkTxJdjE7",
        "outputId": "d221bf51-ad2f-4f4e-aab4-0e4aea830541"
      },
      "execution_count": 25,
      "outputs": [
        {
          "output_type": "display_data",
          "data": {
            "text/plain": [
              "<Figure size 432x288 with 1 Axes>"
            ],
            "image/png": "[encoded data removed]"
          },
          "metadata": {
            "needs_background": "light"
          }
        }
      ]
    },
    {
      "cell_type": "markdown",
      "source": [
        "### Analisis del gráfico\n",
        "\n",
        "En el gráfico se aprecia que la implementación recursiva resuelve muchísimos más casos que la implementación dinámica, y si juntamos esto con el experimento del tiempo de ejecución podemos concluir que la versión dinámica es mucho mejor en comparación a la versión recursiva gracias a su tiempo de ejecución menor."
      ],
      "metadata": {
        "id": "hoqin5fbdeGH"
      }
    },
    {
      "cell_type": "markdown",
      "source": [
        "# 7.3. Experimento fallido: Tardó mucho\n",
        "\n",
        "Nota: Intenté hacer un experimento comparando el número de casos resueltos igual que en la 6.2. pero añadiendo un algoritmo recursivo donde calculaba ambos lados, sin embargo...."
      ],
      "metadata": {
        "id": "2BBCZCcq8gD5"
      }
    },
    {
      "cell_type": "markdown",
      "source": [
        "![image.png](data:image/png;base64,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)"
      ],
      "metadata": {
        "id": "CBwqzZZX88eB"
      }
    },
    {
      "cell_type": "markdown",
      "source": [
        "a momento de escribir esto son las 00:05:12 y aún no termina de ejecutar, por lo que dejaré el código listo para ejecutar a continuación en caso de que quieran probarlo (y si lo hacen por favor haganme saber cuanto tardó en finalizar)."
      ],
      "metadata": {
        "id": "B2hyuSjs89wk"
      }
    },
    {
      "cell_type": "code",
      "source": [
        "preciosExp = [0, 3, 5, 8, 11, 12, 15, 16, 17, 18, 20, 21, 26, 28, 40, 41, 43, 45, 47, 49, 50]\n",
        "\n",
        "x=[];\n",
        "yR=[];\n",
        "yR2L=[];\n",
        "yD=[];\n",
        "\n",
        "for n in range(2,21):\n",
        "  x.append(n)\n",
        "\n",
        "  m, contR = corteVarillaRecursivoContProb(n, preciosExp)\n",
        "  yR.append(contR)\n",
        "  m, contR2 = corteVarillaRecursivoContProbAmbosLados(n, preciosExp)\n",
        "  yR2L.append(contR2)\n",
        "  m, contD = corteVarillaDinamicoContProb(n, preciosExp)\n",
        "  yD.append(contD)\n",
        "\n",
        "plt.plot(x,yR)\n",
        "plt.plot(x,yR2L)\n",
        "plt.plot(x,yD)\n",
        "plt.legend([\"Recursivo\", \"Recursivo (ambos lados)\", \"Dinamico\"])\n",
        "\n",
        "plt.xlabel('n')\n",
        "plt.ylabel('Cantidad de Problemas Resueltos')\n",
        "plt.show()"
      ],
      "metadata": {
        "id": "0vopZ2Ow9pVx"
      },
      "execution_count": null,
      "outputs": []
    }
  ]
}