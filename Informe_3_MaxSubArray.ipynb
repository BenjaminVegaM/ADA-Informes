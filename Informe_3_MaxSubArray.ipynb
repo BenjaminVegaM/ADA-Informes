{
  "nbformat": 4,
  "nbformat_minor": 0,
  "metadata": {
    "colab": {
      "name": "Informe 3 MaxSubArray.ipynb",
      "provenance": [],
      "collapsed_sections": [],
      "authorship_tag": "ABX9TyP2zaMUrVAecUDz7IuvCiZa",
      "include_colab_link": true
    },
    "kernelspec": {
      "name": "python3",
      "display_name": "Python 3"
    },
    "language_info": {
      "name": "python"
    }
  },
  "cells": [
    {
      "cell_type": "markdown",
      "metadata": {
        "id": "view-in-github",
        "colab_type": "text"
      },
      "source": [
        "<a href=\"https://colab.research.google.com/github/BenjaminVegaM/ADA-Informes/blob/main/Informe_3_MaxSubArray.ipynb\" target=\"_parent\"><img src=\"https://colab.research.google.com/assets/colab-badge.svg\" alt=\"Open In Colab\"/></a>"
      ]
    },
    {
      "cell_type": "markdown",
      "source": [
        "# 1. Problema de búsqueda\n",
        "\n",
        "**Entrada**: Secuencia de n números $[a_1,a_2,...,a_n]$.\n",
        "\n",
        "**Salida**: Sub-arreglo $[a_i,...,a_j]$, tal que la suma de los elementos es mayor o igual a cualquier otro sub-arreglo, es decir, $\\sum\\limits_{k=i}^j a_k \\geq \\sum\\limits_{k=i'}^{j'} a_k$ , para cualquier par $(i',j')$, con $i' \\leq j'\\leq n$.\n"
      ],
      "metadata": {
        "id": "ThAKXMIMWAt6"
      }
    },
    {
      "cell_type": "markdown",
      "source": [
        "# 2. MaxSubArray\n",
        "\n",
        "El siguiente código muestra una implementación del algoritmo **MaxSubArray**."
      ],
      "metadata": {
        "id": "1i-cNFqvo6Hm"
      }
    },
    {
      "cell_type": "markdown",
      "source": [
        "## 2.1 Código de MaxSubArray"
      ],
      "metadata": {
        "id": "mdIFGMl5aOBs"
      }
    },
    {
      "cell_type": "code",
      "source": [
        "# MaxSubArray Code\n",
        "def maxSubArray(a, lo, hi, recursiones = 0, verbose = False):\n",
        "    if verbose == True:\n",
        "        print(\"\\n\\nContador de Recursiones: \", recursiones)\n",
        "        print(\"Low, High:\", lo,\"|\", hi)\n",
        "        print(\"Arreglo de entrada:\", a[lo:(hi+1)])\n",
        "\n",
        "    if lo == hi or len(a) == 1:\n",
        "        if verbose == True: print(\"Arreglo es de largo 1, retornando\")\n",
        "        return a[lo], lo, hi, recursiones # El arreglo sólo tiene un elemento\n",
        "\n",
        "\n",
        "    # Valor del centro\n",
        "    mid = (int)((hi + lo)/2)\n",
        "    if verbose == True: print(\"Mid =\", mid)\n",
        "\n",
        "    # Solucionar izquierda\n",
        "    recursiones+=1\n",
        "    if verbose == True: print(\"\\nSolucionando izquierda\")\n",
        "    left, iLeft, jLeft, recursiones = maxSubArray(a, lo, mid, recursiones, verbose)\n",
        "    if verbose == True: print(\"Left =\", left)\n",
        "\n",
        "    # Solucionar derecha\n",
        "    recursiones+=1\n",
        "    if verbose == True: print(\"\\nSolucionando derecha\")\n",
        "    right, iRight, jRight, recursiones = maxSubArray(a, mid+1, hi, recursiones, verbose)\n",
        "    if verbose == True: print(\"Right =\", right)\n",
        "\n",
        "    # Encontrar el medio\n",
        "    # Esta es la función MaxSubArrayMid, la cual está implementada dentro de MaxSubArray por simplicidad\n",
        "    if verbose == True:\n",
        "        print(\"\\nEncontrando medio\")\n",
        "        print(\"Arreglo:\", a[lo:(hi+1)])\n",
        "\n",
        "    largestL = a[mid]\n",
        "    leftSum = 0\n",
        "    iMiddle = mid\n",
        "\n",
        "    for cont in range(mid, lo-1, -1):\n",
        "        leftSum += a[cont]\n",
        "        if verbose == True: print(\"LeftSum =\", leftSum)\n",
        "\n",
        "        if (leftSum > largestL):\n",
        "            largestL = leftSum\n",
        "            iMiddle = cont\n",
        "    \n",
        "    if verbose == True: print(\"Mayor suma del lado izquierdo de middle =\", largestL)\n",
        "\n",
        "    largestR = a[mid+1]\n",
        "    rightSum = 0\n",
        "    jMiddle = (mid+1)\n",
        "\n",
        "    for cont in range(mid+1, hi+1, +1):\n",
        "        rightSum += a[cont]\n",
        "        if verbose == True: print(\"RightSum =\", rightSum)\n",
        "\n",
        "        if (rightSum > largestR):\n",
        "            largestR = rightSum\n",
        "            jMiddle = cont\n",
        "\n",
        "    if verbose == True: print(\"Mayor suma del lado derecho de middle =\", largestR)\n",
        "\n",
        "    middle = (largestL + largestR)\n",
        "    if verbose == True: print(\"Mayor suma de middle =\", middle)\n",
        "    if verbose == True: print(\"En el sub-arreglo [\",iMiddle,\":\",jMiddle,\"] =\", a[iMiddle:(jMiddle+1)])\n",
        "\n",
        "    # Return\n",
        "    if verbose == True: print(\"\\nCalculando mayor\")\n",
        "    if(left > right):\n",
        "        if verbose == True: print(\"Lado izquierdo tiene el mayor sub-arreglo =\", left)\n",
        "        return left, iLeft, jLeft, recursiones\n",
        "    elif(right > middle):\n",
        "        if verbose == True: print(\"Lado derecho tiene el mayor sub-arreglo =\", right)\n",
        "        return right, iRight, jRight, recursiones\n",
        "    else:\n",
        "        if verbose == True: print(\"Centro tiene el mayor sub-arreglo =\", middle)\n",
        "        return middle, iMiddle, jMiddle, recursiones"
      ],
      "metadata": {
        "id": "GgJDMHUHpTJ9"
      },
      "execution_count": 27,
      "outputs": []
    },
    {
      "cell_type": "code",
      "source": [
        "# Ejemplo\n",
        "a = [1,26,8,-42,-3,1,-56,48,12,-2,1,-56,-6,0,0,14,-23,-23,-1,40,51,-90]\n",
        "c = recursiones = 0\n",
        "print(\"Entrada: \",a)\n",
        "c, i, j, recursiones = maxSubArray(a, 0, len(a)-1, recursiones, False)\n",
        "print(\"Salida: \",c)\n",
        "print(\"Sub-arreglo [\",i,\":\",j,\"] =\", a[i:(j+1)])\n",
        "print(\"Número de Recursiones:\", recursiones)"
      ],
      "metadata": {
        "colab": {
          "base_uri": "https://localhost:8080/"
        },
        "id": "2mHV0W_otTPL",
        "outputId": "c84ad764-70db-4736-e043-73662d7909c9"
      },
      "execution_count": 22,
      "outputs": [
        {
          "output_type": "stream",
          "name": "stdout",
          "text": [
            "Entrada:  [1, 26, 8, -42, -3, 1, -56, 48, 12, -2, 1, -56, -6, 0, 0, 14, -23, -23, -1, 40, 51, -90]\n",
            "Salida:  91\n",
            "Sub-arreglo [ 19 : 20 ] = [40, 51]\n",
            "Número de Recursiones: 42\n"
          ]
        }
      ]
    },
    {
      "cell_type": "markdown",
      "source": [
        "## 2.2. Descripción del Algoritmo\n",
        "El algoritmo recibe como entrada un arreglo de $n$ números cuyo valor indica un aumento o una disminución, entonces:\n",
        "\n",
        "1. Verifica si el arreglo es de largo $1$, si es así retorna el valor y los índices del primer y el último elemento (en este caso serían iguales) y el contador de recursiones.\n",
        "\n",
        "2. De lo contrario se llama a la función **MaxSubArray** recursivamente dos veces; la primera con la mitad izquierda del arreglo y la siguiente con la mitad derecha.\n",
        "\n",
        "3. Luego se busca el máximo sub-arreglo que pasa por el centro entre ambos lados.\n",
        "\n",
        "4. Al final, se retorna el valor mayor entre los 3 resultados (izquierda, derecha o centro) y los índices del primer y el último elemento de este sub-arreglo, junto a un contador de las recursiones realizadas.\n",
        "\n",
        "> Cuando la variable `verbose` es `True` se muestra información para ver lo que pasa paso a paso dentro de la función."
      ],
      "metadata": {
        "id": "rCtEEcr6aV4G"
      }
    },
    {
      "cell_type": "code",
      "source": [
        "# Ejemplo\n",
        "a = [3,-2,4,-5]\n",
        "c = recursiones = 0\n",
        "print(\"Entrada: \",a)\n",
        "c, i, j, recursiones = maxSubArray(a, 0, len(a)-1, recursiones, True)\n",
        "print(\"Salida: \",c)\n",
        "print(\"Sub-arreglo [\",i,\":\",j,\"] =\", a[i:(j+1)])\n",
        "print(\"Número de Recursiones:\", recursiones)"
      ],
      "metadata": {
        "colab": {
          "base_uri": "https://localhost:8080/"
        },
        "id": "vxj3ghskVYPd",
        "outputId": "9f2348f1-4ce7-41fa-8681-31894b670cc6"
      },
      "execution_count": null,
      "outputs": [
        {
          "output_type": "stream",
          "name": "stdout",
          "text": [
            "Entrada:  [3, -2, 4, -5]\n",
            "\n",
            "\n",
            "Contador de Recursiones:  0\n",
            "Low, High: 0 | 3\n",
            "Arreglo de entrada: [3, -2, 4, -5]\n",
            "Mid = 1\n",
            "\n",
            "Solucionando izquierda\n",
            "\n",
            "\n",
            "Contador de Recursiones:  1\n",
            "Low, High: 0 | 1\n",
            "Arreglo de entrada: [3, -2]\n",
            "Mid = 0\n",
            "\n",
            "Solucionando izquierda\n",
            "\n",
            "\n",
            "Contador de Recursiones:  2\n",
            "Low, High: 0 | 0\n",
            "Arreglo de entrada: [3]\n",
            "Arreglo es de largo 1, retornando\n",
            "Left = 3\n",
            "\n",
            "Solucionando derecha\n",
            "\n",
            "\n",
            "Contador de Recursiones:  3\n",
            "Low, High: 1 | 1\n",
            "Arreglo de entrada: [-2]\n",
            "Arreglo es de largo 1, retornando\n",
            "Right = -2\n",
            "\n",
            "Encontrando medio\n",
            "Arreglo: [3, -2]\n",
            "LeftSum = 3\n",
            "Mayor suma del lado izquierdo de middle = 3\n",
            "RightSum = -2\n",
            "Mayor suma del lado derecho de middle = -2\n",
            "Mayor suma de middle = 1\n",
            "En el sub-arreglo [ 0 : 1 ] = [3, -2]\n",
            "\n",
            "Calculando mayor\n",
            "Lado izquierdo tiene el mayor sub-arreglo = 3\n",
            "Left = 3\n",
            "\n",
            "Solucionando derecha\n",
            "\n",
            "\n",
            "Contador de Recursiones:  4\n",
            "Low, High: 2 | 3\n",
            "Arreglo de entrada: [4, -5]\n",
            "Mid = 2\n",
            "\n",
            "Solucionando izquierda\n",
            "\n",
            "\n",
            "Contador de Recursiones:  5\n",
            "Low, High: 2 | 2\n",
            "Arreglo de entrada: [4]\n",
            "Arreglo es de largo 1, retornando\n",
            "Left = 4\n",
            "\n",
            "Solucionando derecha\n",
            "\n",
            "\n",
            "Contador de Recursiones:  6\n",
            "Low, High: 3 | 3\n",
            "Arreglo de entrada: [-5]\n",
            "Arreglo es de largo 1, retornando\n",
            "Right = -5\n",
            "\n",
            "Encontrando medio\n",
            "Arreglo: [4, -5]\n",
            "LeftSum = 4\n",
            "Mayor suma del lado izquierdo de middle = 4\n",
            "RightSum = -5\n",
            "Mayor suma del lado derecho de middle = -5\n",
            "Mayor suma de middle = -1\n",
            "En el sub-arreglo [ 2 : 3 ] = [4, -5]\n",
            "\n",
            "Calculando mayor\n",
            "Lado izquierdo tiene el mayor sub-arreglo = 4\n",
            "Right = 4\n",
            "\n",
            "Encontrando medio\n",
            "Arreglo: [3, -2, 4, -5]\n",
            "LeftSum = -2\n",
            "LeftSum = 1\n",
            "Mayor suma del lado izquierdo de middle = 1\n",
            "RightSum = 4\n",
            "RightSum = -1\n",
            "Mayor suma del lado derecho de middle = 4\n",
            "Mayor suma de middle = 5\n",
            "En el sub-arreglo [ 0 : 2 ] = [3, -2, 4]\n",
            "\n",
            "Calculando mayor\n",
            "Centro tiene el mayor sub-arreglo = 5\n",
            "Salida:  5\n",
            "Sub-arreglo [ 0 : 2 ] = [3, -2, 4]\n",
            "Número de Recursiones: 6\n"
          ]
        }
      ]
    },
    {
      "cell_type": "markdown",
      "source": [
        "## 2.3. Ejemplo\n",
        "\n",
        "Consideremos, por ejemplo, el arreglo:\n",
        "\n",
        "$a = [3,-2,4,-5]$\n",
        "\n",
        "Primero verifica si el largo del arreglo es igual a 1, como este no es el caso se continúa:\n",
        "\n",
        "Despues al llamar a la función **MaxSubArray** dos veces, el camino se divide en dos partes que, con el fin de ser entendidos mejor, se llamarán \"Rama 1\" y \"Rama 2\".\n",
        "\n",
        "En la Rama 1 se llama a la función **MaxSubArray** con el arreglo $a[lo:mid] = [3,-2]$.\n",
        "\n",
        "En este nuevamente se verifica si el arreglo es de largo 1, como no es así entonces se vuelve a llamar a la función **MaxSubArray**, dividiendose en 2 ramas más; Rama 1.1 y Rama 1.2.\n",
        "\n",
        "En la Rama 1.1 la función verifica si el arreglo $[3]$ es de largo 1, esto es cierto así que se retorna el valor $3$, los índices (ambos $0$) y el contador de recursiones.\n",
        "\n",
        "Ahora la Rama 1.1 ya finalizó, se procede con la Rama 1.2 en la cual se trabaja al arreglo $[-2]$ el cual, al igual que en la Rama 1.1, es de largo 1 por lo que se retorna sin más.\n",
        "\n",
        "En la Rama 1 ahora que se finalizó de llamar a ambos **MaxSubArray**, se busca el máximo sub-arreglo que contenga al centro entre ambos lados:\n",
        "\n",
        "Para ello primero se recorre el sub-arreglo izquierdo $a[lo:mid]$, de derecha a izquierda, sumando todos los valores y guardando el de la máxima suma. En este caso el máximo sub-arreglo es $3$ ya que es el único elemento.\n",
        "\n",
        "De igual manera se recorre el sub-arreglo derecho $[mid+1:hi]$ de izquierda a derecha, sumando los valores y almacenando la suma máxima que es $-2$ ya que solo hay un elemento.\n",
        "\n",
        "Ahora se suman ambos resultados y se obtiene que la suma máxima del sub-arreglo del centro $[3,-2]$ es $1$.\n",
        "\n",
        "Finalmente en la Rama 1 se comparan los 3 resultados y se retorna el mayor, siendo este el Izquierdo con un valor de $3$.\n",
        "\n",
        "Se procede ahora con la Rama 2 en la cual al igual que en la Rama 1 se llama nuevamente a la función **MaxSubArray** con $[4]$ y $[-5]$, en las cuales se verifica que ambos arreglos son de largo 1 y se retorna.\n",
        "\n",
        "Ahora se busca el máximo sub-arreglo que contiene al centro, de la misma manera que en la Rama 1. Haciendo esto se obtiene que el máximo sub-arreglo es: $[4,-5]$ con un valor de $-1$.\n",
        "\n",
        "Finalmente en la Rama 2 se comparan los 3 resultados y se retorna el mayor, siendo este el Izquierdo con un valor de $4$.\n",
        "\n",
        "Ahora que ambas ramas finalizaron se busca la suma máxima del centro de ambas:\n",
        "\n",
        "Se recorre el sub-arreglo izquierdo $a[lo:mid] = [3,-2]$ guardando la suma máxima que es $3 -2 = 1$.\n",
        "\n",
        "Srecorre el sub-arreglo derecho $[mid+1:hi] = [4,-5]$ de izquierda a derecha, cuya suma máxima que es $4$.\n",
        "\n",
        "Ambos resultados sumados dan $5$.\n",
        "\n",
        "Por último se comparan los 3 resultados:\n",
        "\n",
        "$Izquierda = 1$\n",
        "\n",
        "$Derecha = -1$\n",
        "\n",
        "$Centro = 5$\n",
        "\n",
        "y se retorna el valor del centro ($5$), los índices $0$ y $2$ y el contador de recursiones, con ello finaliza el algoritmo."
      ],
      "metadata": {
        "id": "hMQhgqeoX8AK"
      }
    },
    {
      "cell_type": "markdown",
      "source": [
        "## 2.4. Ejecución del Algoritmo Paso a Paso (verbose = True)\n",
        "\n",
        "Al utilizar la opción `verbose=True` se puede ver paso a paso lo que le ocurre al arreglo en cada iteración del algoritmo."
      ],
      "metadata": {
        "id": "wqsr8TPVXqNE"
      }
    },
    {
      "cell_type": "code",
      "source": [
        "# Ejemplo\n",
        "a = [1,3,-2,4,6,-2,0,-2]\n",
        "c = recursiones = 0\n",
        "print(\"Entrada: \",a)\n",
        "c, i, j, recursiones = maxSubArray(a, 0, len(a)-1, recursiones, True)\n",
        "print(\"Salida: \",c)\n",
        "print(\"Sub-arreglo [\",i,\":\",j,\"] =\", a[i:(j+1)])\n",
        "print(\"Número de Recursiones:\", recursiones)"
      ],
      "metadata": {
        "colab": {
          "base_uri": "https://localhost:8080/"
        },
        "id": "8mb_Y42zaAyo",
        "outputId": "1e9a019c-d92f-4542-b487-6346bb82e498"
      },
      "execution_count": null,
      "outputs": [
        {
          "output_type": "stream",
          "name": "stdout",
          "text": [
            "Entrada:  [1, 3, -2, 4, 6, -2, 0, -2]\n",
            "\n",
            "\n",
            "Contador de Recursiones:  0\n",
            "Low, High: 0 | 7\n",
            "Arreglo de entrada: [1, 3, -2, 4, 6, -2, 0, -2]\n",
            "Mid = 3\n",
            "\n",
            "Solucionando izquierda\n",
            "\n",
            "\n",
            "Contador de Recursiones:  1\n",
            "Low, High: 0 | 3\n",
            "Arreglo de entrada: [1, 3, -2, 4]\n",
            "Mid = 1\n",
            "\n",
            "Solucionando izquierda\n",
            "\n",
            "\n",
            "Contador de Recursiones:  2\n",
            "Low, High: 0 | 1\n",
            "Arreglo de entrada: [1, 3]\n",
            "Mid = 0\n",
            "\n",
            "Solucionando izquierda\n",
            "\n",
            "\n",
            "Contador de Recursiones:  3\n",
            "Low, High: 0 | 0\n",
            "Arreglo de entrada: [1]\n",
            "Arreglo es de largo 1, retornando\n",
            "Left = 1\n",
            "\n",
            "Solucionando derecha\n",
            "\n",
            "\n",
            "Contador de Recursiones:  4\n",
            "Low, High: 1 | 1\n",
            "Arreglo de entrada: [3]\n",
            "Arreglo es de largo 1, retornando\n",
            "Right = 3\n",
            "\n",
            "Encontrando medio\n",
            "Arreglo: [1, 3]\n",
            "LeftSum = 1\n",
            "Mayor suma del lado izquierdo de middle = 1\n",
            "RightSum = 3\n",
            "Mayor suma del lado derecho de middle = 3\n",
            "Mayor suma de middle = 4\n",
            "En el sub-arreglo [ 0 : 1 ] = [1, 3]\n",
            "\n",
            "Calculando mayor\n",
            "Centro tiene el mayor sub-arreglo = 4\n",
            "Left = 4\n",
            "\n",
            "Solucionando derecha\n",
            "\n",
            "\n",
            "Contador de Recursiones:  5\n",
            "Low, High: 2 | 3\n",
            "Arreglo de entrada: [-2, 4]\n",
            "Mid = 2\n",
            "\n",
            "Solucionando izquierda\n",
            "\n",
            "\n",
            "Contador de Recursiones:  6\n",
            "Low, High: 2 | 2\n",
            "Arreglo de entrada: [-2]\n",
            "Arreglo es de largo 1, retornando\n",
            "Left = -2\n",
            "\n",
            "Solucionando derecha\n",
            "\n",
            "\n",
            "Contador de Recursiones:  7\n",
            "Low, High: 3 | 3\n",
            "Arreglo de entrada: [4]\n",
            "Arreglo es de largo 1, retornando\n",
            "Right = 4\n",
            "\n",
            "Encontrando medio\n",
            "Arreglo: [-2, 4]\n",
            "LeftSum = -2\n",
            "Mayor suma del lado izquierdo de middle = -2\n",
            "RightSum = 4\n",
            "Mayor suma del lado derecho de middle = 4\n",
            "Mayor suma de middle = 2\n",
            "En el sub-arreglo [ 2 : 3 ] = [-2, 4]\n",
            "\n",
            "Calculando mayor\n",
            "Lado derecho tiene el mayor sub-arreglo = 4\n",
            "Right = 4\n",
            "\n",
            "Encontrando medio\n",
            "Arreglo: [1, 3, -2, 4]\n",
            "LeftSum = 3\n",
            "LeftSum = 4\n",
            "Mayor suma del lado izquierdo de middle = 4\n",
            "RightSum = -2\n",
            "RightSum = 2\n",
            "Mayor suma del lado derecho de middle = 2\n",
            "Mayor suma de middle = 6\n",
            "En el sub-arreglo [ 0 : 3 ] = [1, 3, -2, 4]\n",
            "\n",
            "Calculando mayor\n",
            "Centro tiene el mayor sub-arreglo = 6\n",
            "Left = 6\n",
            "\n",
            "Solucionando derecha\n",
            "\n",
            "\n",
            "Contador de Recursiones:  8\n",
            "Low, High: 4 | 7\n",
            "Arreglo de entrada: [6, -2, 0, -2]\n",
            "Mid = 5\n",
            "\n",
            "Solucionando izquierda\n",
            "\n",
            "\n",
            "Contador de Recursiones:  9\n",
            "Low, High: 4 | 5\n",
            "Arreglo de entrada: [6, -2]\n",
            "Mid = 4\n",
            "\n",
            "Solucionando izquierda\n",
            "\n",
            "\n",
            "Contador de Recursiones:  10\n",
            "Low, High: 4 | 4\n",
            "Arreglo de entrada: [6]\n",
            "Arreglo es de largo 1, retornando\n",
            "Left = 6\n",
            "\n",
            "Solucionando derecha\n",
            "\n",
            "\n",
            "Contador de Recursiones:  11\n",
            "Low, High: 5 | 5\n",
            "Arreglo de entrada: [-2]\n",
            "Arreglo es de largo 1, retornando\n",
            "Right = -2\n",
            "\n",
            "Encontrando medio\n",
            "Arreglo: [6, -2]\n",
            "LeftSum = 6\n",
            "Mayor suma del lado izquierdo de middle = 6\n",
            "RightSum = -2\n",
            "Mayor suma del lado derecho de middle = -2\n",
            "Mayor suma de middle = 4\n",
            "En el sub-arreglo [ 4 : 5 ] = [6, -2]\n",
            "\n",
            "Calculando mayor\n",
            "Lado izquierdo tiene el mayor sub-arreglo = 6\n",
            "Left = 6\n",
            "\n",
            "Solucionando derecha\n",
            "\n",
            "\n",
            "Contador de Recursiones:  12\n",
            "Low, High: 6 | 7\n",
            "Arreglo de entrada: [0, -2]\n",
            "Mid = 6\n",
            "\n",
            "Solucionando izquierda\n",
            "\n",
            "\n",
            "Contador de Recursiones:  13\n",
            "Low, High: 6 | 6\n",
            "Arreglo de entrada: [0]\n",
            "Arreglo es de largo 1, retornando\n",
            "Left = 0\n",
            "\n",
            "Solucionando derecha\n",
            "\n",
            "\n",
            "Contador de Recursiones:  14\n",
            "Low, High: 7 | 7\n",
            "Arreglo de entrada: [-2]\n",
            "Arreglo es de largo 1, retornando\n",
            "Right = -2\n",
            "\n",
            "Encontrando medio\n",
            "Arreglo: [0, -2]\n",
            "LeftSum = 0\n",
            "Mayor suma del lado izquierdo de middle = 0\n",
            "RightSum = -2\n",
            "Mayor suma del lado derecho de middle = -2\n",
            "Mayor suma de middle = -2\n",
            "En el sub-arreglo [ 6 : 7 ] = [0, -2]\n",
            "\n",
            "Calculando mayor\n",
            "Lado izquierdo tiene el mayor sub-arreglo = 0\n",
            "Right = 0\n",
            "\n",
            "Encontrando medio\n",
            "Arreglo: [6, -2, 0, -2]\n",
            "LeftSum = -2\n",
            "LeftSum = 4\n",
            "Mayor suma del lado izquierdo de middle = 4\n",
            "RightSum = 0\n",
            "RightSum = -2\n",
            "Mayor suma del lado derecho de middle = 0\n",
            "Mayor suma de middle = 4\n",
            "En el sub-arreglo [ 4 : 6 ] = [6, -2, 0]\n",
            "\n",
            "Calculando mayor\n",
            "Lado izquierdo tiene el mayor sub-arreglo = 6\n",
            "Right = 6\n",
            "\n",
            "Encontrando medio\n",
            "Arreglo: [1, 3, -2, 4, 6, -2, 0, -2]\n",
            "LeftSum = 4\n",
            "LeftSum = 2\n",
            "LeftSum = 5\n",
            "LeftSum = 6\n",
            "Mayor suma del lado izquierdo de middle = 6\n",
            "RightSum = 6\n",
            "RightSum = 4\n",
            "RightSum = 4\n",
            "RightSum = 2\n",
            "Mayor suma del lado derecho de middle = 6\n",
            "Mayor suma de middle = 12\n",
            "En el sub-arreglo [ 0 : 4 ] = [1, 3, -2, 4, 6]\n",
            "\n",
            "Calculando mayor\n",
            "Centro tiene el mayor sub-arreglo = 12\n",
            "Salida:  12\n",
            "Sub-arreglo [ 0 : 4 ] = [1, 3, -2, 4, 6]\n",
            "Número de Recursiones: 14\n"
          ]
        }
      ]
    },
    {
      "cell_type": "markdown",
      "source": [
        "# 3. Tiempo de ejecución\n",
        "\n",
        "### **Teorema (Tiempo de ejecución).**\n",
        "\n",
        "*El algoritmo **MaxSubArray** tiene un **tiempo de ejecución de** $O(n*log(n))$ en el peor caso.*\n",
        "\n",
        "## Prueba del teorema\n",
        "\n",
        "Para comprobar el teorema, se puede utilizar el **Teorema Maestro**, para ello primero se debe obtener la fórmula de recurrencia del algoritmo.\n",
        "\n",
        "### Fórumla de recurrencia\n",
        "\n",
        "La fórmula de recurrencia **T(n)** del algoritmo se obtiene analizando sus partes.\n",
        "\n",
        "Para el caso base $n=1$ el algoritmo solo pregunta si el arreglo es de largo $1$ y luego retorna los valores sin realizar ninguna recursión, por esto se obtiene que $T(n)=O(1)$ si $n=1$.\n",
        "\n",
        "Para el resto de casos se tiene que:\n",
        "\n",
        "- El algoritmo divide el problema ($n$) en $2$ subproblemas, los cuales son $1/2$ del problema original, por lo cual el algoritmo tardará $2T(n/2)$ en resolver ambos sub-problemas.\n",
        "\n",
        "- Luego el algoritmo busca el máximo sub-arreglo que cruza ambos lados, lo cual tiene una complejidad de $O(n)$.\n",
        "\n",
        "Gracias a este analisis se obtiene que $T(n) = 2T(n/2) + O(n)$.\n",
        "\n",
        "### Teorema Maestro\n",
        "\n",
        "Utilizando el teorema maestro se puede obtener la complejidad temporal del algoritmo:\n",
        "\n",
        "Se tiene $T(n) \\leq aT(n/b)+O(n^d)$ donde $a=2$, $b=2$ y $d=1$.\n",
        "\n",
        "Ya que $2 = 2^1$, la complejidad temporal es $O(n*log(n))$.\n"
      ],
      "metadata": {
        "id": "2vcJc3vGX-uq"
      }
    },
    {
      "cell_type": "markdown",
      "source": [
        "# 4. Correctitud\n",
        "\n",
        "\n",
        "## 4.1. Teorema 1 (Correctitud de MaxSubArray)\n",
        "\n",
        "La función **MaxSubArray** retorna el primer y último índice del sub-arreglo con la mayor suma contigua dentro del arreglo de entrada, tal que $0 \\leq i \\leq j \\leq n$ y $\\sum\\limits_{x=i}^{j} a[x]$ sea igual o mayor a cualquier otra.\n",
        "\n",
        "## 4.2. Prueba del teorema 1 por medio de Inducción\n",
        "\n",
        "La hipótesis $T(n)$ se basa en que **MaxSubArray** retorna un arreglo de $n$ elementos ordenados de menor a mayor.\n",
        "\n",
        "### Caso base $n = 1$\n",
        "Si $T(1)$ la función **MaxSubArray** retorna un sólo elemento, por lo que se cumpliría la condición.\n",
        "\n",
        "Caso base $(n = 1)$: Cuando el largo del algoritmo es 1, y queremos conseguir la mayor suma de elementos consecutivos. La respuesta es el mismo elemento del arreglo.\n",
        "\n",
        "### Resto de casos\n",
        "Asumimos que el algoritmo entregará la respuesta correcta para cualquier arreglo de largo $n \\geq 1$. Este algoritmo tiene 3 pasos, uno en el que se llama a sí mismo para buscar la respuesta en en lado izquierdo del arreglo, otro para el lado derecho. Y la llamada a MaxSubArrayMid que lo busca para un arreglo que pasar por el medio, asumiremos que este algoritmo encontrará el valor de la mayor suma del subarreglo que pasa por el medio.\n",
        "\n",
        "Pasos 1 y 2: el propósito de estas llamadas, son para encontrar los subarreglos que posean las mayores sumas de los lados izquierdos y derechos del algoritmo, por la hipótesis inductivas sabemos que esta llamada encontrará y retornará el valor de la suma y los índices de los subarreglos para los lados izquierdos y derechos.\n",
        "\n",
        "Paso 3: se llama a la función MaxSubArrayMid, que busca la mayor suma que puede tener un subarreglo que pase por el medio del arreglo. Asumimos que entregará la respuesta correcta.\n",
        "\n",
        "Ahora tenemos tres posibles respuestas, que compararemos para retornar el valor que corresponda.\n",
        "\n",
        "## 4.3 Teorema 2 (Correctitud de MaxSubArrayMid)\n",
        "\n",
        "La función **MaxSubArrayMid** (implementada directamente entre la linea 29 y 65) retorna el sub-arreglo con la mayor suma contigua que contiene a al centro del sub-arreglo $a[lo:hi]$, esa decir contiene a $a[mid]$ y $a[mid+1]$, tal que $0 \\leq i \\leq mid \\leq j \\leq n$ y $\\sum\\limits_{x=i}^{j} a[x]$ sea igual o mayor a cualquier otra.\n",
        "\n",
        "### 4.4 Prueba del teorema 2 por medio de Inducción\n",
        "\n",
        "Se asume que **MaxSubArrayMid** recibe dos índices $lo$ y $hi$ que representan la primera posición del sub-arreglo izquierdo y la última posición del sub-arreglo derecho respectivamente, y que ambos sub-arreglos son contiguos, es decir, luego del último elemento del sub-arreglo izquierdo se encuentra el primer elemento del sub-arreglo derecho, además de una variable $mid$ que representa el punto de división entre ambos arreglos.\n",
        "\n",
        "Primero se revisa el sub-arreglo izquierdo desde $a[mid]$ hasta $a[i]$ y se almacena la mayor suma dentro de una variable llamada $largestI$ y el índice de esta.\n",
        "\n",
        "Luego se revisa el sub-arreglo derecho desde $a[mid+1]$ hasta $a[j]$ y se almacena la mayor suma dentro de una variable llamada $largestR$ y el índice de esta.\n",
        "\n",
        "Finalmente se suman $largestI$ y $largestR$ y se tendrá el valor de la máxima suma del sub-arreglo que contiene el centro, junto con los índices de este."
      ],
      "metadata": {
        "id": "TGRHLXv3ptc1"
      }
    },
    {
      "cell_type": "markdown",
      "source": [
        "# 5. Experimentos\n",
        "\n",
        "## 5.1. Número de recursiones\n",
        "\n",
        "La gráfica de acontinuación muestra una comparación entre:\n",
        "\n",
        "* la cantidad de recursiones realizadas en el peor caso calculadas matemáticamente,\n",
        "* la cantidad de recursiones realizadas en el mejor caso calculadas matemáticamente\n",
        "* y la cantidad de recursiones realizadas en casos de prueba realizados con entradas aleatorias\n",
        "\n",
        "para problemas con arreglos de entrada de largo $n \\in [2,50]$ en los cuales el valor de los elementos es elejido aleatoriamente desde un conjunto de números entre $-100$ y $+100$.\n",
        "\n",
        "El algoritmo se llama a si mismo $2$ veces excepto cuando el arreglo es de largo $1$, por lo que para un arreglo de largo $n$, el algoritmo realizaría $2n-2$ recursiones, y esto es independiente del valor de los elementos del arreglo, por ello no existe un mejor o peor caso, todos los casos de largo $n$ realizan la misma cantidad de recursiones."
      ],
      "metadata": {
        "id": "owej6N7EYuD1"
      }
    },
    {
      "cell_type": "code",
      "source": [
        "import matplotlib.pyplot as plt\n",
        "import random\n",
        "\n",
        "rangeS = 2\n",
        "rangeF = 51\n",
        "x=[n for n in range(rangeS,rangeF)]\n",
        "# Peor Caso\n",
        "y1=[((2*n)-2) for n in range(rangeS,rangeF)]\n",
        "# Mejor caso\n",
        "y2=[((2*n)-2) for n in range(rangeS,rangeF)]\n",
        "# Muestras\n",
        "yc=[];\n",
        "\n",
        "\n",
        "for n in range(rangeS,rangeF):\n",
        "  a = random.sample(range(-100, 100), n)\n",
        "  suma = lo = hi = recursiones = 0\n",
        "  a, lo, hi, recursiones = maxSubArray(a, 0, len((a))-1, recursiones, False)\n",
        "  yc.append(recursiones)\n",
        "\n",
        "plt.plot(x,yc)\n",
        "plt.plot(x,y1)\n",
        "plt.plot(x,y2)\n",
        "plt.legend([\"Recursiones\", \"Peor caso teórico\", \"Mejor caso teórico\"])\n",
        "\n",
        "plt.xlabel('Largo del arreglo')\n",
        "plt.ylabel('Número de comparaciones')\n",
        "plt.show()"
      ],
      "metadata": {
        "colab": {
          "base_uri": "https://localhost:8080/",
          "height": 279
        },
        "id": "ujyj0bJpZiAQ",
        "outputId": "afa1fccf-a39b-4472-bec5-63fb0c23b8ce"
      },
      "execution_count": 48,
      "outputs": [
        {
          "output_type": "display_data",
          "data": {
            "text/plain": [
              "<Figure size 432x288 with 1 Axes>"
            ],
            "image/png": "[encoded data removed]"
          },
          "metadata": {
            "needs_background": "light"
          }
        }
      ]
    },
    {
      "cell_type": "markdown",
      "source": [
        "### Analisis del gráfico\n",
        "\n",
        "Los resultados que muestra el grafico indican que la cantidad de recursiones se mantiene siempre igual tanto en el mejor como en el peor caso, tal como lo decía el analisis teórico, por lo que no existe un mejor o peor caso para diferentes arreglos de largo $n$."
      ],
      "metadata": {
        "id": "H7SJBmv5aO_u"
      }
    },
    {
      "cell_type": "markdown",
      "source": [
        "## 5.2. Tiempo de ejecución experimental\n",
        "\n",
        "El siguiente gráfico muestra el comportamiento del tiempo de ejecución del algoritmo en relación al tamaño del arreglo de entrada, esto utilizando problemas generados aleatoriamente de arreglos de largo $n \\in [5,500]$, cuyos elementos son números aleatorios entre $-500$ y $+500$."
      ],
      "metadata": {
        "id": "egXBgNChckAP"
      }
    },
    {
      "cell_type": "code",
      "source": [
        "import matplotlib.pyplot as plt\n",
        "import datetime\n",
        "from timeit import repeat\n",
        "\n",
        "x=[];\n",
        "y=[];\n",
        "\n",
        "for n in range(5,501):\n",
        "  a = random.sample(range(-500, 500), n)\n",
        "\n",
        "  #la función repeat está ejecutando 20 veces insert_sort con el arreglo a y retorna el mejor tiempo obtenido.\n",
        "  t = repeat(setup=\"from __main__ import maxSubArray\", stmt=f\"maxSubArray({a}, 0, len({a})-1)\", repeat=1, number=10)\n",
        "\n",
        "  x.append(n)\n",
        "  y.append(t)\n",
        "\n",
        "\n",
        "plt.plot(x,y)\n",
        "plt.legend([\"MaxSubArray\"])\n",
        "\n",
        "plt.xlabel('n')\n",
        "plt.ylabel('Tiempo en milisegundos')\n",
        "plt.show()"
      ],
      "metadata": {
        "colab": {
          "base_uri": "https://localhost:8080/",
          "height": 280
        },
        "id": "uJtWGG7TcmMx",
        "outputId": "681f616d-3c37-46c2-c92f-cd6b2a99506d"
      },
      "execution_count": 53,
      "outputs": [
        {
          "output_type": "display_data",
          "data": {
            "text/plain": [
              "<Figure size 432x288 with 1 Axes>"
            ],
            "image/png": "[encoded data removed]"
          },
          "metadata": {
            "needs_background": "light"
          }
        }
      ]
    },
    {
      "cell_type": "markdown",
      "source": [
        "### Análisis del gráfico\n",
        "\n",
        "Al ver el gráfico se puede observar que al igual que en el análisis teórico, el tiempo de ejecución experimental se comporta de manera logarítmica en relación al tamaño del arreglo de entrada.\n",
        "\n",
        "Cabe notar que existen un par de puntos muy altos en la gráfica los cuales son muy posiblemente debidos al comportamiento impredecible de los procesadores y quizás a otros procesos que también lo están ocupando."
      ],
      "metadata": {
        "id": "zp478AVMdFd1"
      }
    },
    {
      "cell_type": "markdown",
      "source": [
        "# 5.3. Comparación de tiempo de ejecución con el Algoritmo de Kadane\n",
        "\n",
        "El siguiente gráfico muestra una comparación entre los tiempos de ejecución de los algoritmos **MaxSubArray** y el de **Kadane**.\n"
      ],
      "metadata": {
        "id": "kZyYQSvRdXVh"
      }
    },
    {
      "cell_type": "code",
      "source": [
        "import datetime\n",
        "import matplotlib.pyplot as plt\n",
        "import random\n",
        "from timeit import repeat\n",
        "from sys import maxsize\n",
        "\n",
        "# Python program to find maximum contiguous subarray\n",
        "   \n",
        "# Function to find the maximum contiguous subarray\n",
        "def kadane(a):\n",
        "\n",
        "    max_so_far = -maxsize - 1\n",
        "    max_ending_here = 0\n",
        "\n",
        "    for i in range(0, len(a)):\n",
        "        max_ending_here = max_ending_here + a[i]\n",
        "        if (max_so_far < max_ending_here):\n",
        "            max_so_far = max_ending_here\n",
        "\n",
        "        if max_ending_here < 0:\n",
        "            max_ending_here = 0\n",
        "    return max_so_far\n",
        "   \n",
        "#This code is contributed by _Devesh Agrawal_\n",
        "\n",
        "x=[];\n",
        "y=[];\n",
        "yb=[];\n",
        "\n",
        "for n in range(1,501):\n",
        "  a = random.sample(range(-500, 500), n)\n",
        "  x.append(n)\n",
        "\n",
        "  #la función repeat está ejecutando 20 veces insert_sort con el arreglo a y retorna el mejor tiempo obtenido.\n",
        "  t = repeat(setup=\"from __main__ import maxSubArray\", stmt=f\"maxSubArray({a}, 0, len({a})-1)\", repeat=1, number=10)\n",
        "  y.append(t)\n",
        "  t = repeat(setup=\"from __main__ import kadane\", stmt=f\"kadane({a})\", repeat=1, number=10)\n",
        "  yb.append(t)\n",
        "\n",
        "plt.plot(x,y)\n",
        "plt.plot(x,yb)\n",
        "plt.legend([\"MaxSubArray\", \"Algoritmo de Kadane\"])\n",
        "\n",
        "plt.xlabel('n')\n",
        "plt.ylabel('Tiempo en milisegundos')\n",
        "plt.show()"
      ],
      "metadata": {
        "colab": {
          "base_uri": "https://localhost:8080/",
          "height": 279
        },
        "id": "nXJgkTxJdjE7",
        "outputId": "c8fd3f54-9631-4eb7-dd25-0529222a085b"
      },
      "execution_count": 55,
      "outputs": [
        {
          "output_type": "display_data",
          "data": {
            "text/plain": [
              "<Figure size 432x288 with 1 Axes>"
            ],
            "image/png": "[encoded data removed]"
          },
          "metadata": {
            "needs_background": "light"
          }
        }
      ]
    },
    {
      "cell_type": "markdown",
      "source": [
        "### Analisis del gráfico\n",
        "\n",
        "En el gráfico se puede apreciar como el algoritmo **MaxSubArray** tiene un mayor tiempo de ejecución en comparación al **algoritmo de Kadane** y esta diferencia crece linealmente, por lo que mientras más grande sea el arreglo de entrada, mayor será la diferencia de tiempos de ejecución entre ambos algoritmos. Por esto se puede afirmar que el **algoritmo de Kadane** es mejor para encontrar el sub-arreglo con la suma máxima. "
      ],
      "metadata": {
        "id": "hoqin5fbdeGH"
      }
    }
  ]
}