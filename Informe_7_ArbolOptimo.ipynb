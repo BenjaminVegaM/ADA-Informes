{
  "cells": [
    {
      "cell_type": "markdown",
      "metadata": {
        "id": "view-in-github",
        "colab_type": "text"
      },
      "source": [
        "<a href=\"https://colab.research.google.com/github/BenjaminVegaM/ADA-Informes/blob/main/Informe_7_ArbolOptimo.ipynb\" target=\"_parent\"><img src=\"https://colab.research.google.com/assets/colab-badge.svg\" alt=\"Open In Colab\"/></a>"
      ]
    },
    {
      "cell_type": "markdown",
      "metadata": {
        "id": "ThAKXMIMWAt6"
      },
      "source": [
        "# 1. Problema de optimización\n",
        "\n",
        "**Entrada**: Secuencia ordenada de n claves: $K=\\left<k_1,k_2,...,k_n\\right>$. Cada clave $k_i$ tiene una probabilidad $p_i$ de ser buscada. Existen **claves ficticias $d_i$** que representan **búsquedas fallidas** con $k_{i-1} \\leq d_i \\leq k_i$. Cada clave $d_i$ tiene una probabilidad $q_i$ de ser buscada. La suma de probabilidades debe ser uno, es decir: $\\sum\\limits_{i=1}^n p_i + \\sum\\limits_{j=0}^n q_i = 1$\n",
        "\n",
        "**Salida**: Construir un **árbol de búsqueda óptimo**, es decir, un árbol que **minimice la cantidad esperada de nodos visitados (costo esperado)**."
      ]
    },
    {
      "cell_type": "markdown",
      "metadata": {
        "id": "1i-cNFqvo6Hm"
      },
      "source": [
        "# 2. Árbol binario de búsqueda óptimo (recursivo)\n",
        "\n",
        "El siguiente código muestra una implementación del algoritmo **Árbol binario de búsqueda óptimo** de manera **recursiva**."
      ]
    },
    {
      "cell_type": "markdown",
      "metadata": {
        "id": "mdIFGMl5aOBs"
      },
      "source": [
        "## 2.1 Código de Árbol binario de búsqueda óptimo (recursivo)"
      ]
    },
    {
      "cell_type": "code",
      "execution_count": null,
      "metadata": {
        "id": "GgJDMHUHpTJ9"
      },
      "outputs": [],
      "source": [
        "def ArbolOptimoRecursivo(keys, prob, i, j, recursiones = 0,  verbose = False, visualize = False):\n",
        "    if visualize == True: print(\"to be added\")\n",
        "    if j < i:\n",
        "        if verbose == True: print(\"No hay elementos en este sub-arreglo\")\n",
        "        return 0, recursiones\n",
        "    if j == i:\n",
        "        if verbose == True: print(\"Solo hay 1 elemento en este sub-arreglo\")\n",
        "        return prob[i], recursiones\n",
        "\n",
        "    fsum = 0\n",
        "    for k in range(i, j + 1):\n",
        "        fsum += prob[k]\n",
        "    if verbose == True: print(\"Sumatoria de Probabilidades =\", fsum)\n",
        "     \n",
        "    Min = 99999999\n",
        "\n",
        "    for r in range(i, j + 1):\n",
        "        if verbose == True: print(\"\\nTomando como raíz al elemento\", r+1, \"de frecuencia\", prob[r])\n",
        "\n",
        "        recursiones+=1\n",
        "        if verbose == True: print(\"\\nResolviendo sub-arbol Izquierdo\", prob[i:r])\n",
        "        costIzq, recursiones = ArbolOptimoRecursivo(keys, prob, i, r - 1, recursiones, visualize, verbose)\n",
        "\n",
        "        recursiones+=1\n",
        "        if verbose == True: print(\"\\nResolviendo sub-arbol Derecho\", prob[r+1:j+1])\n",
        "        costDer, recursiones = ArbolOptimoRecursivo(keys, prob, r + 1, j, recursiones, visualize, verbose)\n",
        "\n",
        "        if verbose == True: print(\"\\nSumando ambos costos\", costIzq, \"+\", costDer, \"=\", costIzq + costDer)\n",
        "        if verbose == True: print(\"Comparando Nuevo Costo con Costo Minimo Actual (\", cost,\",\",Min,\" )\")\n",
        "        if (costIzq + costDer) < Min:\n",
        "            if verbose == True: print(\"Nuevo Costo es menor\")\n",
        "            if verbose == True: print(\"Costo Minimo =\", Min)\n",
        "        else:\n",
        "            if verbose == True: print(\"Costo Minimo Actual es menor, se mantiene\")\n",
        "        Min = min(costIzq + costDer, Min)\n",
        "\n",
        "    return Min + fsum, recursiones"
      ]
    },
    {
      "cell_type": "code",
      "execution_count": null,
      "metadata": {
        "colab": {
          "base_uri": "https://localhost:8080/"
        },
        "id": "KQSItvmoy5V9",
        "outputId": "0f104878-c13d-4f64-f539-cc1a3b8856b0"
      },
      "outputs": [
        {
          "output_type": "stream",
          "name": "stdout",
          "text": [
            "Entrada:\n",
            "K = [10, 12, 20, 22, 23, 32]\n",
            "P = [12, 28, 30, 16, 8, 6]\n",
            "\n",
            "Salida:\n",
            "Costo del Árbol Óptimo 202\n",
            "Recursiones: 404\n"
          ]
        }
      ],
      "source": [
        "# Ejemplo\n",
        "keys = [10, 12, 20, 22, 23, 32]\n",
        "prob = [12, 28, 30, 16, 8, 6]\n",
        "print(\"Entrada:\")\n",
        "print(\"K =\", keys)\n",
        "print(\"P =\", prob)\n",
        "cost, recursiones = ArbolOptimoRecursivo(keys, prob, 0, len(prob)-1)\n",
        "print(\"\\nSalida:\")\n",
        "print(\"Costo del Árbol Óptimo\", cost)\n",
        "print(\"Recursiones:\", recursiones)"
      ]
    },
    {
      "cell_type": "markdown",
      "metadata": {
        "id": "rCtEEcr6aV4G"
      },
      "source": [
        "## 2.2. Descripción del algoritmo\n",
        "\n",
        "El algoritmo **Árbol binario de búsqueda óptimo (recursivo)** calcula todas las posibles combinaciones de árboles y retorna el más óptimo y su costo esperado, es decir, el árbol que minimiza la cantidad esperada de nodos visitados.\n",
        "\n",
        "Para ello recibe como entrada una secuencia ordenada de n claves $K = [k_1, k_2, ..., k_n]$ y una secuencia de probabilidades $P = [p_1, p_2, ..., p_n]$ donde $p_i$ es la probabilidad de que $k_i$ sea buscada. Luego:\n",
        "\n",
        "1. Verifica si el sub-árbol está vacío, de ser así retorna $0$.\n",
        "\n",
        "2. Verifica si el sub-árbol solo tiene un elemento, de ser así retorna su costo.\n",
        "\n",
        "3. Calcula la sumatoria de probabilidades del sub-árbol.\n",
        "\n",
        "4. Para cada nodo del sub-árbol:\n",
        "\n",
        "    4.1. Asume que es la raíz y recursiona con el sub-árbol izquierdo y el derecho de este nodo.\n",
        "    4.2. Guarda el coste menor entre el coste anterior o la suma del costo de ambos sub-árboles.\n",
        "\n",
        "5. Retorna el costo menor guardado.\n",
        "\n",
        "> Cuando la variable `verbose` es `True` se muestra información para ver lo que pasa a medida que se ejecuta el código dentro de la función."
      ]
    },
    {
      "cell_type": "markdown",
      "source": [
        "## 2.3. Ejemplo\n",
        "\n",
        "Consideremos, por ejemplo, el arreglo de claves y sus probabilidades de ser buscadas:\n",
        "\n",
        "$K = [3, 5, 7]$\n",
        "\n",
        "$P = [30, 60, 10]$\n",
        "\n",
        "Primero verifica si el arbol está vacío y luego si solo tiene un elemento, este no es el caso por lo cual continúa.\n",
        "\n",
        "Luego calcula la sumatoria de todas las probabilidades lo cual es $100$%.\n",
        "\n",
        "Ahora entra en un ciclo desde el inicio del arbol hasta el final:\n",
        "\n",
        "- En la 1ra iteración:\n",
        "    - Se toma como raíz al  1er  elemento de frecuencia $ 30 $.\n",
        "    - Se resuelve sub-arbol Izquierdo:\n",
        "        - No hay elementos en este sub-arreglo, se retorna $0$.\n",
        "    - Se resuelve el sub-arbol Derecho $[60, 10]$:\n",
        "        - Se calcula la Sumatoria de Probabilidades la cual es $ 70 $.\n",
        "        - Ahora entra en un ciclo desde el inicio hasta el final del sub-arbol:\n",
        "        - En la 1ra iteración:\n",
        "            - Se toma como raíz al  2do  elemento de frecuencia $ 60 $.\n",
        "            - Se resuelve sub-arbol Izquierdo:\n",
        "                - No hay elementos en este sub-arreglo, se retorna $0$.\n",
        "            - Se resuelve el sub-arbol Derecho $[10]$:\n",
        "                - Solo hay 1 elemento en este sub-arreglo por lo que se retorna el único valor  = $ 10 $.\n",
        "            - Se Compara la suma de ambos costos $(10)$ con el Costo Minimo Actual (    999999999999 ):\n",
        "            - El nuevo Costo es menor por lo que se reemplaza.\n",
        "        - En la 2da iteración:\n",
        "            - Se toma como raíz al 3er elemento de frecuencia $ 10 $.\n",
        "            - Se resuelve sub-arbol Izquierdo $[60]$:\n",
        "                - Solo hay 1 elemento en este sub-arreglo por lo que se retorna el único va lo   r  = $ 60 $.\n",
        "            - Se resuelve el sub-arbol Derecho:\n",
        "                - No hay elementos en este sub-arreglo, se retorna $0$.\n",
        "            - Se Compara la suma de ambos costos $( 60 )$ con el Costo Minimo Actual ( 10 ):   \n",
        "            - El Costo Minimo Actual es menor por lo que se mantiene.\n",
        "        - Se retorna la suma entre la Sumatoria de Probabilidades y el Valor Mínimo la  cual es $ 80 $.\n",
        "    - Se Compara la suma de ambos costos $( 80 )$ con el Costo Minimo Actual $(    999999999999 )$:\n",
        "    - El nuevo Costo es menor por lo que se reemplaza.\n",
        "- En la 2da iteración:\n",
        "    - Se toma como raíz al  2do  elemento de frecuencia $ 60 $.\n",
        "    - Se resuelve sub-arbol Izquierdo $[30]$ :\n",
        "        - Solo hay 1 elemento en este sub-arreglo por lo que se retorna el único valor  = $ 30 $.\n",
        "    - Se resuelve el sub-arbol Derecho $[10]$ :\n",
        "        - Solo hay 1 elemento en este sub-arreglo por lo que se retorna el único valor  = $ 10 $.\n",
        "    - Se Compara la suma de ambos costos $( 40 )$ con el Costo Minimo Actual $( 80 )$:\n",
        "    - El nuevo Costo es menor por lo que se reemplaza.\n",
        "- En la 3ra iteración:\n",
        "    - Se toma como raíz al  3er  elemento de frecuencia $ 10 $.\n",
        "    - Se resuelve sub-arbol Izquierdo $[30, 60]$ :\n",
        "        - Se calcula la Sumatoria de Probabilidades la cual es $ 90 $.\n",
        "        - Ahora entra en un ciclo desde el inicio hasta el final del sub-arbol:\n",
        "            - En la 1ra iteración:\n",
        "                - Se toma como raíz al  1er  elemento de frecuencia $ 30 $.\n",
        "                - Se resuelve sub-arbol Izquierdo:\n",
        "                    - No hay elementos en este sub-arreglo, se retorna $0$.\n",
        "                - Se resuelve el sub-arbol Derecho $[60]$ :\n",
        "                    - Solo hay 1 elemento en este sub-arreglo por lo que se retorna el único valor  = $ 60 $.\n",
        "                - Se Compara la suma de ambos costos $( 60 )$ con el Costo Minimo Actual $(999999999999)$:\n",
        "                - El nuevo Costo es menor por lo que se reemplaza.\n",
        "            - En la 2da iteración:\n",
        "                - Se toma como raíz al  2do  elemento de frecuencia $ 60 $.\n",
        "                - Se resuelve sub-arbol Izquierdo $[30]$ :\n",
        "                    - Solo hay 1 elemento en este sub-arreglo por lo que se retorna el único valor  = $ 30 $.\n",
        "                - Se resuelve el sub-arbol Derecho:\n",
        "                    - No hay elementos en este sub-arreglo, se retorna $0$.\n",
        "                - Se Compara la suma de ambos costos $(30)$ con el Costo Minimo Actual $(60)$:   \n",
        "                - El nuevo Costo es menor por lo que se reemplaza.\n",
        "            - Se retorna la suma entre la Sumatoria de Probabilidades y el Valor Mínimo la  cual es $ 120 $.\n",
        "    - Se resuelve el sub-arbol Derecho:\n",
        "        - No hay elementos en este sub-arreglo, se retorna $0$.\n",
        "    - Se Compara la suma de ambos costos $( 120 )$ con el Costo Minimo Actual $( 40 )$  :\n",
        "    - El Costo Minimo Actual es menor por lo que se mantiene.\n",
        "- Se retorna la suma entre la Sumatoria de Probabilidades y el Valor Mínimo la  cual es $ 140 $.\n",
        "\n",
        "Con ello finaliza el algoritmo."
      ],
      "metadata": {
        "id": "PdibfTjsZ3Hg"
      }
    },
    {
      "cell_type": "markdown",
      "source": [
        "## 2.4. Ejecución del Algoritmo Paso a Paso (verbose = True)\n",
        "\n",
        "Al utilizar la opción `verbose=True` se puede ver paso a paso lo que le ocurre al arreglo en cada iteración del algoritmo."
      ],
      "metadata": {
        "id": "X8yPO6_NAf3P"
      }
    },
    {
      "cell_type": "code",
      "source": [
        "# Ejemplo\n",
        "keys = [1, 4, 5]\n",
        "prob = [12, 28, 60]\n",
        "print(\"Entrada:\")\n",
        "print(\"K =\", keys)\n",
        "print(\"P =\", prob)\n",
        "cost, recursiones = ArbolOptimoRecursivo(keys, prob, 0, len(prob)-1, 0, True)\n",
        "print(\"\\nSalida:\")\n",
        "print(\"Costo del Árbol Óptimo\", cost)\n",
        "print(\"Recursiones:\", recursiones)"
      ],
      "metadata": {
        "colab": {
          "base_uri": "https://localhost:8080/"
        },
        "id": "fefbQA4kAian",
        "outputId": "b8edaef0-9863-40b0-81d2-2463ec666e7d"
      },
      "execution_count": null,
      "outputs": [
        {
          "output_type": "stream",
          "name": "stdout",
          "text": [
            "Entrada:\n",
            "K = [1, 4, 5]\n",
            "P = [12, 28, 60]\n",
            "Sumatoria de Probabilidades = 100\n",
            "\n",
            "Tomando como raíz al elemento 1 de frecuencia 12\n",
            "\n",
            "Resolviendo sub-arbol Izquierdo []\n",
            "to be added\n",
            "\n",
            "Resolviendo sub-arbol Derecho [28, 60]\n",
            "to be added\n",
            "No hay elementos en este sub-arreglo\n",
            "Solo hay 1 elemento en este sub-arreglo\n",
            "Solo hay 1 elemento en este sub-arreglo\n",
            "No hay elementos en este sub-arreglo\n",
            "\n",
            "Sumando ambos costos 0 + 116 = 116\n",
            "Comparando Nuevo Costo con Costo Minimo Actual ( 202 , 99999999  )\n",
            "Nuevo Costo es menor\n",
            "Costo Minimo = 99999999\n",
            "\n",
            "Tomando como raíz al elemento 2 de frecuencia 28\n",
            "\n",
            "Resolviendo sub-arbol Izquierdo [12]\n",
            "to be added\n",
            "\n",
            "Resolviendo sub-arbol Derecho [60]\n",
            "to be added\n",
            "\n",
            "Sumando ambos costos 12 + 60 = 72\n",
            "Comparando Nuevo Costo con Costo Minimo Actual ( 202 , 116  )\n",
            "Nuevo Costo es menor\n",
            "Costo Minimo = 116\n",
            "\n",
            "Tomando como raíz al elemento 3 de frecuencia 60\n",
            "\n",
            "Resolviendo sub-arbol Izquierdo [12, 28]\n",
            "to be added\n",
            "No hay elementos en este sub-arreglo\n",
            "Solo hay 1 elemento en este sub-arreglo\n",
            "Solo hay 1 elemento en este sub-arreglo\n",
            "No hay elementos en este sub-arreglo\n",
            "\n",
            "Resolviendo sub-arbol Derecho []\n",
            "to be added\n",
            "\n",
            "Sumando ambos costos 52 + 0 = 52\n",
            "Comparando Nuevo Costo con Costo Minimo Actual ( 202 , 72  )\n",
            "Nuevo Costo es menor\n",
            "Costo Minimo = 72\n",
            "\n",
            "Salida:\n",
            "Costo del Árbol Óptimo 152\n",
            "Recursiones: 14\n"
          ]
        }
      ]
    },
    {
      "cell_type": "markdown",
      "source": [
        "## 2.5. Visualización del Árbol Óptimo (visualize = True)\n",
        "\n",
        "Al utilizar la opción `visualize=True` se mostrará una imagen del árbol óptimo."
      ],
      "metadata": {
        "id": "A1QwDwoz8LS-"
      }
    },
    {
      "cell_type": "code",
      "source": [
        "# Ejemplo\n",
        "keys = [10, 12, 20, 22, 23, 32]\n",
        "prob = [12, 28, 30, 16, 8, 6]\n",
        "print(\"Entrada:\")\n",
        "print(\"K =\", keys)\n",
        "print(\"P =\", prob)\n",
        "cost, recursiones = ArbolOptimoRecursivo(keys, prob, 0, len(prob)-1, 0, False, True)\n",
        "print(\"\\nSalida:\")\n",
        "print(\"Costo del Árbol Óptimo\", cost)\n",
        "print(\"Recursiones:\", recursiones)"
      ],
      "metadata": {
        "id": "6pNBH7zL--jl"
      },
      "execution_count": null,
      "outputs": []
    },
    {
      "cell_type": "markdown",
      "metadata": {
        "id": "IPfxz2eqi6_e"
      },
      "source": [
        "# 3. Árbol binario de búsqueda óptimo (dinámico bottom-up)\n",
        "\n",
        "El siguiente código muestra una implementación del algoritmo **Árbol binario de búsqueda óptimo** de manera dinámica bottom-up."
      ]
    },
    {
      "cell_type": "markdown",
      "metadata": {
        "id": "te8E6zwujcsk"
      },
      "source": [
        "## 3.1. Árbol binario de búsqueda óptimo dinámico"
      ]
    },
    {
      "cell_type": "code",
      "execution_count": null,
      "metadata": {
        "id": "oGJLvK--jAxG"
      },
      "outputs": [],
      "source": [
        "import numpy as np\n",
        "import random  \n",
        "import networkx as nx\n",
        "import pydot\n",
        "from networkx.drawing.nx_pydot import graphviz_layout\n",
        "def ArbolOptimoDinamico(keys, prob, verbose = False, visualize = False):\n",
        " \n",
        "    count = 0\n",
        "    n = len(prob)\n",
        " \n",
        "    if verbose == True: print(\"Creando la matriz auxiliar para almacenar el costo óptimo\")\n",
        "    cost = [[0] * n for i in range(n)]\n",
        "    if verbose == True: print(np.matrix(cost))\n",
        " \n",
        "    if verbose == True: print(\"\\nSe inicializa el caso base de la probabilidad de cada clave individual\")\n",
        "    for i in range(n):\n",
        "        cost[i][i] = prob[i]\n",
        "    if verbose == True: print(np.matrix(cost))\n",
        "\n",
        "    if verbose == True: print(\"\\nEntrando al 1er for\")\n",
        "    for size in range(1, n + 1):\n",
        "\n",
        "        if verbose == True: print(\"\\nEntrando al 2do for\")\n",
        "        for i in range(n - size + 1):\n",
        "\n",
        "            if verbose == True: print(\"\\ni =\",i)\n",
        "\n",
        "            j = min(i + size - 1, n - 1)\n",
        "            if verbose == True: print(\"j = Min( i +\",size-1,\",\",n-1,\")\")\n",
        "\n",
        "            cost[i][j] = 9999999999\n",
        "\n",
        "            if verbose == True: print(\"\\nMatriz actual de Costos:\")\n",
        "            if verbose == True: print(np.matrix(cost))\n",
        "\n",
        "            if verbose == True: print(\"\\nEntrando al 3er for\")\n",
        "            for r in range(i, j + 1):\n",
        "                if verbose == True: print(\"r =\", r)\n",
        "                total = 0\n",
        "\n",
        "                for k in range(i, j + 1):\n",
        "                    total += prob[k]\n",
        "                if verbose == True: print(\"total =\", total)\n",
        "\n",
        "                if r != i:\n",
        "                    if verbose == True: print(\"cost Izq =\", cost[i][r-1])\n",
        "                    total += cost[i][r - 1]\n",
        "\n",
        "                if r != j:\n",
        "                    if verbose == True: print(\"cost Izq =\", cost[r+1][j])\n",
        "                    total += cost[r + 1][j]\n",
        "\n",
        "                if verbose == True: print(\"total vs cost[i][j]\")\n",
        "                if verbose == True: print(total,\"vs\",cost[i][j])\n",
        "\n",
        "                if total < cost[i][j]:\n",
        "                    if verbose == True: print(\"Nuevo costo es menor, actualizando\")\n",
        "                else:\n",
        "                    if verbose == True: print(\"Costo actual es menor, sin cambios\")\n",
        "                cost[i][j] = min(total, cost[i][j])\n",
        "\n",
        "                count+=1\n",
        "            \n",
        "            if verbose == True: print(\"\\nMatriz después del 3er for:\")\n",
        "            if verbose == True: print(np.matrix(cost))\n",
        "    \n",
        "    if verbose == True: print(\"\\nMatriz final de costos:\")\n",
        "    if verbose == True: print(np.matrix(cost))\n",
        "\n",
        "    if visualize == True: mostrarArbol(keys, prob, cost)\n",
        "\n",
        "    return cost[0][n - 1], count\n",
        "\n",
        "\n",
        "def mostrarArbol(keys, prob, matriz):\n",
        "    # Generar árbol\n",
        "    print(\"Aquí se debería mostrar el árbol\")\n",
        "    \n",
        "    #iniciar arbol\n",
        "\n",
        "    #for n in range(len(keys)-1):\n",
        "    #   (si tiene) crear Hijo 1\n",
        "    #   (si tiene) crear Hijo 2\n",
        "    #   crear Nodo Raiz\n",
        "    #   unir los hijoz a la raíz\n",
        "    #   \n",
        "\n",
        "\n",
        "    # Dibujar el árbol"
      ]
    },
    {
      "cell_type": "code",
      "source": [
        "# Ejemplo\n",
        "keys = [10, 12, 20, 22, 23, 32]\n",
        "prob = [12, 28, 30, 16, 8, 6]\n",
        "print(\"Entrada:\")\n",
        "print(\"K =\", keys)\n",
        "print(\"P =\", prob)\n",
        "cost, count = ArbolOptimoDinamico(keys, prob)\n",
        "print(\"\\nSalida:\")\n",
        "print(\"Costo del Árbol Óptimo\", cost)\n",
        "print(\"Subproblemas resueltos =\", count)"
      ],
      "metadata": {
        "colab": {
          "base_uri": "https://localhost:8080/"
        },
        "id": "DRZm4YikFPwc",
        "outputId": "09e5359d-0178-4636-e11c-6e06911ec955"
      },
      "execution_count": null,
      "outputs": [
        {
          "output_type": "stream",
          "name": "stdout",
          "text": [
            "Entrada:\n",
            "K = [10, 12, 20, 22, 23, 32]\n",
            "P = [12, 28, 30, 16, 8, 6]\n",
            "\n",
            "Salida:\n",
            "Costo del Árbol Óptimo 202\n",
            "Subproblemas resueltos = 56\n"
          ]
        }
      ]
    },
    {
      "cell_type": "markdown",
      "metadata": {
        "id": "y7FYdww7jhhG"
      },
      "source": [
        "## 3.2. Descripción del algoritmo\n",
        "\n",
        "El algoritmo **Árbol binario de búsqueda óptimo (dinámico)** calcula el árbol binario más óptimo y su costo esperado, es decir, el árbol que minimiza la cantidad esperada de nodos visitados.\n",
        "\n",
        "Para ello recibe como entrada una secuencia ordenada de n claves $K = [k_1, k_2, ..., k_n]$ y una secuencia de probabilidades $P = [p_1, p_2, ..., p_n]$ donde $p_i$ es la probabilidad de que $k_i$ sea buscada. Luego:\n",
        "\n",
        "1. Crea una matriz cuadrada de $n^2$ elementos.\n",
        "\n",
        "2. Inicializa la diagonal principal con la probabilidad de cada llave (i=j).\n",
        "\n",
        "3. Para $i$ desde 0\n",
        "\n",
        ". Retorna el costo menor guardado.\n",
        "\n",
        "> Cuando la variable `verbose` es `True` se muestra información para ver lo que pasa a medida que se ejecuta el código dentro de la función."
      ]
    },
    {
      "cell_type": "markdown",
      "metadata": {
        "id": "hMQhgqeoX8AK"
      },
      "source": [
        "## 3.3. Ejemplo\n",
        "\n"
      ]
    },
    {
      "cell_type": "markdown",
      "metadata": {
        "id": "wqsr8TPVXqNE"
      },
      "source": [
        "## 3.4. Ejecución del Algoritmo Paso a Paso (verbose = True)\n",
        "\n",
        "Al utilizar la opción `verbose=True` se puede ver paso a paso lo que le ocurre al arreglo en cada iteración del algoritmo."
      ]
    },
    {
      "cell_type": "code",
      "execution_count": null,
      "metadata": {
        "colab": {
          "base_uri": "https://localhost:8080/"
        },
        "id": "8mb_Y42zaAyo",
        "outputId": "9ce6ffc1-0e22-4fb6-9f04-f7c2edb51000"
      },
      "outputs": [
        {
          "output_type": "stream",
          "name": "stdout",
          "text": [
            "Entrada:\n",
            "K = [10, 12, 20]\n",
            "P = [34, 8, 50]\n",
            "Creando la matriz auxiliar para almacenar el costo óptimo\n",
            "[[0 0 0]\n",
            " [0 0 0]\n",
            " [0 0 0]]\n",
            "\n",
            "Se inicializa el caso base de la probabilidad de cada clave individual\n",
            "[[34  0  0]\n",
            " [ 0  8  0]\n",
            " [ 0  0 50]]\n",
            "\n",
            "Entrando al 1er for\n",
            "\n",
            "Entrando al 2do for\n",
            "\n",
            "i = 0\n",
            "j = Min( i + 0 , 2 )\n",
            "\n",
            "Matriz actual de Costos:\n",
            "[[9999999999          0          0]\n",
            " [         0          8          0]\n",
            " [         0          0         50]]\n",
            "\n",
            "Entrando al 3er for\n",
            "r = 0\n",
            "total = 34\n",
            "total vs cost[i][j]\n",
            "34 vs 9999999999\n",
            "Nuevo costo es menor, actualizando\n",
            "\n",
            "Matriz después del 3er for:\n",
            "[[34  0  0]\n",
            " [ 0  8  0]\n",
            " [ 0  0 50]]\n",
            "\n",
            "i = 1\n",
            "j = Min( i + 0 , 2 )\n",
            "\n",
            "Matriz actual de Costos:\n",
            "[[        34          0          0]\n",
            " [         0 9999999999          0]\n",
            " [         0          0         50]]\n",
            "\n",
            "Entrando al 3er for\n",
            "r = 1\n",
            "total = 8\n",
            "total vs cost[i][j]\n",
            "8 vs 9999999999\n",
            "Nuevo costo es menor, actualizando\n",
            "\n",
            "Matriz después del 3er for:\n",
            "[[34  0  0]\n",
            " [ 0  8  0]\n",
            " [ 0  0 50]]\n",
            "\n",
            "i = 2\n",
            "j = Min( i + 0 , 2 )\n",
            "\n",
            "Matriz actual de Costos:\n",
            "[[        34          0          0]\n",
            " [         0          8          0]\n",
            " [         0          0 9999999999]]\n",
            "\n",
            "Entrando al 3er for\n",
            "r = 2\n",
            "total = 50\n",
            "total vs cost[i][j]\n",
            "50 vs 9999999999\n",
            "Nuevo costo es menor, actualizando\n",
            "\n",
            "Matriz después del 3er for:\n",
            "[[34  0  0]\n",
            " [ 0  8  0]\n",
            " [ 0  0 50]]\n",
            "\n",
            "Entrando al 2do for\n",
            "\n",
            "i = 0\n",
            "j = Min( i + 1 , 2 )\n",
            "\n",
            "Matriz actual de Costos:\n",
            "[[        34 9999999999          0]\n",
            " [         0          8          0]\n",
            " [         0          0         50]]\n",
            "\n",
            "Entrando al 3er for\n",
            "r = 0\n",
            "total = 42\n",
            "cost Izq = 8\n",
            "total vs cost[i][j]\n",
            "50 vs 9999999999\n",
            "Nuevo costo es menor, actualizando\n",
            "r = 1\n",
            "total = 42\n",
            "cost Izq = 34\n",
            "total vs cost[i][j]\n",
            "76 vs 50\n",
            "Costo actual es menor, sin cambios\n",
            "\n",
            "Matriz después del 3er for:\n",
            "[[34 50  0]\n",
            " [ 0  8  0]\n",
            " [ 0  0 50]]\n",
            "\n",
            "i = 1\n",
            "j = Min( i + 1 , 2 )\n",
            "\n",
            "Matriz actual de Costos:\n",
            "[[        34         50          0]\n",
            " [         0          8 9999999999]\n",
            " [         0          0         50]]\n",
            "\n",
            "Entrando al 3er for\n",
            "r = 1\n",
            "total = 58\n",
            "cost Izq = 50\n",
            "total vs cost[i][j]\n",
            "108 vs 9999999999\n",
            "Nuevo costo es menor, actualizando\n",
            "r = 2\n",
            "total = 58\n",
            "cost Izq = 8\n",
            "total vs cost[i][j]\n",
            "66 vs 108\n",
            "Nuevo costo es menor, actualizando\n",
            "\n",
            "Matriz después del 3er for:\n",
            "[[34 50  0]\n",
            " [ 0  8 66]\n",
            " [ 0  0 50]]\n",
            "\n",
            "Entrando al 2do for\n",
            "\n",
            "i = 0\n",
            "j = Min( i + 2 , 2 )\n",
            "\n",
            "Matriz actual de Costos:\n",
            "[[        34         50 9999999999]\n",
            " [         0          8         66]\n",
            " [         0          0         50]]\n",
            "\n",
            "Entrando al 3er for\n",
            "r = 0\n",
            "total = 92\n",
            "cost Izq = 66\n",
            "total vs cost[i][j]\n",
            "158 vs 9999999999\n",
            "Nuevo costo es menor, actualizando\n",
            "r = 1\n",
            "total = 92\n",
            "cost Izq = 34\n",
            "cost Izq = 50\n",
            "total vs cost[i][j]\n",
            "176 vs 158\n",
            "Costo actual es menor, sin cambios\n",
            "r = 2\n",
            "total = 92\n",
            "cost Izq = 50\n",
            "total vs cost[i][j]\n",
            "142 vs 158\n",
            "Nuevo costo es menor, actualizando\n",
            "\n",
            "Matriz después del 3er for:\n",
            "[[ 34  50 142]\n",
            " [  0   8  66]\n",
            " [  0   0  50]]\n",
            "\n",
            "Matriz final de costos:\n",
            "[[ 34  50 142]\n",
            " [  0   8  66]\n",
            " [  0   0  50]]\n",
            "\n",
            "Salida:\n",
            "Costo del Árbol Óptimo 142\n",
            "Subproblemas resueltos = 10\n"
          ]
        }
      ],
      "source": [
        "# Ejemplo\n",
        "keys = [10, 12, 20]\n",
        "prob = [34, 8, 50]\n",
        "print(\"Entrada:\")\n",
        "print(\"K =\", keys)\n",
        "print(\"P =\", prob)\n",
        "cost, count = ArbolOptimoDinamico(keys, prob, True)\n",
        "print(\"\\nSalida:\")\n",
        "print(\"Costo del Árbol Óptimo\", cost)\n",
        "print(\"Subproblemas resueltos =\", count)"
      ]
    },
    {
      "cell_type": "markdown",
      "source": [
        "## 3.5. Visualización del Árbol Óptimo (visualize = True)\n",
        "\n",
        "Al utilizar la opción `visualize=True` se mostrará una imagen del árbol óptimo."
      ],
      "metadata": {
        "id": "hozklwvH75NO"
      }
    },
    {
      "cell_type": "code",
      "source": [
        "# Ejemplo\n",
        "keys = [10, 12, 20]\n",
        "prob = [34, 8, 50]\n",
        "print(\"Entrada:\")\n",
        "print(\"K =\", keys)\n",
        "print(\"P =\", prob)\n",
        "cost, count = ArbolOptimoDinamico(keys, prob, False, True)\n",
        "print(\"\\nSalida:\")\n",
        "print(\"Costo del Árbol Óptimo\", cost)\n",
        "print(\"Subproblemas resueltos =\", count)"
      ],
      "metadata": {
        "colab": {
          "base_uri": "https://localhost:8080/"
        },
        "id": "JPgyZmw2JP6B",
        "outputId": "57d21703-2aa0-4526-a1ba-d46e40130160"
      },
      "execution_count": null,
      "outputs": [
        {
          "output_type": "stream",
          "name": "stdout",
          "text": [
            "Entrada:\n",
            "K = [10, 12, 20]\n",
            "P = [34, 8, 50]\n",
            "Aquí se debería mostrar el árbol\n",
            "\n",
            "Salida:\n",
            "Costo del Árbol Óptimo 142\n",
            "Subproblemas resueltos = 10\n"
          ]
        }
      ]
    },
    {
      "cell_type": "code",
      "source": [
        "prob = [1,2,3]\n",
        "cost, recursiones = ArbolOptimoRecursivo(keys, prob, 0, len(prob)-1)\n",
        "print(\"Recursiones:\", recursiones)"
      ],
      "metadata": {
        "colab": {
          "base_uri": "https://localhost:8080/"
        },
        "id": "wBgiBgQuXzby",
        "outputId": "993354d5-2b15-4077-fcac-be686052c5e2"
      },
      "execution_count": null,
      "outputs": [
        {
          "output_type": "stream",
          "name": "stdout",
          "text": [
            "Recursiones: 14\n"
          ]
        }
      ]
    },
    {
      "cell_type": "markdown",
      "metadata": {
        "id": "2vcJc3vGX-uq"
      },
      "source": [
        "# 4. Tiempo de ejecución\n",
        "\n",
        "## 4.1. Algoritmo Recursivo\n",
        "\n",
        "### 4.1.1. Fórmula de recurrencia\n",
        "\n",
        "La fórmula de recurrencia **T(n)** del algoritmo se obtiene analizando sus partes.\n",
        "\n",
        "Para el caso base $n \\leq 1$ el algoritmo:\n",
        "\n",
        "Pregunta si la cantidad de nodos es igual a $1$ y luego retorna $0$ sin realizar ninguna recursión.\n",
        "\n",
        "Pregunta si la cantidad de nodos es igual a $0$ y luego retorna el valor sin realizar ninguna recursión.\n",
        "\n",
        "Ambas acciones tienen un tiempo de ejecución $O(1)$, por esto se obtiene que $T(n)=O(1)$ si $n \\leq 1$.\n",
        "\n",
        "Para el resto de casos se tiene:\n",
        "\n",
        "- Un ciclo for que itera $n$ veces, por ello tiene un tiempo de ejecución de $O(n)$.\n",
        "\n",
        "- Otro ciclo for que itera $n$ veces donde:\n",
        "\n",
        "    - Se realiza una llamada recursiva donde se entrega un largo $i$ y otra donde se entrega un largo $n-i$, donde $i$ es la iteración actual del ciclo.\n",
        "\n",
        "Juntando las partes se tiene que\n",
        "\n",
        "$T(n) = \\sum\\limits_{i=1}^{n} (i + (n-i))$\n",
        "\n",
        "$\\sum\\limits_{i=1}^{n} (i + (n-i)) = n^2$\n",
        "\n",
        "Juntando esto con el resto se tiene que:\n",
        "\n",
        "$T(n) = n + n^2$\n",
        "\n",
        "$T(n) = n(n+1)$\n",
        "\n",
        "Eliminando las constantes se tiene que:\n",
        "\n",
        "$T(n) = n^2$\n",
        "\n",
        "Por lo cual la complejidad temporal del algoritmo es $O(n^2)$.\n",
        "\n",
        "## 4.2. Algoritmo Dinámico\n",
        "\n",
        "### 4.2.1. Fórmula de recurrencia\n",
        "\n",
        "La fórmula de recurrencia **T(n)** del algoritmo se obtiene analizando sus partes.\n",
        "\n",
        "Para el caso base $n \\leq 1$ las iteraciones del algoritmo serán desde $1$ hasta $1$, por ello no se realizará ninguna iteración y se retornará el valor único, por esto se obtiene que $T(n)=O(1)$ si $n \\leq 1$.\n",
        "\n",
        "Para el resto de casos se tiene:\n",
        "\n",
        "- Un ciclo for que itera $n$ veces, por ello tiene un tiempo de ejecución de $O(n)$.\n",
        "\n",
        "- Otro ciclo for que itera $n$ veces donde:\n",
        "\n",
        "    - Se realiza otra iteración $i$ veces donde $i$ es el número de iteración actual del ciclo superior.\n",
        "        - En este ciclo se realiza otro ciclo que itera $2$ veces:\n",
        "            - Dentro hay otro ciclo que itera $2$ veces. Esto es $O(2)$.\n",
        "\n",
        "Juntando las partes se tiene que:\n",
        "\n",
        "$T(n) = \\sum\\limits_{i=1}^{n} i(2(2))$\n",
        "\n",
        "$\\sum\\limits_{i=1}^{n} i(2(2)) = 2n(n+1)$\n",
        "\n",
        "Juntando esto con el resto se tiene que:\n",
        "\n",
        "$T(n) = n + 2n(n+1)$\n",
        "\n",
        "$T(n) = n(2n+3)$\n",
        "\n",
        "Eliminando las constantes se tiene que:\n",
        "\n",
        "$T(n) = n^2$\n",
        "\n",
        "Por lo cual la complejidad temporal del algoritmo es $O(n^2)$."
      ]
    },
    {
      "cell_type": "markdown",
      "metadata": {
        "id": "UWcUdWFj-eeJ"
      },
      "source": [
        "# 5. Complejidad espacial\n",
        "\n",
        "El algoritmo crea una matriz de dimensiones $(n*n)$ que almacena los costos óptimos esperados de cada sub-árbol, por ello la complejidad espacial del algoritmo es de $O(n^2)$. "
      ]
    },
    {
      "cell_type": "markdown",
      "metadata": {
        "id": "TGRHLXv3ptc1"
      },
      "source": [
        "# 6. Correctitud \n",
        "\n",
        "## 6.1. Teorema (Correctitud de Árbol binario de búsqueda óptimo dinámico)\n",
        "\n",
        "El algoritmo **Árbol binario de búsqueda óptimo (dinámico)** devuelve el costo esperado del árbol óptimo que tiene las claves $K = [k_1, k_2, ..., k_n]$ de probabilidades $P = [p_1, p_2, ..., p_n]$.\n",
        "\n",
        "## 6.2. Prueba del Teorema\n",
        "\n",
        "Encontrar el árbol binario óptimo de $n$ nodos es equivalente a encontrar el nodo raíz que genere el coste mínimo basándose en el coste mínimo de los subproblemas que se forman.\n",
        "\n",
        "### Caso base $i = j = 1$\n",
        "\n",
        "Si $T(1)$ la función retorna el valor costo del elemento ya que no hay más nodos o sub-árboles.\n",
        "\n",
        "Caso Base $(i = j = 1)$: La matriz es de filas $i$ y columnas $j$ solo tiene un elemento, y como no tiene sub-árboles, el árbol óptimo es el mismo elemento.\n",
        "\n",
        "### Hipotesis Inductiva\n",
        "\n",
        "Para un elemento $(i,j)$ de la matriz, los elementos $(i-1, j)$ y $(i, j+1)$ tiene los resultados de los mejores sub-árboles, luego el algoritmo encuentra el valor óptimo entre ambas opciones.\n",
        "\n",
        "Finalmente el elemento $(i,j)$ tendrá el coste esperado del árbol binario de búsqueda óptimo para los elementos desde $[i,...,j]$."
      ]
    },
    {
      "cell_type": "markdown",
      "source": [
        "# 7. Experimentos"
      ],
      "metadata": {
        "id": "IIUVL5G3NqwX"
      }
    },
    {
      "cell_type": "code",
      "source": [
        "# Código para generar árboles aleatorios\n",
        "import random\n",
        "import numpy as np\n",
        "def generarArbolProbs(n):\n",
        "    keys = sorted(random.sample(range(1, 100), n))\n",
        "    arr = np.random.random(n*2+1)\n",
        "    arr /= arr.sum()\n",
        "    \n",
        "    p = list(arr[:n]) # Probabilidad de las claves\n",
        "    q = arr[n:] # Probabilidad de las claves ficticias\n",
        "    return keys, p, q"
      ],
      "metadata": {
        "id": "ly9z7mEVKXHO"
      },
      "execution_count": null,
      "outputs": []
    },
    {
      "cell_type": "markdown",
      "metadata": {
        "id": "egXBgNChckAP"
      },
      "source": [
        "## 7.1. Tiempo de ejecución experimental\n",
        "\n",
        "El siguiente gráfico muestra una comparación entre el comportamiento del tiempo de ejecución del algoritmo **Árbol binario de búsqueda óptimo** en su forma *recursiva* y *dinámica* en relación a la cantidad de claves $n \\in [1,16]$."
      ]
    },
    {
      "cell_type": "code",
      "execution_count": null,
      "metadata": {
        "colab": {
          "base_uri": "https://localhost:8080/",
          "height": 279
        },
        "id": "uJtWGG7TcmMx",
        "outputId": "0e70bb2a-524d-4398-ccbd-74fa3c27172d"
      },
      "outputs": [
        {
          "output_type": "display_data",
          "data": {
            "text/plain": [
              "<Figure size 432x288 with 1 Axes>"
            ],
            "image/png": "[encoded data removed]"
          },
          "metadata": {
            "needs_background": "light"
          }
        }
      ],
      "source": [
        "import matplotlib.pyplot as plt\n",
        "import datetime\n",
        "import random\n",
        "from timeit import repeat\n",
        "\n",
        "x=[];\n",
        "yR=[];\n",
        "yD=[];\n",
        "\n",
        "for n in range(1,17):\n",
        "    expKeys, expProb, expFails = generarArbolProbs(n)\n",
        "    x.append(n)\n",
        "    t = repeat(setup=\"from __main__ import ArbolOptimoRecursivo\", stmt=f\"ArbolOptimoRecursivo({expKeys}, {expProb}, 0, {len(expProb)-1})\", repeat=1, number=10)\n",
        "    yR.append(t)\n",
        "    t = repeat(setup=\"from __main__ import ArbolOptimoDinamico\", stmt=f\"ArbolOptimoDinamico({expKeys}, {expProb})\", repeat=1, number=10)\n",
        "    yD.append(t)\n",
        "\n",
        "plt.plot(x,yR)\n",
        "plt.plot(x,yD)\n",
        "plt.legend([\"Recursivo\", \"Dinámico\"])\n",
        "\n",
        "plt.xlabel('n')\n",
        "plt.ylabel('Tiempo en milisegundos')\n",
        "plt.show()"
      ]
    },
    {
      "cell_type": "markdown",
      "metadata": {
        "id": "zp478AVMdFd1"
      },
      "source": [
        "### Análisis del gráfico\n",
        "\n",
        "Del gráfico se puede ver que la implementación dinámica del algoritmo **Árbol binario de búsqueda óptimo** es mucho más rápida en comparacion a la implementación recursiva.\n",
        "\n",
        "Cabe notar que a diferencia de experimentos anteriores con otros algoritmos, aquí no existen los puntos altos en la gráfica o \"ruido\" que es causado normalmente debido al comportamiento impredecible de los procesadores, esto es posiblemente por lo corto que es el problema y el rango en el que se encuentra $n$, muy probablemente para rangos de $n$ mayores se empiezen a ver esos eventos."
      ]
    },
    {
      "cell_type": "markdown",
      "metadata": {
        "id": "kZyYQSvRdXVh"
      },
      "source": [
        "# 7.2. Analisis Elemento con mayor probabilidad como raiz\n",
        "\n",
        "El siguiente gráfico muestra una comparación entre los tiempos de ejecución de los algoritmos si seleccionamos al elemento con mayor probabilidad de ser buscado como raiz del árbol.\n"
      ]
    },
    {
      "cell_type": "code",
      "execution_count": null,
      "metadata": {
        "id": "nXJgkTxJdjE7"
      },
      "outputs": [],
      "source": [
        "import numpy as np\n",
        "# Codigo Recursivo\n",
        "def ArbolOptimoRecursivoExperimento(prob, i, j):\n",
        "    if j < i:\n",
        "        return 0\n",
        "    if j == i:\n",
        "        return prob[i]\n",
        "    fsum = 0\n",
        "    for k in range(i, j + 1):\n",
        "        fsum += prob[k]\n",
        "    Min = 99999999\n",
        "    for r in range(i, j + 1):\n",
        "        costIzq = ArbolOptimoRecursivoExperimento(prob, i, r - 1)\n",
        "        costDer = ArbolOptimoRecursivoExperimento(prob, r + 1, j)\n",
        "        Min = min(costIzq + costDer, Min)\n",
        "    return Min + fsum\n",
        "\n",
        "# Codigo Dinamico\n",
        "def ArbolOptimoDinamicoExperimento(prob):\n",
        "    n = len(prob)\n",
        "    cost = [[0] * n for i in range(n)]\n",
        "    for i in range(n):\n",
        "        cost[i][i] = prob[i]\n",
        "    for size in range(1, n + 1):\n",
        "        for i in range(n - size + 1):\n",
        "            j = min(i + size - 1, n - 1)\n",
        "            cost[i][j] = 9999999999\n",
        "            for r in range(i, j + 1):\n",
        "                total = 0\n",
        "                for k in range(i, j + 1):\n",
        "                    total += prob[k]\n",
        "                if r != i: total += cost[i][r - 1]\n",
        "                if r != j: total += cost[r + 1][j]\n",
        "                cost[i][j] = min(total, cost[i][j])\n",
        "    return cost[0][n - 1]\n",
        "\n",
        "k, p, nul = generarArbolProbs(5)\n",
        "\n",
        "print(ArbolOptimoRecursivoExperimento(p, 0, 4))\n",
        "print(ArbolOptimoDinamicoExperimento(p))"
      ]
    },
    {
      "cell_type": "markdown",
      "metadata": {
        "id": "hoqin5fbdeGH"
      },
      "source": [
        "### Analisis del gráfico\n",
        "\n"
      ]
    }
  ],
  "metadata": {
    "colab": {
      "collapsed_sections": [
        "ThAKXMIMWAt6",
        "hMQhgqeoX8AK",
        "H7SJBmv5aO_u",
        "zp478AVMdFd1"
      ],
      "provenance": [],
      "authorship_tag": "ABX9TyNACYUikSfJX6X6M8Iz98hX",
      "include_colab_link": true
    },
    "kernelspec": {
      "display_name": "Python 3",
      "name": "python3"
    },
    "language_info": {
      "name": "python"
    }
  },
  "nbformat": 4,
  "nbformat_minor": 0
}