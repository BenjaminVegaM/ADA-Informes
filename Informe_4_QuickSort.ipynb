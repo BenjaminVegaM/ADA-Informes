{
  "nbformat": 4,
  "nbformat_minor": 0,
  "metadata": {
    "colab": {
      "provenance": [],
      "collapsed_sections": [],
      "authorship_tag": "ABX9TyNxChluecVyvQKRO1UlkTvG",
      "include_colab_link": true
    },
    "kernelspec": {
      "name": "python3",
      "display_name": "Python 3"
    },
    "language_info": {
      "name": "python"
    }
  },
  "cells": [
    {
      "cell_type": "markdown",
      "metadata": {
        "id": "view-in-github",
        "colab_type": "text"
      },
      "source": [
        "<a href=\"https://colab.research.google.com/github/BenjaminVegaM/ADA-Informes/blob/main/Informe_4_QuickSort.ipynb\" target=\"_parent\"><img src=\"https://colab.research.google.com/assets/colab-badge.svg\" alt=\"Open In Colab\"/></a>"
      ]
    },
    {
      "cell_type": "markdown",
      "source": [
        "# 1. Problema de ordenamiento\n",
        "\n",
        "**Entrada**: Secuencia de n números $[a_1,a_2,a_3,...,a_n]$\n",
        "\n",
        "**Salida**: Permutación ordenada de la secuencia de entrada: $[a_1',a_2',a_3',...,a_n']$, de tal manera que $a_1'\\leq a_2' \\leq a_3' \\leq... \\leq a_n'$.\n",
        "\n",
        "Los algoritmos de ordenamiento son utilizados para ordenar, comunmente de menor a mayor, un conjunto de valores numéricos desordenados."
      ],
      "metadata": {
        "id": "ThAKXMIMWAt6"
      }
    },
    {
      "cell_type": "markdown",
      "source": [
        "# 2. QuickSort\n",
        "\n",
        "El siguiente código muestra una implementación del algoritmo **QuickSort**."
      ],
      "metadata": {
        "id": "1i-cNFqvo6Hm"
      }
    },
    {
      "cell_type": "markdown",
      "source": [
        "## 2.1 Código de QuickSort"
      ],
      "metadata": {
        "id": "mdIFGMl5aOBs"
      }
    },
    {
      "cell_type": "code",
      "source": [
        "import random\n",
        "# QuickSort Code\n",
        "def quickSort(a, ini, fin, switch, recursiones = 0, comparaciones = 0, verbose = False):\n",
        "    if verbose == True: print(\"ini =\",ini)\n",
        "    if verbose == True: print(\"fin =\",fin)\n",
        "    if verbose == True: print(\"\\nContador de Recursiones: \", recursiones)\n",
        "    if verbose == True: print(\"Arreglo de entrada:\", a[ini:(fin+1)])\n",
        "\n",
        "    if fin <= ini:\n",
        "        if verbose == True: print(\"Arreglo es de largo 1 o vacío.\")\n",
        "        return a, recursiones, comparaciones #El arreglo sólo tiene un elemento\n",
        "\n",
        "    if verbose == True: print(\"\\nPartitionando\")\n",
        "    mid, comparaciones = partition(a, ini, fin, switch, comparaciones, verbose) #Combina y ordena ambos subarreglos ordenados\n",
        "\n",
        "    if verbose == True: print(\"\\nOrdenando izquierda:\", a[ini:(mid+1)])\n",
        "    recursiones += 1\n",
        "    b, recursiones, comparaciones = quickSort(a, ini, mid, switch, recursiones, comparaciones, verbose) #Ordena la parte izquierda del arreglo\n",
        "\n",
        "    if verbose == True: print(\"\\nOrdenando derecha:\", a[(mid+1):(fin+1)])\n",
        "    recursiones += 1\n",
        "    c, recursiones, comparaciones = quickSort(a, mid+2, fin, switch, recursiones, comparaciones, verbose) #Ordena la parte derecha del arreglo\n",
        "\n",
        "    return a, recursiones, comparaciones\n",
        "\n",
        "# Función Partition\n",
        "def partition(a, ini, fin, switch, comparaciones, verbose = False):\n",
        "    # Eligiendo Pivote\n",
        "    pivote = 0\n",
        "    if verbose == True: print(\"Utilizando el método\",switch,\"para elegir el pivote.\")\n",
        "    if switch == 1:\n",
        "        pivote = obtenerPivoteMetodo1(a, ini, verbose)\n",
        "    elif switch == 2:\n",
        "        pivote = obtenerPivoteMetodo2(a, fin, verbose)\n",
        "    elif switch == 3:\n",
        "        pivote = obtenerPivoteMetodo3(a, ini, fin, verbose)\n",
        "    else:\n",
        "        pivote = obtenerPivoteMetodo4(a, ini, fin, verbose)\n",
        " \n",
        "    if verbose == True: print(\"Pivote indice\",pivote)\n",
        "\n",
        "    if verbose == True: print(\"Cambiando Pivote por último elemento\")\n",
        "    a[pivote], a[fin] = a[fin], a[pivote]\n",
        "    if verbose == True: print(\"Arreglo después del cambio con el pivote:\", a[ini:(fin+1)])\n",
        "\n",
        "    i = ini\n",
        "\n",
        "    if verbose == True: print(\"Ordenando arreglo:\",a[ini:fin],\"Pivote [\",a[fin])\n",
        "    for j in range((ini),(fin)):\n",
        "        if verbose == True: print(\"\\nComparando j=\",j,\"a[j]=\", a[j],\"\\ncon pivote:\",a[fin])\n",
        "\n",
        "        comparaciones+=1\n",
        "        if a[j] <= a[fin]:\n",
        "            if verbose == True: print(\"Pivote es Mayor o igual\\nIntercambiando i:\", a[i],\" con j:\",a[j])\n",
        "            a[i], a[j] = a[j], a[i]\n",
        "            i+=1\n",
        "        else:\n",
        "            if verbose == True: print(\"Pivote es Menor, sin cambios\")\n",
        "        if verbose == True: print(\"Arreglo actual:\",a[ini:(fin)])\n",
        "        if verbose == True: print(\"con i=\",i,\"| j=\",j+1)\n",
        "\n",
        "    if verbose == True: print(\"Fin de la iteración, colocando pivote al centro\")\n",
        "    a[i], a[fin] = a[fin], a[i]\n",
        "    if verbose == True: print(\"Arreglo final en partition:\",a[ini:(fin+1)])\n",
        "    return i-1, comparaciones\n",
        "\n",
        "# Método utilizando el primer valor\n",
        "def obtenerPivoteMetodo1(a, ini, verbose = False):\n",
        "    if verbose == True: print(\"Pivote =\",a[ini])\n",
        "    return ini\n",
        "\n",
        "# Método utilizando el último valor\n",
        "def obtenerPivoteMetodo2(a, fin, verbose = False):\n",
        "    if verbose == True: print(\"Pivote =\",a[fin])\n",
        "    return fin\n",
        "\n",
        "# Método eligiendo 3 números al azar y obteniendo la media\n",
        "def obtenerPivoteMetodo3(a, ini, fin, comparaciones, verbose = False):\n",
        "    if((fin-ini) < 4):\n",
        "        return obtenerPivoteMetodo4(a, ini, fin, verbose)\n",
        "    else:\n",
        "        indice1 = random.randint(ini,fin)\n",
        "        indice2 = indice1\n",
        "        indice3 = indice1\n",
        "        while indice2 == indice1:\n",
        "            indice2 = random.randint(ini,fin)\n",
        "        while indice3 == indice2 or indice3 == indice1:\n",
        "            indice3 = random.randint(ini,fin)\n",
        "\n",
        "        if a[indice1] <= a[indice2] <= a[indice3]:\n",
        "            arr = [indice1 , indice2 , indice3]\n",
        "\n",
        "        elif a[indice1] <= a[indice3] <= a[indice2]:\n",
        "            arr = [indice1 , indice3 , indice2]\n",
        "\n",
        "        elif a[indice2] <= a[indice1] <= a[indice3]:\n",
        "            arr = [indice2 , indice1 , indice3]\n",
        "\n",
        "        elif a[indice2] <= a[indice3] <= a[indice1]:\n",
        "            arr = [indice2 , indice3 , indice1]\n",
        "\n",
        "        elif a[indice3] <= a[indice1] <= a[indice2]:\n",
        "            arr = [indice3 , indice1 , indice2]\n",
        "\n",
        "        else:\n",
        "            arr = [indice3 , indice2 , indice1]\n",
        "\n",
        "        return arr[1]\n",
        "    return obtenerPivoteMetodo4(a, ini, fin, verbose)\n",
        "\n",
        "# Método utilizando el elemento del medio\n",
        "def obtenerPivoteMetodo4(a, ini, fin, verbose = False):\n",
        "    pivote = int((fin+ini+1)/2)\n",
        "    if verbose == True: print(\"Pivote =\",a[pivote])\n",
        "    return pivote"
      ],
      "metadata": {
        "id": "GgJDMHUHpTJ9"
      },
      "execution_count": 56,
      "outputs": []
    },
    {
      "cell_type": "code",
      "source": [
        "# Ejemplo\n",
        "a = [9,2,4,5,3,1,6,8,8,7,1,1,3,5,1,5,1,3,4,5,5,10]\n",
        "recursiones = comparaciones = 0\n",
        "print(\"Entrada: \",a)\n",
        "c, recursiones, comparaciones = quickSort(a, 0, (len(a)-1), 4, recursiones, comparaciones, False)\n",
        "print(\"\\nSalida: \",c)\n",
        "print(\"Número de Recursiones:\", recursiones)\n",
        "print(\"Número de Comparaciones:\", comparaciones)"
      ],
      "metadata": {
        "colab": {
          "base_uri": "https://localhost:8080/"
        },
        "id": "2mHV0W_otTPL",
        "outputId": "5f7f040b-af79-40fc-8ecd-55aaa9d19daa"
      },
      "execution_count": 121,
      "outputs": [
        {
          "output_type": "stream",
          "name": "stdout",
          "text": [
            "Entrada:  [9, 2, 4, 5, 3, 1, 6, 8, 8, 7, 1, 1, 3, 5, 1, 5, 1, 3, 4, 5, 5, 10]\n",
            "\n",
            "Salida:  [1, 1, 1, 1, 1, 2, 3, 3, 3, 4, 4, 5, 5, 5, 5, 5, 6, 7, 8, 8, 9, 10]\n",
            "Número de Recursiones: 30\n",
            "Número de Comparaciones: 88\n"
          ]
        }
      ]
    },
    {
      "cell_type": "markdown",
      "source": [
        "## 2.2. Descripción del Algoritmo\n",
        "El algoritmo recibe como entrada un arreglo de $n$ números que se desea ordenar, un entero $ini$ que representa la posición inicial del arreglo o sub-arreglo y un entero $fin$ que representa la posición final del arreglo o sub-arreglo, luego el algoritmo:\n",
        "\n",
        "1. Verifica si el arreglo es de largo $1$, si es así retorna el arreglo, el contador de  recursiones y el contador de comparaciones.\n",
        "\n",
        "2. De lo contrario llama a la función **Partition** la cual ordena el arreglo tomando un pivote y colocando los elementos menores al pivote al lado izquierdo y los mayores al lado derecho y retorna el índice del pivote.\n",
        "\n",
        "3. Luego se llama a sí mismo recursivamente en dos ocasiones, en la primera le entrega los índices del primer y el elemento anterior al pivote y en la otra el índice del elemento siguiente al pivote y el último.\n",
        "\n",
        "4. Al final, se retorna el arreglo ordenado y un contador de las recursiones y comparaciones realizadas.\n",
        "\n",
        "> Cuando la variable `verbose` es `True` se muestra información para ver lo que pasa paso a paso dentro de la función."
      ],
      "metadata": {
        "id": "rCtEEcr6aV4G"
      }
    },
    {
      "cell_type": "markdown",
      "source": [
        "## 2.3. Ejemplo\n",
        "\n",
        "Consideremos, por ejemplo, el arreglo:\n",
        "\n",
        "$a = [3,5,4,2]$\n",
        "\n",
        "Primero verifica si el largo del arreglo es igual a 1, como este no es el caso llama a la función **Partition**:\n",
        "\n",
        "**Partition** toma el pivote (que en este caso es el valor del centro, al ser un arreglo par se toma el valor derecho del centro) $[4]$ y lo intercambia por el último valor.\n",
        "\n",
        "Ahora ordena los valores menores al pivote a la izquierda y los mayores a la derecha, quedando el arreglo:\n",
        "\n",
        "$[3,2,5]$\n",
        "\n",
        "y luego se coloca el pivote en el medio:\n",
        "\n",
        "$[3,2,4,5]$\n",
        "\n",
        "A continuación se llama a la función **QuickSort** con el lado izquierdo al pivote y luego con el lado derecho al pivote, dividiendose en 2 Ramas, \"Rama 1\" y \"Rama 2\".\n",
        "\n",
        "En la Rama 1 la función recibe los índices $ini=0$ y $mid=1$ que representan al sub-arreglo $[3,2]$. después **Partition** toma el pivote $[2]$ y ordena los índices, luego coloca el Pivote en el centro de los índices, quedando el arreglo:\n",
        "\n",
        "$[2,3]$\n",
        "\n",
        "Luego se retorna y se continúa con la Rama 2:\n",
        "\n",
        "En la Rama 2 se realiza el mísmo proceso pero con el sub-arreglo:\n",
        "\n",
        "$[4,5]$\n",
        "\n",
        "Quedando de la misma manera, luego llamando a **QuickSort** nuevamente y al igual que en la Rama 1 se retorna sin hacer nada ya que un arreglo es de largo $1$ y el otro es de largo $0$. Luego se retorna el sub-arreglo ordenado.\n",
        "\n",
        "Finalmente ahora que todas las ramas terminaron, el arreglo queda ordenado y se retorna:\n",
        "\n",
        "$d = [2,3,4,5]$\n",
        "\n",
        "y finaliza el algoritmo."
      ],
      "metadata": {
        "id": "hMQhgqeoX8AK"
      }
    },
    {
      "cell_type": "markdown",
      "source": [
        "## 2.4. Ejecución del Algoritmo Paso a Paso (verbose = True)\n",
        "\n",
        "Al utilizar la opción `verbose=True` se puede ver paso a paso lo que le ocurre al arreglo en cada iteración del algoritmo."
      ],
      "metadata": {
        "id": "wqsr8TPVXqNE"
      }
    },
    {
      "cell_type": "code",
      "source": [
        "a = [4,5,6,4,3,2]\n",
        "recursiones = comparaciones = 0\n",
        "print(\"Entrada: \",a)\n",
        "c, recursiones, comparaciones = quickSort(a, 0, len(a)-1, 4, recursiones, comparaciones, True)\n",
        "print(\"\\nSalida: \",c)\n",
        "print(\"Número de Recursiones:\", recursiones)\n",
        "print(\"Número de Comparaciones:\", comparaciones)"
      ],
      "metadata": {
        "colab": {
          "base_uri": "https://localhost:8080/"
        },
        "id": "8mb_Y42zaAyo",
        "outputId": "290835fc-8e59-40dc-c4a8-a8d34be50678"
      },
      "execution_count": 47,
      "outputs": [
        {
          "output_type": "stream",
          "name": "stdout",
          "text": [
            "Entrada:  [4, 5, 6, 4, 3, 2]\n",
            "ini = 0\n",
            "fin = 5\n",
            "\n",
            "Contador de Recursiones:  0\n",
            "Arreglo de entrada: [4, 5, 6, 4, 3, 2]\n",
            "\n",
            "Partitionando\n",
            "Utilizando el método 4 para elegir el pivote.\n",
            "Pivote = 4\n",
            "Pivote indice 3\n",
            "Cambiando Pivote por último elemento\n",
            "Arreglo después del cambio con el pivote: [4, 5, 6, 2, 3, 4]\n",
            "Ordenando arreglo: [4, 5, 6, 2, 3] Pivote [ 4\n",
            "\n",
            "Comparando j= 0 a[j]= 4 \n",
            "con pivote: 4\n",
            "Pivote es Mayor o igual\n",
            "Intercambiando i: 4  con j: 4\n",
            "Arreglo actual: [4, 5, 6, 2, 3]\n",
            "con i= 1 | j= 1\n",
            "\n",
            "Comparando j= 1 a[j]= 5 \n",
            "con pivote: 4\n",
            "Pivote es Menor, sin cambios\n",
            "Arreglo actual: [4, 5, 6, 2, 3]\n",
            "con i= 1 | j= 2\n",
            "\n",
            "Comparando j= 2 a[j]= 6 \n",
            "con pivote: 4\n",
            "Pivote es Menor, sin cambios\n",
            "Arreglo actual: [4, 5, 6, 2, 3]\n",
            "con i= 1 | j= 3\n",
            "\n",
            "Comparando j= 3 a[j]= 2 \n",
            "con pivote: 4\n",
            "Pivote es Mayor o igual\n",
            "Intercambiando i: 5  con j: 2\n",
            "Arreglo actual: [4, 2, 6, 5, 3]\n",
            "con i= 2 | j= 4\n",
            "\n",
            "Comparando j= 4 a[j]= 3 \n",
            "con pivote: 4\n",
            "Pivote es Mayor o igual\n",
            "Intercambiando i: 6  con j: 3\n",
            "Arreglo actual: [4, 2, 3, 5, 6]\n",
            "con i= 3 | j= 5\n",
            "Fin de la iteración, colocando pivote al centro\n",
            "Arreglo final en partition: [4, 2, 3, 4, 6, 5]\n",
            "\n",
            "Ordenando izquierda: [4, 2, 3]\n",
            "ini = 0\n",
            "fin = 2\n",
            "\n",
            "Contador de Recursiones:  1\n",
            "Arreglo de entrada: [4, 2, 3]\n",
            "\n",
            "Partitionando\n",
            "Utilizando el método 4 para elegir el pivote.\n",
            "Pivote = 2\n",
            "Pivote indice 1\n",
            "Cambiando Pivote por último elemento\n",
            "Arreglo después del cambio con el pivote: [4, 3, 2]\n",
            "Ordenando arreglo: [4, 3] Pivote [ 2\n",
            "\n",
            "Comparando j= 0 a[j]= 4 \n",
            "con pivote: 2\n",
            "Pivote es Menor, sin cambios\n",
            "Arreglo actual: [4, 3]\n",
            "con i= 0 | j= 1\n",
            "\n",
            "Comparando j= 1 a[j]= 3 \n",
            "con pivote: 2\n",
            "Pivote es Menor, sin cambios\n",
            "Arreglo actual: [4, 3]\n",
            "con i= 0 | j= 2\n",
            "Fin de la iteración, colocando pivote al centro\n",
            "Arreglo final en partition: [2, 3, 4]\n",
            "\n",
            "Ordenando izquierda: []\n",
            "ini = 0\n",
            "fin = -1\n",
            "\n",
            "Contador de Recursiones:  2\n",
            "Arreglo de entrada: []\n",
            "Arreglo es de largo 1 o vacío.\n",
            "\n",
            "Ordenando derecha: [2, 3, 4]\n",
            "ini = 1\n",
            "fin = 2\n",
            "\n",
            "Contador de Recursiones:  3\n",
            "Arreglo de entrada: [3, 4]\n",
            "\n",
            "Partitionando\n",
            "Utilizando el método 4 para elegir el pivote.\n",
            "Pivote = 4\n",
            "Pivote indice 2\n",
            "Cambiando Pivote por último elemento\n",
            "Arreglo después del cambio con el pivote: [3, 4]\n",
            "Ordenando arreglo: [3] Pivote [ 4\n",
            "\n",
            "Comparando j= 1 a[j]= 3 \n",
            "con pivote: 4\n",
            "Pivote es Mayor o igual\n",
            "Intercambiando i: 3  con j: 3\n",
            "Arreglo actual: [3]\n",
            "con i= 2 | j= 2\n",
            "Fin de la iteración, colocando pivote al centro\n",
            "Arreglo final en partition: [3, 4]\n",
            "\n",
            "Ordenando izquierda: [3]\n",
            "ini = 1\n",
            "fin = 1\n",
            "\n",
            "Contador de Recursiones:  4\n",
            "Arreglo de entrada: [3]\n",
            "Arreglo es de largo 1 o vacío.\n",
            "\n",
            "Ordenando derecha: [4]\n",
            "ini = 3\n",
            "fin = 2\n",
            "\n",
            "Contador de Recursiones:  5\n",
            "Arreglo de entrada: []\n",
            "Arreglo es de largo 1 o vacío.\n",
            "\n",
            "Ordenando derecha: [4, 6, 5]\n",
            "ini = 4\n",
            "fin = 5\n",
            "\n",
            "Contador de Recursiones:  6\n",
            "Arreglo de entrada: [6, 5]\n",
            "\n",
            "Partitionando\n",
            "Utilizando el método 4 para elegir el pivote.\n",
            "Pivote = 5\n",
            "Pivote indice 5\n",
            "Cambiando Pivote por último elemento\n",
            "Arreglo después del cambio con el pivote: [6, 5]\n",
            "Ordenando arreglo: [6] Pivote [ 5\n",
            "\n",
            "Comparando j= 4 a[j]= 6 \n",
            "con pivote: 5\n",
            "Pivote es Menor, sin cambios\n",
            "Arreglo actual: [6]\n",
            "con i= 4 | j= 5\n",
            "Fin de la iteración, colocando pivote al centro\n",
            "Arreglo final en partition: [5, 6]\n",
            "\n",
            "Ordenando izquierda: []\n",
            "ini = 4\n",
            "fin = 3\n",
            "\n",
            "Contador de Recursiones:  7\n",
            "Arreglo de entrada: []\n",
            "Arreglo es de largo 1 o vacío.\n",
            "\n",
            "Ordenando derecha: [5, 6]\n",
            "ini = 5\n",
            "fin = 5\n",
            "\n",
            "Contador de Recursiones:  8\n",
            "Arreglo de entrada: [6]\n",
            "Arreglo es de largo 1 o vacío.\n",
            "\n",
            "Salida:  [2, 3, 4, 4, 5, 6]\n",
            "Número de Recursiones: 8\n",
            "Número de Comparaciones: 9\n"
          ]
        }
      ]
    },
    {
      "cell_type": "markdown",
      "source": [
        "# 3. Tiempo de ejecución\n",
        "\n",
        "## 3.1. Fórmula de recurrencia\n",
        "\n",
        "La fórmula de recurrencia **T(n)** del algoritmo se obtiene analizando sus partes.\n",
        "\n",
        "Para el caso base $n=1$ el algoritmo solo pregunta si el arreglo es de largo $1$ y luego retorna los valores sin realizar ninguna recursión, por esto se obtiene que $T(n)=O(1)$ si $n=1$.\n",
        "\n",
        "Para el resto de casos se tiene que:\n",
        "\n",
        "- La función **Partition** tiene un costo de $O(n)$ en todos los casos.\n",
        "\n",
        "### En el peor caso:\n",
        "\n",
        "- El algoritmo divide el problema ($n$) en $2$ sub-problemas de largo $n-1$ y $0$ o $1$.\n",
        "\n",
        "    Para el sub-problema de largo $0$ o $1$, el algoritmo retorna el valor sin realizar nada, por lo que tiene costo $O(1)$.\n",
        "\n",
        "    Para el sub-problema de largo $n-1$ el algoritmo tardará $T(n-1) + O(n)$ en resolver el sub-problema.\n",
        "\n",
        "Gracias a este analisis se obtiene que $T(n) = T(n-1) + O(n)$.\n",
        "\n",
        "#### En el mejor y caso promedio:\n",
        "\n",
        "- Partition produce $2$ sub-arreglos de igual tamaño $n/2$.\n",
        "\n",
        "En este caso se tiene: $T(n) = 2T(n/2) + O(n)$\n",
        "\n",
        "## 3.2. **Teorema (Tiempo de ejecución).**\n",
        "\n",
        "*El algoritmo **QuickSort** tiene un tiempo de ejecución que varía dependiendo de en qué caso se encuentra el arreglo:\n",
        "\n",
        "### Peor Caso: $O(n^2)$\n",
        "\n",
        "Ocurre cuando la función **Partition** produce un sub-problema con $n-1$ elementos en un lado y $0$ en el otro, o sea, cuando se escoge el mayor o el menor elemento del arreglo.\n",
        "\n",
        "#### Árbol de Recurrencia para el Peor Caso\n",
        "\n",
        "Ahora con la fórmula de recurrencia se puede proceder a utilizar el árbol de recurrencia para demostrar la correctitud del teorema para el peor caso.\n",
        "\n",
        "Se crea el árbol subdividiendo en cada paso $T(n)$ recursivamente en sus componentes, es decir: $T(n)= T(n-1) + T(0) + n$."
      ],
      "metadata": {
        "id": "2vcJc3vGX-uq"
      }
    },
    {
      "cell_type": "markdown",
      "source": [
        "![image.png](data:image/png;base64,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)"
      ],
      "metadata": {
        "id": "DQasEiPWSazu"
      }
    },
    {
      "cell_type": "markdown",
      "source": [
        "Al analizar el árbol, se observa que la altura del árbol es $n-1$ y el costo de ejecución en el nivel d es $c(n-d)$ por lo que el costo total es $\\sum\\limits_{i=1}^{n-1} n-1 = \\frac{n(n-1)}{2}$.\n",
        "\n",
        "Para la notación $O$ grande se ignoran las constantes por lo que se obtiene $O(n^2)$.\n",
        "\n",
        "### Mejor y Caso Promedio: $O(n*log(n))$\n",
        "\n",
        "El mejor caso ocurre cuando el pivote elegido es la mediana de todos los valores ordenados.\n",
        "\n",
        "El caso promedio cuando el arreglo está desordenado y sus elementos no están ni en orden ascendente o descendente.\n",
        "\n",
        "#### Teorema Maestro para el Mejor Caso y Caso Promedio\n",
        "\n",
        "Utilizando el teorema maestro se puede obtener la complejidad temporal del algoritmo en el mejor caso y el caso promedio:\n",
        "\n",
        "Se tiene $T(n) \\leq aT(n/b)+O(n^d)$ donde $a=2$, $b=2$ y $d=1$.\n",
        "\n",
        "Ya que $2 = 2^1$, la complejidad temporal es $O(n*log(n))$."
      ],
      "metadata": {
        "id": "DQBjTZJQNtQ6"
      }
    },
    {
      "cell_type": "markdown",
      "source": [
        "# 4. Correctitud \n",
        "\n",
        "## 4.1 Teorema 1 (Correctitud de Partition)\n",
        "\n",
        "La función **Partition** recibe los índices inicial y final de un arreglo o sub-arreglo, ordena \n",
        "\n",
        "## 4.2 Prueba del Teorema 1 por Invariante de Bucle\n",
        "\n",
        "Al principio de cada iteración del bucle mayor, para cada arreglo a[ini...fin]:\n",
        "\n",
        "$ini$ = índice del primer elemento\n",
        "\n",
        "$fin$ = índice del último elemento\n",
        "\n",
        "$i$ = índice del último elemento del subarreglo izquierdo\n",
        "\n",
        "$j$ = índice del primer elemento del subarreglo derecho\n",
        "\n",
        "$piv$ = valor del pivote\n",
        "\n",
        "$k$ = índice actual\n",
        "\n",
        "\n",
        "1. Si $ini \\leq k \\leq i$, entonces $a[k] \\leq piv$\n",
        "2. Si $i \\leq k \\leq j$, entonces $a[k] > piv$\n",
        "3. Si $k = fin+1$, entonces $a[k] = piv$\n",
        "\n",
        "### Inicialización\n",
        "\n",
        "Antes de la primera iteración del ciclo, $i = j = ini$. Ya que no hay valores entre $ini$ e $i$ y no hay valores entre $i$ y $j$, las primeras 2 condiciones están satisfechas.\n",
        "\n",
        "### Mantención\n",
        "\n",
        "Después de la primera iteración, si $a[j] \\leq piv$, se intercambian los elementos de las posiciones $a[i]$ y $a[j]$ y luego se incrementa el valor de $i$ en $1$. Luego en todos los casos se incrementa el valor de $j$ en $1$.\n",
        "\n",
        "Después de hacer esto el sub-arreglo $a[ini..i-1]$ tiene elementos menores o iguales a $piv$, el sub-arreglo $a[i..j]$ tiene elementos mayores a $piv$, el sub-arreglo $a[j+1..fin-1]$ tiene elementos aún por ordenar y el elemento $a[fin] = piv$.\n",
        "\n",
        "### Terminación\n",
        "\n",
        "Cuando el bucle termina, el sub-arreglo $a[ini..i-1]$ tiene elementos menores o iguales a $piv$, el sub-arreglo $a[i..j]$ tiene elementos mayores a $piv$, el sub-arreglo $a[j+1..fin-1]$ no tiene elementos y el elemento $a[fin] = piv$.\n",
        "\n",
        "### Correctitud\n",
        "\n",
        "Finalmente, como la propiedad de bucle invariante es verdadera al incio del bucle y se mantiene en cada iteración y al final del bucle, podemos decir que al finalizar la n-ésima iteración del algoritmo, se genera un arreglo $[a_1',a_2',...,a_n']$, con los mismos elementos del arreglo de entrada ordenados con los elementos menores al pivote a la izquierda y los mayores a la derecha.\n",
        "\n",
        "## 4.3 Teorema 2 (Correctitud de QuickSort)\n",
        "\n",
        "El algoritmo **QuickSort** genera un arreglo $[a_1', a_2', a_3', ... , a_n']$ con los mismos elementos de entrada $[a_1, a_2, a_3, ..., a_n]$, ordenados de menor a mayor, es decir $a_1'\\leq a_2' \\leq  a_3' \\leq... \\leq a_n'$.\n",
        "\n",
        "## 4.4 Prueba del Teorema 2 por medio de Inducción\n",
        "\n",
        "La hipótesis $T(n)$ se basa en que **QuickSort** retorna un arreglo de $n$ elementos ordenados de menor a mayor.\n",
        "\n",
        "### Caso base $n = 1$\n",
        "\n",
        "Si $T(1)$ la función **QuickSort** retorna un sólo elemento el cual estaría siempre ordenado, por lo que se cumpliría la condición.\n",
        "\n",
        "### Resto de casos\n",
        "\n",
        "Ahora hay que probar si $T(m)$ es verdadero para $m < n$, entonces lo será también para $T(n)$.\n",
        "\n",
        "**Partition** dividirá el arreglo de largo $n$ en dos sub-arreglos de largo $mIzq$ y $mDer$ que están a la izquierda y derecha del pivote respectivamente, entonces $mIzq , mDer < n$.\n",
        "\n",
        "Según lo mencionado antes la función **Partition** es correcta por lo que el sub-arreglo izquierdo tendrá los elementos menores al pivote y el sub-arreglo derecho tendrá los elementos mayores al pivote, por ello se puede asumir que el arreglo será ordenado correctamente.\n",
        "\n",
        "Por lo tanto la función **QuickSort** es correcta."
      ],
      "metadata": {
        "id": "TGRHLXv3ptc1"
      }
    },
    {
      "cell_type": "markdown",
      "source": [
        "# 5. Experimentos\n",
        "\n",
        "## 5.1. Número de comparaciones\n",
        "\n",
        "La gráfica de acontinuación muestra una comparación entre:\n",
        "\n",
        "* la cantidad de comparaciones realizadas en el peor caso calculadas matemáticamente,\n",
        "* la cantidad de comparaciones realizadas en el mejor caso calculadas matemáticamente\n",
        "* y la cantidad de comparaciones realizadas en casos de prueba realizados con entradas aleatorias\n",
        "\n",
        "para problemas con arreglos de entrada de largo $n \\in [2,50]$ en los cuales el valor de los elementos es elejido aleatoriamente desde un conjunto de números entre 1 y 100."
      ],
      "metadata": {
        "id": "owej6N7EYuD1"
      }
    },
    {
      "cell_type": "code",
      "source": [
        "import matplotlib.pyplot as plt\n",
        "import math\n",
        "import random\n",
        "\n",
        "rangeS = 2\n",
        "rangeF = 51\n",
        "x=[n for n in range(rangeS,rangeF)]\n",
        "# Peor Caso\n",
        "y1=[(n**2) for n in range(rangeS,rangeF)]\n",
        "# Mejor caso\n",
        "y2=[( n*math.log2(n) - (n + n/2) ) for n in range(rangeS,rangeF)]\n",
        "# Muestras Método de Pivote 1\n",
        "yc1=[];\n",
        "# Muestras Método de Pivote 2\n",
        "yc2=[];\n",
        "# Muestras Método de Pivote 3\n",
        "yc3=[];\n",
        "# Muestras Método de Pivote 4\n",
        "yc4=[];\n",
        "# Arreglo lleno de 1s\n",
        "yt1=[];\n",
        "# Arreglo Ordenado\n",
        "yt2=[];\n",
        "\n",
        "\n",
        "for n in range(rangeS,rangeF):\n",
        "  a = random.sample(range(1, 100), n)\n",
        "  recursiones = comparaciones = 0\n",
        "  c = [];\n",
        "  c, recursiones, comparaciones = quickSort(a, 0, (len(a)-1), 1, recursiones, 0, False)\n",
        "  yc1.append(comparaciones)\n",
        "  c, recursiones, comparaciones = quickSort(a, 0, (len(a)-1), 2, recursiones, 0, False)\n",
        "  yc2.append(comparaciones)\n",
        "  c, recursiones, comparaciones = quickSort(a, 0, (len(a)-1), 3, recursiones, 0, False)\n",
        "  yc3.append(comparaciones)\n",
        "  c, recursiones, comparaciones = quickSort(a, 0, (len(a)-1), 4, recursiones, 0, False)\n",
        "  yc4.append(comparaciones)\n",
        "  a = [1 for i in range(len(a))]\n",
        "  c, recursiones, comparaciones = quickSort(a, 0, (len(a)-1), 4, recursiones, 0, False)\n",
        "  yt1.append(comparaciones)\n",
        "  c, recursiones, comparaciones = quickSort(c, 0, (len(a)-1), 4, recursiones, 0, False)\n",
        "  yt2.append(comparaciones)\n",
        "\n",
        "plt.plot(x,yc1)\n",
        "plt.plot(x,yc2)\n",
        "plt.plot(x,yc3)\n",
        "plt.plot(x,yc4)\n",
        "plt.plot(x,yt1)\n",
        "plt.plot(x,yt2)\n",
        "plt.plot(x,y1)\n",
        "plt.plot(x,y2)\n",
        "plt.legend([\"N# Comparaciones (Método 1)\", \"N# Comparaciones (Método 2)\", \"N# Comparaciones (Método 3)\", \"N# Comparaciones (Método 4)\", \"Arreglo de 1s\", \"Arreglo ordenado\", \"Peor caso teórico\", \"Mejor caso teórico\"])\n",
        "\n",
        "plt.xlabel('Largo del arreglo')\n",
        "plt.ylabel('Número de comparaciones')\n",
        "plt.show()"
      ],
      "metadata": {
        "colab": {
          "base_uri": "https://localhost:8080/",
          "height": 279
        },
        "id": "ujyj0bJpZiAQ",
        "outputId": "30cd41a0-f614-4fe6-932d-7506d8f9a96e"
      },
      "execution_count": 138,
      "outputs": [
        {
          "output_type": "display_data",
          "data": {
            "text/plain": [
              "<Figure size 432x288 with 1 Axes>"
            ],
            "image/png": "[encoded data removed]"
          },
          "metadata": {
            "needs_background": "light"
          }
        }
      ]
    },
    {
      "cell_type": "markdown",
      "source": [
        "### Analisis del gráfico\n",
        "\n",
        "Los resultados que muestra el grafico indican que la cantidad de comparaciones varía dependiendo del método para elegir pivote que se utilize, sin embargo en promedio se mantienen siempre muy cercanas al mejor caso incluso para largos de arreglo mayores mientras que el peor caso (cuando el arreglo está ordenado o todos los elementos son iguales) aumenta muchísimo. De esto se puede concluir que el algoritmo **QuickSort** es muy bueno para ordenar independiente del largo del arreglo con un caso promedio muy cercano al mejor pero un peor caso muy notorio."
      ],
      "metadata": {
        "id": "H7SJBmv5aO_u"
      }
    },
    {
      "cell_type": "markdown",
      "source": [
        "## 5.2. Tiempo de ejecución experimental\n",
        "\n",
        "El siguiente gráfico muestra el comportamiento del tiempo de ejecución del algoritmo en relación al tamaño del arreglo de entrada y el método para elegir el pivote, esto utilizando problemas generados aleatoriamente de arreglos de largo $n \\in [2,500]$.\n",
        "Los métodos utilizados son:\n",
        "1. Elegir el primer elemento del sub-arreglo como pivote.\n",
        "2. Elegir el último elemento del sub-arreglo como pivote.\n",
        "3. Elegir 3 índices al azar y utilizar la mediana de estos como pivote.\n",
        "4. Elegir el elemento del centro del sub-arreglo como pivote."
      ],
      "metadata": {
        "id": "egXBgNChckAP"
      }
    },
    {
      "cell_type": "code",
      "source": [
        "import datetime\n",
        "import random\n",
        "from timeit import repeat\n",
        "\n",
        "x=[];\n",
        "y1=[];\n",
        "y2=[];\n",
        "y3=[];\n",
        "y4=[];\n",
        "\n",
        "for n in range(2,501):\n",
        "  a = random.sample(range(1, 1000), n)\n",
        "\n",
        "  #la función repeat está ejecutando 20 veces insert_sort con el arreglo a y retorna el mejor tiempo obtenido.\n",
        "  t = repeat(setup=\"from __main__ import quickSort\", stmt=f\"quickSort({a}, 0, (len({a})-1), 1)\", repeat=1, number=10)\n",
        "  y1.append(t)\n",
        "  \n",
        "  t = repeat(setup=\"from __main__ import quickSort\", stmt=f\"quickSort({a}, 0, (len({a})-1), 2)\", repeat=1, number=10)\n",
        "  y2.append(t)\n",
        "\n",
        "  t = repeat(setup=\"from __main__ import quickSort\", stmt=f\"quickSort({a}, 0, (len({a})-1), 3)\", repeat=1, number=10)\n",
        "  y3.append(t)\n",
        "\n",
        "  t = repeat(setup=\"from __main__ import quickSort\", stmt=f\"quickSort({a}, 0, (len({a})-1), 4)\", repeat=1, number=10)\n",
        "  y4.append(t)\n",
        "\n",
        "  x.append(n)\n",
        "\n",
        "\n",
        "plt.plot(x,y1)\n",
        "plt.plot(x,y2)\n",
        "plt.plot(x,y3)\n",
        "plt.plot(x,y4)\n",
        "plt.legend([\"Método 1 (Primer elemento)\",\"Método 2 (Último elemento)\",\"Método 3 (Mediana al azar)\",\"Método 4 (Elemento del centro)\"])\n",
        "\n",
        "plt.xlabel('n')\n",
        "plt.ylabel('Tiempo en milisegundos')\n",
        "plt.show()"
      ],
      "metadata": {
        "colab": {
          "base_uri": "https://localhost:8080/",
          "height": 279
        },
        "id": "uJtWGG7TcmMx",
        "outputId": "6b13fbca-c657-493d-8f4a-46b3f73c80ff"
      },
      "execution_count": 119,
      "outputs": [
        {
          "output_type": "display_data",
          "data": {
            "text/plain": [
              "<Figure size 432x288 with 1 Axes>"
            ],
            "image/png": "[encoded data removed]"
          },
          "metadata": {
            "needs_background": "light"
          }
        }
      ]
    },
    {
      "cell_type": "markdown",
      "source": [
        "### Análisis del gráfico\n",
        "\n",
        "Del gráfico se puede observar que la implementación realizada para el Método 3 es la más lenta y con diferencia, mientras el resto de Métodos se mantienen en el mismo rango. Si bien el Método 3 resultó ser el más lento, esto podría ser por la forma en la que se implementó y no por ser intrinsecamente más lento, y aún siendo más lento, se puede observar que es más estable que el resto de métodos.\n",
        "Nótese que el pico que se encuentra entre $n 400$ y $n 500$ muy posiblemente se debe al hardware y el sistema ya que este sucede con todos los métodos."
      ],
      "metadata": {
        "id": "zp478AVMdFd1"
      }
    },
    {
      "cell_type": "markdown",
      "source": [
        "# 5.3. Comparación de tiempo de ejecución con MergeSort\n",
        "\n",
        "El siguiente gráfico muestra una comparación entre los tiempos de ejecución de los algoritmos **QuickSort** y **MergeSort**.\n"
      ],
      "metadata": {
        "id": "kZyYQSvRdXVh"
      }
    },
    {
      "cell_type": "code",
      "source": [
        "import datetime\n",
        "import random\n",
        "from timeit import repeat\n",
        "\n",
        "# Código para MergeSort\n",
        "def merge_sort(a):\n",
        "    b = []\n",
        "    c = []\n",
        "    if len(a) == 1:\n",
        "        return a\n",
        "    x = (int)((len(a))/2)\n",
        "    b = merge_sort(a[0:x])\n",
        "    c = merge_sort(a[x:len(a)])\n",
        "    a = merge(b, c)\n",
        "    return a\n",
        "\n",
        "# Merge Code\n",
        "def merge(a, b):\n",
        "    i = j = 0\n",
        "    c = []\n",
        "    while i < len(a) and j < len(b):\n",
        "        if a[i] <= b[j]:\n",
        "            c.append(a[i])\n",
        "            i+=1\n",
        "        else:\n",
        "            c.append(b[j])\n",
        "            j+=1\n",
        "    while i < len(a):\n",
        "        c.append(a[i])\n",
        "        i+=1\n",
        "\n",
        "    while j < len(b):\n",
        "        c.append(b[j])\n",
        "        j+=1\n",
        "    return c\n",
        "# Fin del código de MergeSort\n",
        "\n",
        "# Código Simplificado para QuickSort\n",
        "def quickSortSimple(a, ini, fin):\n",
        "    if fin <= ini:\n",
        "        return a\n",
        "    mid = partitionSimple(a, ini, fin)\n",
        "    b = quickSortSimple(a, ini, mid)\n",
        "    c = quickSortSimple(a, mid+2, fin)\n",
        "    return a\n",
        "# Función Partition\n",
        "def partitionSimple(a, ini, fin):\n",
        "    pivote = int((fin+ini+1)/2)\n",
        "    a[pivote], a[fin] = a[fin], a[pivote]\n",
        "    i = ini\n",
        "    for j in range((ini),(fin)):\n",
        "        if a[j] <= a[fin]:\n",
        "            a[i], a[j] = a[j], a[i]\n",
        "            i+=1\n",
        "    a[i], a[fin] = a[fin], a[i]\n",
        "    return i-1\n",
        "# Fin código de QuickSort simplificado\n",
        "\n",
        "x=[];\n",
        "y1=[];\n",
        "y2=[];\n",
        "\n",
        "for n in range(5,501):\n",
        "  a = random.sample(range(1, 1000), n)\n",
        "  x.append(n)\n",
        "\n",
        "  t = repeat(setup=\"from __main__ import quickSortSimple\", stmt=f\"quickSortSimple({a}, 0, (len({a})-1))\", repeat=1, number=10)\n",
        "  y1.append(t)\n",
        "  t = repeat(setup=\"from __main__ import merge_sort\", stmt=f\"merge_sort({a})\", repeat=1, number=10)\n",
        "  y2.append(t)\n",
        "\n",
        "plt.plot(x,y1)\n",
        "plt.plot(x,y2)\n",
        "plt.legend([\"QuickSort\", \"MergeSort\"])\n",
        "\n",
        "plt.xlabel('n')\n",
        "plt.ylabel('Tiempo en milisegundos')\n",
        "plt.show()"
      ],
      "metadata": {
        "colab": {
          "base_uri": "https://localhost:8080/",
          "height": 279
        },
        "id": "nXJgkTxJdjE7",
        "outputId": "a906c241-e440-4a40-a727-e02dff080025"
      },
      "execution_count": 116,
      "outputs": [
        {
          "output_type": "display_data",
          "data": {
            "text/plain": [
              "<Figure size 432x288 with 1 Axes>"
            ],
            "image/png": "[encoded data removed]"
          },
          "metadata": {
            "needs_background": "light"
          }
        }
      ]
    },
    {
      "cell_type": "markdown",
      "source": [
        "### Analisis del gráfico\n",
        "\n",
        "En el gráfico se puede apreciar que el algoritmo **QuickSort** tiene un menor tiempo de ejecución en comparación a **MergeSort**, especialmente con tamaños de arreglo más grande donde la diferencia aumenta linealmente, gracias a esto se puede confirmar que el algoritmo **QuickSort** es mejor para ordenar arreglos rápidamente el los casos promedios."
      ],
      "metadata": {
        "id": "hoqin5fbdeGH"
      }
    }
  ]
}