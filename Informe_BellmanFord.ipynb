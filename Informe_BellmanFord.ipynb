{
  "cells": [
    {
      "cell_type": "markdown",
      "metadata": {
        "id": "view-in-github",
        "colab_type": "text"
      },
      "source": [
        "<a href=\"https://colab.research.google.com/github/BenjaminVegaM/ADA-Informes/blob/main/Informe_BellmanFord.ipynb\" target=\"_parent\"><img src=\"https://colab.research.google.com/assets/colab-badge.svg\" alt=\"Open In Colab\"/></a>"
      ]
    },
    {
      "cell_type": "markdown",
      "metadata": {
        "id": "ThAKXMIMWAt6"
      },
      "source": [
        "# 1. Problema Camino más corto con fuente única (arcos positivos)\n",
        "\n",
        "**Entrada**: Un grafo dirigido $G=(V,E)$, un vértice fuente $scr\\in V$, y un valor real $w_e$ que representa el peso o valor asociado a cada arco $e\\in E$.\n",
        "\n",
        "**Salida**: Una de las siguientes opciones:\n",
        "\n",
        "1. La distancia más corta $dist(s,v)$ para cada vértice $v\\in V$.\n",
        "2. Una declaración indicando que $G$ contiene un ciclo negativo.\n",
        "\n",
        "El algoritmo de Bellman-Ford resuelve el problema del camino más corto de una sola fuente en grafos con longitudes de arcos negativos en el sentido de que o bien calcula las distancias correctas del camino más corto o bien determina correctamente que el grafo de entrada tiene un ciclo negativo.\n",
        "\n",
        "Este algoritmo utiliza el paradigma de programación dinámica con un acercamiento bottom-up."
      ]
    },
    {
      "cell_type": "markdown",
      "source": [
        "![image.png](data:image/png;base64,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)"
      ],
      "metadata": {
        "id": "UWg7qu3OvFUM"
      }
    },
    {
      "cell_type": "markdown",
      "metadata": {
        "id": "1i-cNFqvo6Hm"
      },
      "source": [
        "# 2. Algoritmo de Bellman-Ford\n",
        "\n",
        "El siguiente código muestra una implementación del **Algoritmo de Bellman-Ford**."
      ]
    },
    {
      "cell_type": "markdown",
      "metadata": {
        "id": "mdIFGMl5aOBs"
      },
      "source": [
        "## 2.1 Código del Algoritmo de Bellman-Ford"
      ]
    },
    {
      "cell_type": "code",
      "execution_count": 53,
      "metadata": {
        "id": "GgJDMHUHpTJ9"
      },
      "outputs": [],
      "source": [
        "def BellmanFord(G, vertices, src, verbose = False, visualize = False):\n",
        "\n",
        "    if visualize == True: mostrarGrafo(G, vertices)\n",
        "    dist = [float(\"Inf\")] * vertices\n",
        "    dist[src] = 0\n",
        "\n",
        "    if verbose == True: print(\"Arreglo de Distancias al inicio\")\n",
        "    if verbose == True: print(dist)\n",
        "\n",
        "    x = 0\n",
        "    while (x < vertices - 1):\n",
        "        if verbose == True: print(\"\\n   > Iteración\", x)\n",
        "        for u, v, w in G:\n",
        "            if verbose == True: print(\"\\nArco actual\")\n",
        "            if verbose == True: print(\"(\",u,\",\",v,\",\",w,\")\")\n",
        "            \n",
        "            if verbose == True: print(\"\\nVerificando que dist[u] no es infinito\")\n",
        "            if verbose == True: print(\"dist[\",u,\"] =\",dist[u])\n",
        "            if verbose == True: print(\"y que su suma con el peso es menor a la distancia directa dist[v]\")\n",
        "            if verbose == True: print(\"dist[\",v,\"] =\",dist[v])\n",
        "            if dist[u] != float(\"Inf\") and dist[u] + w < dist[v]:\n",
        "                if verbose == True: print(\"Suma es menor\")\n",
        "                dist[v] = dist[u] + w\n",
        "                if verbose == True: print(\"Distancia hacia v ahora es la suma.\")\n",
        "            else:\n",
        "                if verbose == True: print(\"\\nNo es menor, se mantiene.\")\n",
        "\n",
        "            if verbose == True: print(\"Arreglo de Distancias Actual\")\n",
        "            if verbose == True: print(dist)\n",
        "        x += 1\n",
        "\n",
        "    if verbose == True: print(\"\\nBuscando Ciclos Negativos Infinitos\")\n",
        "    for u, v, w in G:\n",
        "        if dist[u] != float(\"Inf\") and dist[u] + w < dist[v]:\n",
        "            if verbose == True: print(\"Hay un ciclo infinito!\")\n",
        "            return False\n",
        "\n",
        "    if verbose == True: print(\"\\nRetornando las distancias\")\n",
        "    return dist"
      ]
    },
    {
      "cell_type": "code",
      "execution_count": 55,
      "metadata": {
        "colab": {
          "base_uri": "https://localhost:8080/"
        },
        "id": "KQSItvmoy5V9",
        "outputId": "4c0c3bb2-1efb-4384-c67c-5b6052f9101d"
      },
      "outputs": [
        {
          "output_type": "stream",
          "name": "stdout",
          "text": [
            "Entrada:\n",
            "Nodo ---(costo)--> Nodo\n",
            "0 ---( -1 )--> 1\n",
            "0 ---( 4 )--> 2\n",
            "1 ---( 3 )--> 2\n",
            "1 ---( 2 )--> 3\n",
            "1 ---( 2 )--> 4\n",
            "3 ---( 1 )--> 1\n",
            "3 ---( 5 )--> 2\n",
            "4 ---( -3 )--> 3\n",
            "\n",
            "Salida:\n",
            "Distancia desde el nodo fuente hasta todos los nodos:\n",
            "0 :  0\n",
            "1 :  -1\n",
            "2 :  2\n",
            "3 :  -2\n",
            "4 :  1\n"
          ]
        }
      ],
      "source": [
        "# Ejemplo\n",
        "grafo1 = []\n",
        "vertices1 = 5\n",
        "AnyadirArco(grafo1, 0, 1, -1)\n",
        "AnyadirArco(grafo1, 0, 2, 4)\n",
        "AnyadirArco(grafo1, 1, 2, 3)\n",
        "AnyadirArco(grafo1, 1, 3, 2)\n",
        "AnyadirArco(grafo1, 1, 4, 2)\n",
        "AnyadirArco(grafo1, 3, 1, 1)\n",
        "AnyadirArco(grafo1, 3, 2, 5)\n",
        "AnyadirArco(grafo1, 4, 3, -3)\n",
        "\n",
        "print(\"Entrada:\")\n",
        "ImprimirGrafo(grafo1)\n",
        "dist1 = BellmanFord(grafo1, vertices1, 0)\n",
        "print(\"\\nSalida:\")\n",
        "if (dist1 == False): print(\"El grafo tiene un ciclo negativo!\")\n",
        "else: ImprimirGrafoDistancias(grafo1, vertices1, dist1)"
      ]
    },
    {
      "cell_type": "code",
      "source": [
        "# Ejemplo\n",
        "grafo2 = []\n",
        "vertices2 = 4\n",
        "AnyadirArco(grafo2, 0, 1, -1)\n",
        "AnyadirArco(grafo2, 0, 2, 2)\n",
        "AnyadirArco(grafo2, 1, 2, -4)\n",
        "AnyadirArco(grafo2, 1, 3, 2)\n",
        "AnyadirArco(grafo2, 2, 0, -1)\n",
        "AnyadirArco(grafo2, 3, 1, 1)\n",
        "AnyadirArco(grafo2, 3, 2, 5)\n",
        "\n",
        "print(\"Entrada:\")\n",
        "ImprimirGrafo(grafo2)\n",
        "dist2 = BellmanFord(grafo2, vertices2, 0)\n",
        "print(\"\\nSalida:\")\n",
        "if (dist2 == False): print(\"El grafo tiene un ciclo negativo!\")\n",
        "else: ImprimirGrafoDistancias(grafo2, vertices2, dist2)"
      ],
      "metadata": {
        "colab": {
          "base_uri": "https://localhost:8080/"
        },
        "id": "b8RdMl8AgS68",
        "outputId": "e2dc0c78-9c9e-44d9-ec7d-fc81c84c6841"
      },
      "execution_count": 56,
      "outputs": [
        {
          "output_type": "stream",
          "name": "stdout",
          "text": [
            "Entrada:\n",
            "Nodo ---(costo)--> Nodo\n",
            "0 ---( -1 )--> 1\n",
            "0 ---( 2 )--> 2\n",
            "1 ---( -4 )--> 2\n",
            "1 ---( 2 )--> 3\n",
            "2 ---( -1 )--> 0\n",
            "3 ---( 1 )--> 1\n",
            "3 ---( 5 )--> 2\n",
            "\n",
            "Salida:\n",
            "El grafo tiene un ciclo negativo!\n"
          ]
        }
      ]
    },
    {
      "cell_type": "markdown",
      "metadata": {
        "id": "rCtEEcr6aV4G"
      },
      "source": [
        "## 2.2. Descripción del algoritmo\n",
        "\n",
        "El **Algoritmo de Bellman-Ford** calcula todos los posibles caminos desde un nodo inicial hasta todos los nodos del grafo y retorna todos los caminos óptimos, o advierte en caso de existir un ciclo infinito negativo.\n",
        "\n",
        "Para ello recibe como entrada un grafo de $v$ vertices y el nodo del que se quiere empezar.\n",
        "\n",
        "1. Primero crea una matriz auxiliar en la que se almacenarán las distancias óptimas.\n",
        "\n",
        "2. Calcula la distancia óptima para cada camino desde el nodo inicial hasta un nodo $k$ y guarda el valor mínimo entre la distancia directa o el camino óptimo anterior más el actual.\n",
        "\n",
        "3. Guarda el resultado en la matriz y continúa iterando hasta revisar todos los vertices.\n",
        "\n",
        "4. Luego verifica si existen ciclos infinitos, de ser así retorna false.\n",
        "\n",
        "5. Si no hay ciclos negativos, retorna el costo de todas las distancias más cortas desde el nodo fuente.\n",
        "\n",
        "> Cuando la variable `verbose` es `True` se muestra información para ver lo que pasa a medida que se ejecuta el código dentro de la función."
      ]
    },
    {
      "cell_type": "markdown",
      "source": [
        "## 2.3. Ejemplo\n",
        "\n",
        "Consideremos, por ejemplo, el grafo:\n",
        "\n",
        "$G:$\n",
        "\n",
        "Nodo --(costo)-> Nodo\n",
        "\n",
        "$(0)$ -[$-1$]-> $(1)$\n",
        "\n",
        "$(0)$ ---[$4$]--> $(2)$\n",
        "\n",
        "$(1)$ ---[$3$]--> $(2)$\n",
        "\n",
        "$(1)$ ---[$2$]--> $(3)$\n",
        "\n",
        "$(1)$ ---[$2$]--> $(4)$\n",
        "\n",
        "$(3)$ ---[$1$]--> $(1)$\n",
        "\n",
        "$(3)$ ---[$5$]--> $(2)$\n",
        "\n",
        "$(4)$ -[$-3$]-> $(3)$\n",
        "\n",
        "Y se quiere empezar desde el nodo $2$.\n",
        "\n",
        "Primero crea la matriz auxiliar de dimensiones $V*V$ donde $V$ es el número de nodos.\n",
        "\n",
        "Luego comienza a calcular la distancia desde el nodo $0$ hasta el nodo $1$, para ello toma el valor mínimo entre el costo directo ($-1$) y el anterior, sin embargo como no hay un anterior calculado se queda el directo.\n",
        "\n",
        "Luego calcula a distancia desde el nodo $0$ hasta el nodo $2$, al igual que antes no hay un camino diferente por lo que se queda el valor directo ($4$).\n",
        "\n",
        "Después como el nodo $0$ no tiene más arcos hacia otros nodos se pasa al nodo $1$.\n",
        "\n",
        "Al igual que con el nodo $0$ se calcula la distancia desde $1$ hasta $2$ y se obtiene que el camino desde $0$ hasta $2$ es de $4$ y el de $1$ hasta $0$ no existe por lo que no se puede y se mantiene el camino directo ($3$).\n",
        "\n",
        "Se hace lo mismo con el arco desde $1$ hasta $4$.\n",
        "\n",
        "Así continúa el algoritmo hasta que en el arco desde $3$ hasta $2$ sucede algo diferente:\n",
        "\n",
        "Aquí se ve que el camino desde $1$ hasta $2$ es de $3$ y el de $3$ hasta $1$ es $1$, lo que junto da $4$, lo cual es menor que el camino directo desde $3$ hasta $2$ que es de $5$, por lo que se guarda la combinación de caminos envez del camino directo.\n",
        "\n",
        "Luego el algoritmo continúa igual para el resto de nodos y arcos hasta finalizar con todos.\n",
        "\n",
        "Despues de esto comprueba si existen ciclos infinitos, esto viendo si aún existen arcos con un valor infinito. Si existe alguno retorna \"False\", finalizando.\n",
        "\n",
        "De lo contrario retorna las distancias calculadas y finaliza el algoritmo."
      ],
      "metadata": {
        "id": "PdibfTjsZ3Hg"
      }
    },
    {
      "cell_type": "markdown",
      "source": [
        "## 2.4. Ejecución del Algoritmo Paso a Paso (verbose = True)\n",
        "\n",
        "Al utilizar la opción `verbose=True` se puede ver paso a paso lo que le ocurre al arreglo en cada iteración del algoritmo."
      ],
      "metadata": {
        "id": "X8yPO6_NAf3P"
      }
    },
    {
      "cell_type": "code",
      "source": [
        "# Ejemplo\n",
        "grafo3 = []\n",
        "vertices3 = 5\n",
        "AnyadirArco(grafo3, 0, 1, -1)\n",
        "AnyadirArco(grafo3, 0, 2, 4)\n",
        "AnyadirArco(grafo3, 1, 2, 3)\n",
        "AnyadirArco(grafo3, 1, 3, 2)\n",
        "AnyadirArco(grafo3, 1, 4, 2)\n",
        "AnyadirArco(grafo3, 3, 1, 1)\n",
        "AnyadirArco(grafo3, 3, 2, 5)\n",
        "AnyadirArco(grafo3, 4, 3, -3)\n",
        "\n",
        "print(\"Entrada:\")\n",
        "ImprimirGrafo(grafo3)\n",
        "dist3 = BellmanFord(grafo3, vertices3, 0, True)\n",
        "print(\"\\nSalida:\")\n",
        "if (dist3 == False): print(\"El grafo tiene un ciclo negativo!\")\n",
        "else: ImprimirGrafoDistancias(grafo3, vertices3, dist3)"
      ],
      "metadata": {
        "id": "fefbQA4kAian"
      },
      "execution_count": null,
      "outputs": []
    },
    {
      "cell_type": "markdown",
      "source": [
        "## 2.5. Ejecución del Algoritmo Paso a Paso con Imagen del Grafo (visualize = True)\n",
        "\n",
        "Al utilizar la opción `visualize=True` se puede ver el grafo en una imagen, con todos sus nodos y los arcos de estos junto con su valor."
      ],
      "metadata": {
        "id": "j68ZP_QhAFoc"
      }
    },
    {
      "cell_type": "code",
      "source": [
        "# Ejemplo\n",
        "grafo4 = []\n",
        "vertices4 = 5\n",
        "AnyadirArco(grafo4, 0, 1, -1)\n",
        "AnyadirArco(grafo4, 0, 2, 4)\n",
        "AnyadirArco(grafo4, 1, 2, 3)\n",
        "AnyadirArco(grafo4, 1, 3, 2)\n",
        "AnyadirArco(grafo4, 1, 4, 2)\n",
        "AnyadirArco(grafo4, 3, 1, 1)\n",
        "AnyadirArco(grafo4, 3, 2, 5)\n",
        "AnyadirArco(grafo4, 4, 3, -3)\n",
        "\n",
        "print(\"Entrada:\")\n",
        "ImprimirGrafo(grafo4)\n",
        "dist4 = BellmanFord(grafo4, vertices4, 0, False, True)\n",
        "print(\"\\nSalida:\")\n",
        "if (dist4 == False): print(\"El grafo tiene un ciclo negativo!\")\n",
        "else: ImprimirGrafoDistancias(grafo4, vertices4, dist4)"
      ],
      "metadata": {
        "colab": {
          "base_uri": "https://localhost:8080/",
          "height": 560
        },
        "id": "kvnbFkO2AGG_",
        "outputId": "d408855f-320e-497f-b2c6-e4b0f93aa632"
      },
      "execution_count": 57,
      "outputs": [
        {
          "output_type": "stream",
          "name": "stdout",
          "text": [
            "Entrada:\n",
            "Nodo ---(costo)--> Nodo\n",
            "0 ---( -1 )--> 1\n",
            "0 ---( 4 )--> 2\n",
            "1 ---( 3 )--> 2\n",
            "1 ---( 2 )--> 3\n",
            "1 ---( 2 )--> 4\n",
            "3 ---( 1 )--> 1\n",
            "3 ---( 5 )--> 2\n",
            "4 ---( -3 )--> 3\n",
            "\n",
            "Salida:\n",
            "Distancia desde el nodo fuente hasta todos los nodos:\n",
            "0 :  0\n",
            "1 :  -1\n",
            "2 :  2\n",
            "3 :  -2\n",
            "4 :  1\n"
          ]
        },
        {
          "output_type": "display_data",
          "data": {
            "text/plain": [
              "<Figure size 432x288 with 1 Axes>"
            ],
            "image/png": "[encoded data removed]"
          },
          "metadata": {}
        }
      ]
    },
    {
      "cell_type": "markdown",
      "metadata": {
        "id": "IPfxz2eqi6_e"
      },
      "source": [
        "# 3. Algoritmo de Dijkstra\n",
        "\n",
        "El siguiente código muestra una implementación del **Algoritmo de Dijkstra**."
      ]
    },
    {
      "cell_type": "markdown",
      "metadata": {
        "id": "te8E6zwujcsk"
      },
      "source": [
        "## 3.1. Código del Algoritmo de Dijkstra"
      ]
    },
    {
      "cell_type": "code",
      "source": [
        "def Dijkstra(G, vertices, src, verbose = False, visualize = False):\n",
        "    if visualize == True: mostrarGrafo(G, vertices)\n",
        "    dist = [float(\"Inf\")] * vertices\n",
        "    dist[src] = 0\n",
        "    sptSet = [False] * vertices\n",
        "\n",
        "    for cout in range(vertices):\n",
        "        min = float(\"Inf\")\n",
        "        aux = -1\n",
        "        for k in range(vertices):\n",
        "            if dist[k] < min and sptSet[k] == False:\n",
        "                min = dist[k]\n",
        "                aux = k\n",
        "\n",
        "        sptSet[aux] = True\n",
        "\n",
        "        for u, v, w in G:\n",
        "            if u == aux:\n",
        "                if w > 0 and sptSet[v] == False and dist[v] > dist[u] + w:\n",
        "                    dist[v] = dist[u] + w\n",
        "    \n",
        "    return dist"
      ],
      "metadata": {
        "id": "1GdwhfD_Bd3C"
      },
      "execution_count": 98,
      "outputs": []
    },
    {
      "cell_type": "code",
      "execution_count": 105,
      "metadata": {
        "id": "oGJLvK--jAxG",
        "colab": {
          "base_uri": "https://localhost:8080/"
        },
        "outputId": "0414d518-6462-4d6a-f50e-aa1a336e3ad0"
      },
      "outputs": [
        {
          "output_type": "stream",
          "name": "stdout",
          "text": [
            "Entrada:\n",
            "Nodo ---(costo)--> Nodo\n",
            "0 ---( 11 )--> 1\n",
            "0 ---( 2 )--> 2\n",
            "1 ---( 7 )--> 0\n",
            "1 ---( 4 )--> 2\n",
            "2 ---( 5 )--> 3\n",
            "3 ---( 1 )--> 1\n",
            "\n",
            "Salida:\n",
            "Distancia desde el nodo fuente hasta todos los nodos:\n",
            "0 :  13\n",
            "1 :  6\n",
            "2 :  0\n",
            "3 :  5\n"
          ]
        }
      ],
      "source": [
        "# Ejemplo\n",
        "grafo5 = []\n",
        "vertices5 = 4\n",
        "AnyadirArco(grafo5, 0, 1, 11)\n",
        "AnyadirArco(grafo5, 0, 2, 2)\n",
        "AnyadirArco(grafo5, 1, 0, 7)\n",
        "AnyadirArco(grafo5, 1, 2, 4)\n",
        "AnyadirArco(grafo5, 2, 3, 5)\n",
        "AnyadirArco(grafo5, 3, 1, 1)\n",
        "\n",
        "print(\"Entrada:\")\n",
        "ImprimirGrafo(grafo5)\n",
        "dist5 = Dijkstra(grafo5, vertices5, 2)\n",
        "print(\"\\nSalida:\")\n",
        "ImprimirGrafoDistancias(grafo5, vertices5, dist5)"
      ]
    },
    {
      "cell_type": "markdown",
      "metadata": {
        "id": "y7FYdww7jhhG"
      },
      "source": [
        "## 3.2. Descripción del algoritmo\n",
        "\n",
        "El **Algoritmo de Dijkstra** calcula todos los posibles caminos desde un nodo inicial hasta todos los nodos del grafo y retorna todos los caminos óptimos. Este algoritmo a diferencia del algoritmo de Bellman-Ford solo funciona si los arcos son positivos.\n",
        "\n",
        "Para ello revisa el nodo fuente y busca el arco con menor costo, entonces va hacia él y marca al anterior como buscado, luego de los nodos alcanzables por los nodos buscados va hacia el de menor costo de ese y repite el proceso hasta haber buscado todos los nodos, entonces retorna una lista del costo del camino menor desde el nodo fuente hasta los otros nodos.\n",
        "\n",
        "> Cuando la variable `verbose` es `True` se muestra información para ver lo que pasa a medida que se ejecuta el código dentro de la función."
      ]
    },
    {
      "cell_type": "markdown",
      "metadata": {
        "id": "wqsr8TPVXqNE"
      },
      "source": [
        "## 3.3. Ejecución del Algoritmo Paso a Paso (verbose = True)\n",
        "\n",
        "Al utilizar la opción `verbose=True` se puede ver paso a paso lo que le ocurre al arreglo en cada iteración del algoritmo."
      ]
    },
    {
      "cell_type": "code",
      "execution_count": 94,
      "metadata": {
        "id": "8mb_Y42zaAyo",
        "colab": {
          "base_uri": "https://localhost:8080/"
        },
        "outputId": "3060955e-615f-4143-d83b-d3631d160106"
      },
      "outputs": [
        {
          "output_type": "stream",
          "name": "stdout",
          "text": [
            "Entrada:\n",
            "Nodo ---(costo)--> Nodo\n",
            "0 ---( 11 )--> 1\n",
            "0 ---( 2 )--> 2\n",
            "1 ---( 7 )--> 0\n",
            "1 ---( 4 )--> 2\n",
            "2 ---( 5 )--> 3\n",
            "3 ---( 1 )--> 1\n",
            "\n",
            "Salida:\n",
            "Distancia desde el nodo fuente hasta todos los nodos:\n",
            "0 :  13\n",
            "1 :  6\n",
            "2 :  0\n",
            "3 :  5\n"
          ]
        }
      ],
      "source": [
        "# Ejemplo\n",
        "grafo6 = []\n",
        "vertices6 = 4\n",
        "AnyadirArco(grafo6, 0, 1, 11)\n",
        "AnyadirArco(grafo6, 0, 2, 2)\n",
        "AnyadirArco(grafo6, 1, 0, 7)\n",
        "AnyadirArco(grafo6, 1, 2, 4)\n",
        "AnyadirArco(grafo6, 2, 3, 5)\n",
        "AnyadirArco(grafo6, 3, 1, 1)\n",
        "\n",
        "print(\"Entrada:\")\n",
        "ImprimirGrafo(grafo6)\n",
        "dist6 = Dijkstra(grafo6, vertices6, 2, True)\n",
        "print(\"\\nSalida:\")\n",
        "ImprimirGrafoDistancias(grafo6, vertices6, dist6)"
      ]
    },
    {
      "cell_type": "markdown",
      "source": [],
      "metadata": {
        "id": "uiofOtZYJbjG"
      }
    },
    {
      "cell_type": "code",
      "source": [
        "# Ejemplo\n",
        "grafo7 = []\n",
        "vertices7 = 4\n",
        "AnyadirArco(grafo7, 0, 1, 11)\n",
        "AnyadirArco(grafo7, 0, 2, 2)\n",
        "AnyadirArco(grafo7, 1, 0, 7)\n",
        "AnyadirArco(grafo7, 1, 2, 4)\n",
        "AnyadirArco(grafo7, 2, 3, 5)\n",
        "AnyadirArco(grafo7, 3, 1, 1)\n",
        "\n",
        "print(\"Entrada:\")\n",
        "ImprimirGrafo(grafo7)\n",
        "dist7 = Dijkstra(grafo7, vertices7, 2, False, True)\n",
        "print(\"\\nSalida:\")\n",
        "ImprimirGrafoDistancias(grafo7, vertices7, dist7)"
      ],
      "metadata": {
        "colab": {
          "base_uri": "https://localhost:8080/",
          "height": 508
        },
        "id": "4QBxxAsEJb3T",
        "outputId": "2478b010-074f-4d29-d55a-cf2f12ebe0dd"
      },
      "execution_count": 95,
      "outputs": [
        {
          "output_type": "stream",
          "name": "stdout",
          "text": [
            "Entrada:\n",
            "Nodo ---(costo)--> Nodo\n",
            "0 ---( 11 )--> 1\n",
            "0 ---( 2 )--> 2\n",
            "1 ---( 7 )--> 0\n",
            "1 ---( 4 )--> 2\n",
            "2 ---( 5 )--> 3\n",
            "3 ---( 1 )--> 1\n",
            "\n",
            "Salida:\n",
            "Distancia desde el nodo fuente hasta todos los nodos:\n",
            "0 :  13\n",
            "1 :  6\n",
            "2 :  0\n",
            "3 :  5\n"
          ]
        },
        {
          "output_type": "display_data",
          "data": {
            "text/plain": [
              "<Figure size 432x288 with 1 Axes>"
            ],
            "image/png": "[encoded data removed]"
          },
          "metadata": {}
        }
      ]
    },
    {
      "cell_type": "markdown",
      "metadata": {
        "id": "2vcJc3vGX-uq"
      },
      "source": [
        "# 4. Tiempo de ejecución\n",
        "\n",
        "## 4.1. Algoritmo BellmanFord\n",
        "\n",
        "### 4.1.1. Fórmula de recurrencia\n",
        "\n",
        "La fórmula de recurrencia **T(v)** donde $v$ es el número de vértices o nodos, del algoritmo se obtiene analizando sus partes.\n",
        "\n",
        "Para el caso base $v \\leq 1$ el grafo solo tiene un nodo, por lo cual no puede tener arcos, en cuyo caso no existe un camino más corto, por ello tiene un tiempo de ejecución de $O(1)$.\n",
        "\n",
        "Para el resto de casos se tiene:\n",
        "\n",
        "- Un ciclo while que itera $v-1$ veces, por ello tiene un tiempo de ejecución de $O(v)$.\n",
        "\n",
        "    - Dentro hay un ciclo for que itera una vez por cada arco del grafo. Como a lo más pueden haber $v-1$ arcos por nodo, esto tiene un tiempo de ejecución de $O(v^2)$.\n",
        "\n",
        "Juntando las partes se tiene que\n",
        "\n",
        "$T(v) = O(v) * O(v^2)$\n",
        "\n",
        "$T(v) = O(v^3)$\n",
        "\n",
        "Por lo cual la complejidad temporal del algoritmo es $O(v^3)$.\n",
        "\n",
        "## 4.2. Algoritmo de Dijsktra\n",
        "\n",
        "### 4.2.1. Fórmula de recurrencia\n",
        "\n",
        "La fórmula de recurrencia **T(v)** donde $v$ es el número de vértices o nodos, del algoritmo se obtiene analizando sus partes.\n",
        "\n",
        "Para el caso base $v \\leq 1$ el grafo solo tiene un nodo, por lo cual no puede tener arcos, en cuyo caso no existe un camino más corto, por ello tiene un tiempo de ejecución de $O(1)$.\n",
        "\n",
        "Para el resto de casos se tiene:\n",
        "\n",
        "- Un ciclo while que itera $v$ veces, por ello tiene un tiempo de ejecución de $O(v)$.\n",
        "\n",
        "    - Dentro hay:\n",
        "        - un ciclo for que itera $v$ veces para encontrar el arco con menor peso, también con un tiempo de ejecución de $O(v)$.\n",
        "        - otro ciclo for que itera una vez por cada arco del grafo, representado por $e$, por lo que se tiene $O(e)$.\n",
        "\n",
        "Juntando las partes se tiene que\n",
        "\n",
        "$T(v) = O(v) * (O(v) + O(e))$\n",
        "\n",
        "$T(v) = O(v^2) + O(v*e)$\n",
        "\n",
        "Como a lo más hay $v^2$ arcos:\n",
        "\n",
        "$T(v) = O(v^2) + O(v^3)$\n",
        "\n",
        "Por lo cual la complejidad temporal del algoritmo es $O(v^2 + v^3)$ para esta implementación, sin embargo existen otros métodos para encontrar el arco menor, por lo que se podría optimizar hasta un tiempo de ejecución de $O(v^2)$ o incluso $O(e + v*log (v))$."
      ]
    },
    {
      "cell_type": "markdown",
      "metadata": {
        "id": "UWcUdWFj-eeJ"
      },
      "source": [
        "# 5. Complejidad espacial\n",
        "\n",
        "Ambos algoritmos crean un arreglo de $(e)$ elementos donde $e$ es el número de arcos del grafo, este arreglo almacena los caminos menores desde el nodo $src$ hasta cada uno de los otros nodos, por ello la complejidad espacial del algoritmo es de $O(e)$, sin embargo como a lo más el grafo va a tener $v-1$ arcos donde $v$ es el número de nodos, la complejidad espacial de ambos algoritmos es $O(v)$."
      ]
    },
    {
      "cell_type": "markdown",
      "metadata": {
        "id": "TGRHLXv3ptc1"
      },
      "source": [
        "# 6. Correctitud \n",
        "\n",
        "## 6.1. Teorema (Correctitud del Algoritmo de Bellman-Ford)\n",
        "\n",
        "El algoritmo Bellman-Ford retorna un arreglo con la distancia más corta desde un nodo hacia el resto. En caso de que haya un ciclo infinito retorna False.\n",
        "\n",
        "## 6.2. Prueba del Teorema por medio de Inducción\n",
        "\n",
        "\n",
        "### Hipótesis\n",
        "\n",
        "Luego de $i$ repeticiones del ciclo for\n",
        "- Si la dist($u$) no es infinito, es igual a la longitud de algún camino desde $s$ hasta $u$.\n",
        "- Si hay un camino que va de $s$ hasta $u$ con, a lo más, $i$ arcos, entonces la dist($u$) es a lo más la longitud del camino más corto desde $s$ hasta $u$, con a lo más $i$ arcos.\n",
        "\n",
        "### Caso base ($i = 0$)\n",
        "\n",
        "El único nodo separado por $0$ arcos del nodo origen $s$ es el mismo nodo $s$, por lo tanto se cumple la hipótesis para este caso.\n",
        "\n",
        "### Caso inductivo\n",
        "\n",
        "Al comienzo de la iteración $i$, por inducción, sabemos que antes la distancia actual de $u$ a un nodo $v$, corresponde a la distancia del camino más corto pasando a lo más por $i - 1$ arcos, pero ahora estaríamos considerando la posibilidad de que exista un camino, que contenga un arco adicional, y que minimize esta distancia. Por lo que tendríamos dos casos:\n",
        "- El camino más corto de $u$ a $v$ está formado por $i - 1$ arcos o menos. En este caso, ningún camino de $u$ a $v$ formado por $i$ arcos minimizaría la distancia, por lo que se mantendría el valor de la iteración anterior.\n",
        "- El camino más corto de $u$ a $v$ está formado por $i - 1$ arcos o menos más el arco hasta $v$. En este caso, consideraremos un nodo predecesor a $v$ llamado $k$, de forma que el camino que une a estos dos nodos está formado por $i - 1$ arcos o menos. Por inducción sabemos que la distancia al nodo $k$ es óptima, luego al sumar este valor con el peso del arco $(k,v)$ se obtendrá una nueva distancia para $v$.\n",
        "\n",
        "Como en cada iteración se recorren todos los arcos del grafo, al final se tendrá la distancia desde el nodo de origen hasta todos los otros nodos y esta será la menor posible."
      ]
    },
    {
      "cell_type": "markdown",
      "source": [
        "# 7. Experimentos"
      ],
      "metadata": {
        "id": "IIUVL5G3NqwX"
      }
    },
    {
      "cell_type": "code",
      "source": [
        "# Funciones varias, principalmente utilizadas en verbose y experimentos\n",
        "import networkx as nx\n",
        "\n",
        "def AnyadirArco(grafo, u, v, w):\n",
        "\tgrafo.append([u, v, w])\n",
        "\n",
        "def ImprimirGrafoDistancias(grafo, vertices, dist):\n",
        "    print(\"Distancia desde el nodo fuente hasta todos los nodos:\")\n",
        "    for i in range(vertices):\n",
        "            print(i,\": \", dist[i])\n",
        "\n",
        "def ImprimirGrafo(grafo):\n",
        "    print(\"Nodo ---(costo)--> Nodo\")\n",
        "    for u, v, w in grafo:\n",
        "            print(u,\"---(\",w,\")-->\",v)\n",
        "\n",
        "import random\n",
        "\n",
        "def is_valid_edge(generated_edges: dict, i: int, j: int):\n",
        "    return i != j and not generated_edges.get((i, j), None) and not generated_edges.get((j, i), None)\n",
        "\n",
        "def instance_generator(n: int):\n",
        "    \"\"\"\n",
        "        Input: cantidad de vértices\n",
        "        Output: una lista que contiene todos los arcos y el número del vértice fuente (la función retorna dos variables).\n",
        "        Los arcos vienen en la forma (i, j, weight), donde i es el vértice origen del arco y j el vértice al que apunta el arco, mientras que weight es su peso.\n",
        "    \"\"\"\n",
        "    graph = []\n",
        "    nodes = random.sample(range(0, n), n)\n",
        "    unvisited_nodes = random.sample(range(0, n), n)\n",
        "    \n",
        "    generated_edges = {}\n",
        "    for i in nodes:\n",
        "        rand = random.sample(nodes, random.randint(1, 3))\n",
        "\n",
        "        for j in rand:\n",
        "            edge = (i, j)\n",
        "            edge_with_weight = (i, j, random.randint(1, 100))\n",
        "            \n",
        "            if generated_edges.get((edge[1], edge[0]), None):\n",
        "                continue\n",
        "            \n",
        "            if i == j:\n",
        "                new_vertice = None\n",
        "                iterations = 0\n",
        "                while new_vertice is None and iterations < 250:\n",
        "                    iterations += 1\n",
        "                    number = random.randint(0, n - 1)\n",
        "                    if is_valid_edge(generated_edges, i, number):\n",
        "                        new_vertice = number\n",
        "\n",
        "                if iterations >= 250:\n",
        "                    return instance_generator(n)\n",
        "                \n",
        "                edge = (i, new_vertice)\n",
        "                edge_with_weight = (i, new_vertice, random.randint(-25, 100)) # -25 y 100 corresponde a los límites de los pesos, puede cambiarlos.\n",
        "            \n",
        "            graph.append(edge_with_weight)\n",
        "            generated_edges[edge] = edge\n",
        "\n",
        "            if edge_with_weight[1] in unvisited_nodes:\n",
        "                unvisited_nodes.remove(edge_with_weight[1])\n",
        "\n",
        "    for i in unvisited_nodes:\n",
        "        valid_edge = False\n",
        "        iterations = 0\n",
        "        while not valid_edge and iterations < 250:\n",
        "            iterations += 1\n",
        "            m = random.randint(0, n - 1)\n",
        "            if is_valid_edge(generated_edges, m, i):\n",
        "                valid_edge = True\n",
        "                edge = (m, i)\n",
        "                edge_with_weight = (m, i, random.randint(-25, 100)) # -25 y 100 corresponde a los límites de los pesos, puede cambiarlos.\n",
        "                graph.append(edge_with_weight)\n",
        "                generated_edges[edge] = edge\n",
        "\n",
        "        if iterations >= 250:\n",
        "            return instance_generator(n)\n",
        "\n",
        "    return graph, graph[0][0]\n",
        "\n",
        "def instance_generator2(n: int):\n",
        "    \"\"\"\n",
        "        Input: cantidad de vértices\n",
        "        Output: una lista que contiene todos los arcos y el número del vértice fuente (la función retorna dos variables).\n",
        "        Los arcos vienen en la forma (i, j, weight), donde i es el vértice origen del arco y j el vértice al que apunta el arco, mientras que weight es su peso.\n",
        "    \"\"\"\n",
        "    graph = []\n",
        "    nodes = random.sample(range(0, n), n)\n",
        "    unvisited_nodes = random.sample(range(0, n), n)\n",
        "    \n",
        "    generated_edges = {}\n",
        "    for i in nodes:\n",
        "        rand = random.sample(nodes, random.randint(1, 3))\n",
        "\n",
        "        for j in rand:\n",
        "            edge = (i, j)\n",
        "            edge_with_weight = (i, j, random.randint(1, 100))\n",
        "            \n",
        "            if generated_edges.get((edge[1], edge[0]), None):\n",
        "                continue\n",
        "            \n",
        "            if i == j:\n",
        "                new_vertice = None\n",
        "                iterations = 0\n",
        "                while new_vertice is None and iterations < 250:\n",
        "                    iterations += 1\n",
        "                    number = random.randint(0, n - 1)\n",
        "                    if is_valid_edge(generated_edges, i, number):\n",
        "                        new_vertice = number\n",
        "\n",
        "                if iterations >= 250:\n",
        "                    return instance_generator(n)\n",
        "                \n",
        "                edge = (i, new_vertice)\n",
        "                edge_with_weight = (i, new_vertice, random.randint(1, 100)) # -25 y 100 corresponde a los límites de los pesos, puede cambiarlos.\n",
        "            \n",
        "            graph.append(edge_with_weight)\n",
        "            generated_edges[edge] = edge\n",
        "\n",
        "            if edge_with_weight[1] in unvisited_nodes:\n",
        "                unvisited_nodes.remove(edge_with_weight[1])\n",
        "\n",
        "    for i in unvisited_nodes:\n",
        "        valid_edge = False\n",
        "        iterations = 0\n",
        "        while not valid_edge and iterations < 250:\n",
        "            iterations += 1\n",
        "            m = random.randint(0, n - 1)\n",
        "            if is_valid_edge(generated_edges, m, i):\n",
        "                valid_edge = True\n",
        "                edge = (m, i)\n",
        "                edge_with_weight = (m, i, random.randint(1, 100)) # -25 y 100 corresponde a los límites de los pesos, puede cambiarlos.\n",
        "                graph.append(edge_with_weight)\n",
        "                generated_edges[edge] = edge\n",
        "\n",
        "        if iterations >= 250:\n",
        "            return instance_generator(n)\n",
        "\n",
        "    return graph, graph[0][0]\n",
        "\n",
        "def graph_to_nxdigraph(graph: list, n: int):\n",
        "    \"\"\"\n",
        "        Input: Un grafo en formato list[tuple]. Ej: [(0, 1, 10), (1, 2, 15), (2, 0, 7)].\n",
        "        Output: Un nx.DiGraph de la libreria networkx.\n",
        "    \"\"\"\n",
        "    nxdigraph = nx.DiGraph()\n",
        "    [nxdigraph.add_node(i) for i in range(n)]\n",
        "\n",
        "    for v in graph:\n",
        "        nxdigraph.add_edge(v[0], v[1], weight=v[2])\n",
        "\n",
        "    return nxdigraph\n",
        "\n",
        "def mostrarGrafo(G, v):\n",
        "    labels = nx.get_edge_attributes(graph_to_nxdigraph(G,v),'weight')\n",
        "    nx.draw_networkx(graph_to_nxdigraph(G,v), pos= nx.circular_layout(graph_to_nxdigraph(G,v)), with_labels = True, font_weight = 'bold')\n",
        "    nx.draw_networkx_edge_labels(graph_to_nxdigraph(G,v), pos=nx.circular_layout(graph_to_nxdigraph(G,v)),edge_labels = labels,font_weight='bold')"
      ],
      "metadata": {
        "id": "ly9z7mEVKXHO"
      },
      "execution_count": 134,
      "outputs": []
    },
    {
      "cell_type": "markdown",
      "metadata": {
        "id": "egXBgNChckAP"
      },
      "source": [
        "## 7.1. Tiempo de ejecución experimental\n",
        "\n",
        "El siguiente gráfico muestra el comportamiento del tiempo de ejecución del **Algoritmo de Bellman-Ford** en relación a la cantidad de nodos $n \\in [3,50]$ para $25$ grafos generados aleatoriamente."
      ]
    },
    {
      "cell_type": "code",
      "execution_count": 125,
      "metadata": {
        "colab": {
          "base_uri": "https://localhost:8080/",
          "height": 279
        },
        "id": "uJtWGG7TcmMx",
        "outputId": "0d142d6c-600d-451a-d027-7f2f386396da"
      },
      "outputs": [
        {
          "output_type": "display_data",
          "data": {
            "text/plain": [
              "<Figure size 432x288 with 1 Axes>"
            ],
            "image/png": "[encoded data removed]"
          },
          "metadata": {
            "needs_background": "light"
          }
        }
      ],
      "source": [
        "import matplotlib.pyplot as plt\n",
        "import datetime\n",
        "import random\n",
        "from timeit import repeat\n",
        "\n",
        "x = []\n",
        "y = []\n",
        "\n",
        "for n in range(3,51):\n",
        "    x.append(n)\n",
        "    tTotal = 0\n",
        "    for i in range(25):\n",
        "        grafo, m = instance_generator(n)\n",
        "        t = repeat(setup=\"from __main__ import BellmanFord\", stmt=f\"BellmanFord({grafo}, {n}, {m})\", repeat=1, number=10)\n",
        "        for k in t:\n",
        "            tTotal += k\n",
        "    tTotal /= 25\n",
        "    y.append(tTotal)\n",
        "\n",
        "plt.plot(x,y)\n",
        "\n",
        "plt.xlabel('Cantidad de Nodos')\n",
        "plt.ylabel('Tiempo en milisegundos')\n",
        "plt.show()"
      ]
    },
    {
      "cell_type": "markdown",
      "metadata": {
        "id": "zp478AVMdFd1"
      },
      "source": [
        "### Análisis del gráfico\n",
        "\n",
        "Del gráfico se puede ver que como era de esperarse el algoritmo se comporta de forma exponencial, con cierta vibración debido a que los grafos generados podían tener más o menos arcos, y el algoritmo recorre cada arco por lo que con menos arcos el algoritmo tardaría menos."
      ]
    },
    {
      "cell_type": "markdown",
      "metadata": {
        "id": "kZyYQSvRdXVh"
      },
      "source": [
        "# 7.2. Analisis Elemento con mayor probabilidad como raiz\n",
        "\n",
        "El siguiente gráfico muestra una comparación entre los tiempos de ejecución de los algoritmos de **Bellman-Ford** y **Dijsktra**.\n"
      ]
    },
    {
      "cell_type": "code",
      "execution_count": 135,
      "metadata": {
        "id": "nXJgkTxJdjE7",
        "colab": {
          "base_uri": "https://localhost:8080/",
          "height": 279
        },
        "outputId": "c89060e6-daa2-47de-94ca-a53594f80a02"
      },
      "outputs": [
        {
          "output_type": "display_data",
          "data": {
            "text/plain": [
              "<Figure size 432x288 with 1 Axes>"
            ],
            "image/png": "[encoded data removed]"
          },
          "metadata": {
            "needs_background": "light"
          }
        }
      ],
      "source": [
        "import matplotlib.pyplot as plt\n",
        "import datetime\n",
        "import random\n",
        "from timeit import repeat\n",
        "\n",
        "x = []\n",
        "yB = []\n",
        "yD = []\n",
        "graph = nx.Graph()\n",
        "\n",
        "for n in range(3,101):\n",
        "  grafo, m = instance_generator2(n)\n",
        "  x.append(n)\n",
        "  t = repeat(setup=\"from __main__ import BellmanFord\", stmt=f\"BellmanFord({grafo}, {n}, {m})\", repeat=1, number=10)\n",
        "  yB.append(t)\n",
        "  t = repeat(setup=\"from __main__ import Dijkstra\", stmt=f\"Dijkstra({grafo}, {n}, {m})\", repeat=1, number=10)\n",
        "  yD.append(t)\n",
        "\n",
        "plt.plot(x,yB)\n",
        "plt.plot(x,yD)\n",
        "plt.legend([\"Bellman-Ford\", \"Dijsktra\"])\n",
        "\n",
        "plt.xlabel('n')\n",
        "plt.ylabel('Tiempo en milisegundos')\n",
        "plt.show()"
      ]
    },
    {
      "cell_type": "markdown",
      "metadata": {
        "id": "hoqin5fbdeGH"
      },
      "source": [
        "### Analisis del gráfico\n",
        "\n",
        "En el gráfico se observa que el **Algoritmo de Dijsktra** es muchísimo más rápido que el **Algoritmo de Bellman-Ford**, especialmente para grafos con muchos nodos, por ello es claramente mejor utilizar el **Algoritmo de Dijsktra** siempre y cuando los arcos tengan valores únicamente positivos, de lo contrario el algoritmo no retornará valores correctos, en cuyo caso habría que usar el **Algoritmo de Bellman-Ford** ya que ese si permite arcos negativos."
      ]
    }
  ],
  "metadata": {
    "colab": {
      "collapsed_sections": [
        "zp478AVMdFd1"
      ],
      "provenance": [],
      "authorship_tag": "ABX9TyM7blYqtLifyTq5moZQFTDN",
      "include_colab_link": true
    },
    "kernelspec": {
      "display_name": "Python 3",
      "name": "python3"
    },
    "language_info": {
      "name": "python"
    }
  },
  "nbformat": 4,
  "nbformat_minor": 0
}